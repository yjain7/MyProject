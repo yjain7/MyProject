{
 "cells": [
  {
   "cell_type": "code",
   "execution_count": 96,
   "id": "797bc962",
   "metadata": {},
   "outputs": [
    {
     "name": "stderr",
     "output_type": "stream",
     "text": [
      "C:\\Users\\yjain7\\Anaconda3\\lib\\site-packages\\ipykernel\\ipkernel.py:287: DeprecationWarning: `should_run_async` will not call `transform_cell` automatically in the future. Please pass the result to `transformed_cell` argument and any exception that happen during thetransform in `preprocessing_exc_tuple` in IPython 7.17 and above.\n",
      "  and should_run_async(code)\n",
      "WARNING: You are using pip version 21.3.1; however, version 22.0.4 is available.\n",
      "You should consider upgrading via the 'c:\\users\\yjain7\\anaconda3\\python.exe -m pip install --upgrade pip' command.\n",
      "WARNING: You are using pip version 21.3.1; however, version 22.0.4 is available.\n",
      "You should consider upgrading via the 'c:\\users\\yjain7\\anaconda3\\python.exe -m pip install --upgrade pip' command.\n"
     ]
    }
   ],
   "source": [
    "!pip install praw --quiet\n",
    "!pip install twython --quiet"
   ]
  },
  {
   "cell_type": "code",
   "execution_count": 2,
   "id": "f57cffee",
   "metadata": {},
   "outputs": [
    {
     "name": "stderr",
     "output_type": "stream",
     "text": [
      "C:\\Users\\yjain7\\Anaconda3\\lib\\site-packages\\fsspec\\registry.py:188: DeprecationWarning: distutils Version classes are deprecated. Use packaging.version instead.\n",
      "  minversions = {\"s3fs\": LooseVersion(\"0.3.0\"), \"gcsfs\": LooseVersion(\"0.3.0\")}\n",
      "C:\\Users\\yjain7\\Anaconda3\\lib\\site-packages\\fsspec\\registry.py:188: DeprecationWarning: distutils Version classes are deprecated. Use packaging.version instead.\n",
      "  minversions = {\"s3fs\": LooseVersion(\"0.3.0\"), \"gcsfs\": LooseVersion(\"0.3.0\")}\n",
      "C:\\Users\\yjain7\\Anaconda3\\lib\\site-packages\\matplotlib\\__init__.py:169: DeprecationWarning: distutils Version classes are deprecated. Use packaging.version instead.\n",
      "  if LooseVersion(module.__version__) < minver:\n",
      "C:\\Users\\yjain7\\Anaconda3\\lib\\site-packages\\setuptools\\_distutils\\version.py:351: DeprecationWarning: distutils Version classes are deprecated. Use packaging.version instead.\n",
      "  other = LooseVersion(other)\n",
      "C:\\Users\\yjain7\\Anaconda3\\lib\\site-packages\\matplotlib\\__init__.py:169: DeprecationWarning: distutils Version classes are deprecated. Use packaging.version instead.\n",
      "  if LooseVersion(module.__version__) < minver:\n",
      "C:\\Users\\yjain7\\Anaconda3\\lib\\site-packages\\setuptools\\_distutils\\version.py:351: DeprecationWarning: distutils Version classes are deprecated. Use packaging.version instead.\n",
      "  other = LooseVersion(other)\n",
      "C:\\Users\\yjain7\\Anaconda3\\lib\\site-packages\\matplotlib\\__init__.py:169: DeprecationWarning: distutils Version classes are deprecated. Use packaging.version instead.\n",
      "  if LooseVersion(module.__version__) < minver:\n",
      "C:\\Users\\yjain7\\Anaconda3\\lib\\site-packages\\setuptools\\_distutils\\version.py:351: DeprecationWarning: distutils Version classes are deprecated. Use packaging.version instead.\n",
      "  other = LooseVersion(other)\n",
      "C:\\Users\\yjain7\\Anaconda3\\lib\\site-packages\\matplotlib\\__init__.py:169: DeprecationWarning: distutils Version classes are deprecated. Use packaging.version instead.\n",
      "  if LooseVersion(module.__version__) < minver:\n",
      "C:\\Users\\yjain7\\Anaconda3\\lib\\site-packages\\setuptools\\_distutils\\version.py:351: DeprecationWarning: distutils Version classes are deprecated. Use packaging.version instead.\n",
      "  other = LooseVersion(other)\n",
      "C:\\Users\\yjain7\\Anaconda3\\lib\\site-packages\\matplotlib\\__init__.py:169: DeprecationWarning: distutils Version classes are deprecated. Use packaging.version instead.\n",
      "  if LooseVersion(module.__version__) < minver:\n",
      "C:\\Users\\yjain7\\Anaconda3\\lib\\site-packages\\setuptools\\_distutils\\version.py:351: DeprecationWarning: distutils Version classes are deprecated. Use packaging.version instead.\n",
      "  other = LooseVersion(other)\n",
      "C:\\Users\\yjain7\\Anaconda3\\lib\\site-packages\\seaborn\\rcmod.py:82: DeprecationWarning: distutils Version classes are deprecated. Use packaging.version instead.\n",
      "  if LooseVersion(mpl.__version__) >= \"3.0\":\n",
      "C:\\Users\\yjain7\\Anaconda3\\lib\\site-packages\\setuptools\\_distutils\\version.py:351: DeprecationWarning: distutils Version classes are deprecated. Use packaging.version instead.\n",
      "  other = LooseVersion(other)\n",
      "C:\\Users\\yjain7\\Anaconda3\\lib\\site-packages\\seaborn\\rcmod.py:402: DeprecationWarning: distutils Version classes are deprecated. Use packaging.version instead.\n",
      "  if LooseVersion(mpl.__version__) >= \"3.0\":\n",
      "C:\\Users\\yjain7\\Anaconda3\\lib\\site-packages\\setuptools\\_distutils\\version.py:351: DeprecationWarning: distutils Version classes are deprecated. Use packaging.version instead.\n",
      "  other = LooseVersion(other)\n"
     ]
    }
   ],
   "source": [
    "import pandas as pd\n",
    "import numpy as np\n",
    "\n",
    "# misc\n",
    "import datetime as dt\n",
    "from pprint import pprint\n",
    "from itertools import chain\n",
    "# install gensim and pyLDAvis before you run this code\n",
    "from gensim import corpora\n",
    "from gensim import models\n",
    "import pyLDAvis\n",
    "import pyLDAvis.gensim_models\n",
    "import spacy\n",
    "import json\n",
    "import pandas as pd\n",
    "import re\n",
    "from datetime import datetime\n",
    "# reddit crawler\n",
    "import praw\n",
    "\n",
    "# sentiment analysis\n",
    "import nltk\n",
    "from nltk.sentiment.vader import SentimentIntensityAnalyzer\n",
    "from nltk.tokenize import word_tokenize, RegexpTokenizer # tokenize words\n",
    "from nltk.corpus import stopwords\n",
    "\n",
    "# visualization\n",
    "import matplotlib.pyplot as plt\n",
    "%matplotlib inline\n",
    "plt.rcParams[\"figure.figsize\"] = (10, 8) # default plot size\n",
    "import seaborn as sns\n",
    "sns.set(style='whitegrid', palette='Dark2')\n",
    "#from wordcloud import WordCloud"
   ]
  },
  {
   "cell_type": "code",
   "execution_count": 3,
   "id": "a7fc2509",
   "metadata": {},
   "outputs": [
    {
     "name": "stderr",
     "output_type": "stream",
     "text": [
      "C:\\Users\\yjain7\\Anaconda3\\lib\\site-packages\\ipykernel\\ipkernel.py:287: DeprecationWarning: `should_run_async` will not call `transform_cell` automatically in the future. Please pass the result to `transformed_cell` argument and any exception that happen during thetransform in `preprocessing_exc_tuple` in IPython 7.17 and above.\n",
      "  and should_run_async(code)\n",
      "[nltk_data] Downloading package vader_lexicon to\n",
      "[nltk_data]     C:\\Users\\yjain7\\AppData\\Roaming\\nltk_data...\n",
      "[nltk_data]   Package vader_lexicon is already up-to-date!\n",
      "[nltk_data] Downloading package punkt to\n",
      "[nltk_data]     C:\\Users\\yjain7\\AppData\\Roaming\\nltk_data...\n",
      "[nltk_data]   Package punkt is already up-to-date!\n",
      "[nltk_data] Downloading package stopwords to\n",
      "[nltk_data]     C:\\Users\\yjain7\\AppData\\Roaming\\nltk_data...\n",
      "[nltk_data]   Package stopwords is already up-to-date!\n"
     ]
    },
    {
     "data": {
      "text/plain": [
       "True"
      ]
     },
     "execution_count": 3,
     "metadata": {},
     "output_type": "execute_result"
    }
   ],
   "source": [
    "nltk.download('vader_lexicon') # get lexicons data\n",
    "nltk.download('punkt') # for tokenizer\n",
    "nltk.download('stopwords')"
   ]
  },
  {
   "cell_type": "code",
   "execution_count": 4,
   "id": "d1f40410",
   "metadata": {},
   "outputs": [
    {
     "name": "stderr",
     "output_type": "stream",
     "text": [
      "C:\\Users\\yjain7\\Anaconda3\\lib\\site-packages\\ipykernel\\ipkernel.py:287: DeprecationWarning: `should_run_async` will not call `transform_cell` automatically in the future. Please pass the result to `transformed_cell` argument and any exception that happen during thetransform in `preprocessing_exc_tuple` in IPython 7.17 and above.\n",
      "  and should_run_async(code)\n"
     ]
    }
   ],
   "source": [
    "nlp = spacy.load(\"en_core_web_lg\")\n",
    "\n",
    "#documents = []\n",
    "df= pd.read_csv(\"C:/Users/yjain7/Downloads/Output_full.csv\")\n",
    "#for index,row in df.iterrows():\n",
    "    #nn=datetime.strptime(row['timestamp'], '%m/%d/%Y %H:%M')\n",
    "    #if(nn.year<2020):\n",
    "        #documents.append(row['msg_body'])\n",
    "\n",
    "   "
   ]
  },
  {
   "cell_type": "code",
   "execution_count": 5,
   "id": "21f4a10a",
   "metadata": {},
   "outputs": [
    {
     "name": "stderr",
     "output_type": "stream",
     "text": [
      "C:\\Users\\yjain7\\Anaconda3\\lib\\site-packages\\ipykernel\\ipkernel.py:287: DeprecationWarning: `should_run_async` will not call `transform_cell` automatically in the future. Please pass the result to `transformed_cell` argument and any exception that happen during thetransform in `preprocessing_exc_tuple` in IPython 7.17 and above.\n",
      "  and should_run_async(code)\n"
     ]
    },
    {
     "data": {
      "text/html": [
       "<div>\n",
       "<style scoped>\n",
       "    .dataframe tbody tr th:only-of-type {\n",
       "        vertical-align: middle;\n",
       "    }\n",
       "\n",
       "    .dataframe tbody tr th {\n",
       "        vertical-align: top;\n",
       "    }\n",
       "\n",
       "    .dataframe thead th {\n",
       "        text-align: right;\n",
       "    }\n",
       "</style>\n",
       "<table border=\"1\" class=\"dataframe\">\n",
       "  <thead>\n",
       "    <tr style=\"text-align: right;\">\n",
       "      <th></th>\n",
       "      <th>comment_id</th>\n",
       "      <th>comment_parent_id</th>\n",
       "      <th>comment_body</th>\n",
       "      <th>comment_link_id</th>\n",
       "      <th>year</th>\n",
       "      <th>Unnamed: 5</th>\n",
       "      <th>Unnamed: 6</th>\n",
       "      <th>Unnamed: 7</th>\n",
       "      <th>Unnamed: 8</th>\n",
       "      <th>Unnamed: 9</th>\n",
       "      <th>Unnamed: 10</th>\n",
       "      <th>topic</th>\n",
       "      <th>covid</th>\n",
       "    </tr>\n",
       "  </thead>\n",
       "  <tbody>\n",
       "    <tr>\n",
       "      <th>0</th>\n",
       "      <td>ecy9rwo</td>\n",
       "      <td>t1_ecy9kit</td>\n",
       "      <td>\\n__^[wow ^so ^verify]__: ^/u/tomcarbon ^-&gt; ^/...</td>\n",
       "      <td>t3_ab7uj1</td>\n",
       "      <td>2018.0</td>\n",
       "      <td>NaN</td>\n",
       "      <td>NaN</td>\n",
       "      <td>NaN</td>\n",
       "      <td>NaN</td>\n",
       "      <td>NaN</td>\n",
       "      <td>NaN</td>\n",
       "      <td>Investing cautiously</td>\n",
       "      <td>before</td>\n",
       "    </tr>\n",
       "    <tr>\n",
       "      <th>1</th>\n",
       "      <td>ecxxl16</td>\n",
       "      <td>t3_ab70c5</td>\n",
       "      <td>Your post must contain at least some words. Tr...</td>\n",
       "      <td>t3_ab70c5</td>\n",
       "      <td>2018.0</td>\n",
       "      <td>NaN</td>\n",
       "      <td>NaN</td>\n",
       "      <td>NaN</td>\n",
       "      <td>NaN</td>\n",
       "      <td>NaN</td>\n",
       "      <td>NaN</td>\n",
       "      <td>Investing cautiously</td>\n",
       "      <td>before</td>\n",
       "    </tr>\n",
       "    <tr>\n",
       "      <th>2</th>\n",
       "      <td>ecxtr9g</td>\n",
       "      <td>t3_ab6d7f</td>\n",
       "      <td>Hey there!\\n\\nI see you are new here, Welcome ...</td>\n",
       "      <td>t3_ab6d7f</td>\n",
       "      <td>2018.0</td>\n",
       "      <td>NaN</td>\n",
       "      <td>NaN</td>\n",
       "      <td>NaN</td>\n",
       "      <td>NaN</td>\n",
       "      <td>NaN</td>\n",
       "      <td>NaN</td>\n",
       "      <td>Investing cautiously</td>\n",
       "      <td>before</td>\n",
       "    </tr>\n",
       "    <tr>\n",
       "      <th>3</th>\n",
       "      <td>ecxc1g7</td>\n",
       "      <td>t3_ab3z7t</td>\n",
       "      <td>Hey there!\\n\\nI see you are new here, Welcome ...</td>\n",
       "      <td>t3_ab3z7t</td>\n",
       "      <td>2018.0</td>\n",
       "      <td>NaN</td>\n",
       "      <td>NaN</td>\n",
       "      <td>NaN</td>\n",
       "      <td>NaN</td>\n",
       "      <td>NaN</td>\n",
       "      <td>NaN</td>\n",
       "      <td>Investing cautiously</td>\n",
       "      <td>before</td>\n",
       "    </tr>\n",
       "    <tr>\n",
       "      <th>4</th>\n",
       "      <td>ecx3ic7</td>\n",
       "      <td>t3_ab306v</td>\n",
       "      <td>Hey there!\\n\\nI see you are new here, Welcome ...</td>\n",
       "      <td>t3_ab306v</td>\n",
       "      <td>2018.0</td>\n",
       "      <td>NaN</td>\n",
       "      <td>NaN</td>\n",
       "      <td>NaN</td>\n",
       "      <td>NaN</td>\n",
       "      <td>NaN</td>\n",
       "      <td>NaN</td>\n",
       "      <td>Investing cautiously</td>\n",
       "      <td>before</td>\n",
       "    </tr>\n",
       "    <tr>\n",
       "      <th>...</th>\n",
       "      <td>...</td>\n",
       "      <td>...</td>\n",
       "      <td>...</td>\n",
       "      <td>...</td>\n",
       "      <td>...</td>\n",
       "      <td>...</td>\n",
       "      <td>...</td>\n",
       "      <td>...</td>\n",
       "      <td>...</td>\n",
       "      <td>...</td>\n",
       "      <td>...</td>\n",
       "      <td>...</td>\n",
       "      <td>...</td>\n",
       "    </tr>\n",
       "    <tr>\n",
       "      <th>617</th>\n",
       "      <td>i4kbjdi</td>\n",
       "      <td>t1_i4kb02n</td>\n",
       "      <td>Every wallet is a compromise between security,...</td>\n",
       "      <td>t3_u2qawj</td>\n",
       "      <td>2022.0</td>\n",
       "      <td>NaN</td>\n",
       "      <td>NaN</td>\n",
       "      <td>NaN</td>\n",
       "      <td>NaN</td>\n",
       "      <td>NaN</td>\n",
       "      <td>NaN</td>\n",
       "      <td>wallet</td>\n",
       "      <td>after</td>\n",
       "    </tr>\n",
       "    <tr>\n",
       "      <th>618</th>\n",
       "      <td>i4kxnb3</td>\n",
       "      <td>t3_u2q6p3</td>\n",
       "      <td>I’m starting to believe it’ll never happen. St...</td>\n",
       "      <td>t3_u2q6p3</td>\n",
       "      <td>2022.0</td>\n",
       "      <td>NaN</td>\n",
       "      <td>NaN</td>\n",
       "      <td>NaN</td>\n",
       "      <td>NaN</td>\n",
       "      <td>NaN</td>\n",
       "      <td>NaN</td>\n",
       "      <td>wallet</td>\n",
       "      <td>after</td>\n",
       "    </tr>\n",
       "    <tr>\n",
       "      <th>619</th>\n",
       "      <td>i4lwwbs</td>\n",
       "      <td>t1_i4kioyc</td>\n",
       "      <td>Biggest mistake of my investing career was sta...</td>\n",
       "      <td>t3_u2q6p3</td>\n",
       "      <td>2022.0</td>\n",
       "      <td>NaN</td>\n",
       "      <td>NaN</td>\n",
       "      <td>NaN</td>\n",
       "      <td>NaN</td>\n",
       "      <td>NaN</td>\n",
       "      <td>NaN</td>\n",
       "      <td>wallet</td>\n",
       "      <td>after</td>\n",
       "    </tr>\n",
       "    <tr>\n",
       "      <th>620</th>\n",
       "      <td>i4mwrbr</td>\n",
       "      <td>t1_i4m039e</td>\n",
       "      <td>Yeah if you cant afford to leave the money the...</td>\n",
       "      <td>t3_u2q6p3</td>\n",
       "      <td>2022.0</td>\n",
       "      <td>NaN</td>\n",
       "      <td>NaN</td>\n",
       "      <td>NaN</td>\n",
       "      <td>NaN</td>\n",
       "      <td>NaN</td>\n",
       "      <td>NaN</td>\n",
       "      <td>wallet</td>\n",
       "      <td>after</td>\n",
       "    </tr>\n",
       "    <tr>\n",
       "      <th>621</th>\n",
       "      <td>i4n5pij</td>\n",
       "      <td>t1_i4my7m2</td>\n",
       "      <td>How much did you stake? Should be around 4% wh...</td>\n",
       "      <td>t3_u2q6p3</td>\n",
       "      <td>2022.0</td>\n",
       "      <td>NaN</td>\n",
       "      <td>NaN</td>\n",
       "      <td>NaN</td>\n",
       "      <td>NaN</td>\n",
       "      <td>NaN</td>\n",
       "      <td>NaN</td>\n",
       "      <td>wallet</td>\n",
       "      <td>after</td>\n",
       "    </tr>\n",
       "  </tbody>\n",
       "</table>\n",
       "<p>622 rows × 13 columns</p>\n",
       "</div>"
      ],
      "text/plain": [
       "    comment_id comment_parent_id  \\\n",
       "0      ecy9rwo        t1_ecy9kit   \n",
       "1      ecxxl16         t3_ab70c5   \n",
       "2      ecxtr9g         t3_ab6d7f   \n",
       "3      ecxc1g7         t3_ab3z7t   \n",
       "4      ecx3ic7         t3_ab306v   \n",
       "..         ...               ...   \n",
       "617    i4kbjdi        t1_i4kb02n   \n",
       "618    i4kxnb3         t3_u2q6p3   \n",
       "619    i4lwwbs        t1_i4kioyc   \n",
       "620    i4mwrbr        t1_i4m039e   \n",
       "621    i4n5pij        t1_i4my7m2   \n",
       "\n",
       "                                          comment_body comment_link_id  \\\n",
       "0    \\n__^[wow ^so ^verify]__: ^/u/tomcarbon ^-> ^/...       t3_ab7uj1   \n",
       "1    Your post must contain at least some words. Tr...       t3_ab70c5   \n",
       "2    Hey there!\\n\\nI see you are new here, Welcome ...       t3_ab6d7f   \n",
       "3    Hey there!\\n\\nI see you are new here, Welcome ...       t3_ab3z7t   \n",
       "4    Hey there!\\n\\nI see you are new here, Welcome ...       t3_ab306v   \n",
       "..                                                 ...             ...   \n",
       "617  Every wallet is a compromise between security,...       t3_u2qawj   \n",
       "618  I’m starting to believe it’ll never happen. St...       t3_u2q6p3   \n",
       "619  Biggest mistake of my investing career was sta...       t3_u2q6p3   \n",
       "620  Yeah if you cant afford to leave the money the...       t3_u2q6p3   \n",
       "621  How much did you stake? Should be around 4% wh...       t3_u2q6p3   \n",
       "\n",
       "       year  Unnamed: 5  Unnamed: 6  Unnamed: 7  Unnamed: 8  Unnamed: 9  \\\n",
       "0    2018.0         NaN         NaN         NaN         NaN         NaN   \n",
       "1    2018.0         NaN         NaN         NaN         NaN         NaN   \n",
       "2    2018.0         NaN         NaN         NaN         NaN         NaN   \n",
       "3    2018.0         NaN         NaN         NaN         NaN         NaN   \n",
       "4    2018.0         NaN         NaN         NaN         NaN         NaN   \n",
       "..      ...         ...         ...         ...         ...         ...   \n",
       "617  2022.0         NaN         NaN         NaN         NaN         NaN   \n",
       "618  2022.0         NaN         NaN         NaN         NaN         NaN   \n",
       "619  2022.0         NaN         NaN         NaN         NaN         NaN   \n",
       "620  2022.0         NaN         NaN         NaN         NaN         NaN   \n",
       "621  2022.0         NaN         NaN         NaN         NaN         NaN   \n",
       "\n",
       "     Unnamed: 10                 topic   covid  \n",
       "0            NaN  Investing cautiously  before  \n",
       "1            NaN  Investing cautiously  before  \n",
       "2            NaN  Investing cautiously  before  \n",
       "3            NaN  Investing cautiously  before  \n",
       "4            NaN  Investing cautiously  before  \n",
       "..           ...                   ...     ...  \n",
       "617          NaN                wallet   after  \n",
       "618          NaN                wallet   after  \n",
       "619          NaN                wallet   after  \n",
       "620          NaN                wallet   after  \n",
       "621          NaN                wallet   after  \n",
       "\n",
       "[622 rows x 13 columns]"
      ]
     },
     "execution_count": 5,
     "metadata": {},
     "output_type": "execute_result"
    }
   ],
   "source": [
    "#topics assigned\n",
    "df['topic']=0\n",
    "df.loc[df.comment_body.str.contains('stake|contract|claim', flags = re.IGNORECASE, na= False),'topic'] = 'wallet'\n",
    "df.loc[df.comment_body.str.contains('moderator|compose|newbies',flags = re.IGNORECASE,na= False),'topic'] = 'Investing cautiously'\n",
    "df.loc[df.comment_body.str.contains('metaverse|kraken|launch',flags = re.IGNORECASE,na= False),'topic'] = 'Metaverse Cryptocurrencies'\n",
    "\n",
    "#remove topics where 0\n",
    "\n",
    "df =  df.loc[~ df.topic.isin([0,'transport'])].reset_index(drop = True)\n",
    "df\n",
    "\n",
    "#before and after covid\n",
    "df['covid'] = 0\n",
    "df.loc[df['year'] < 2020,'covid'] ='before'\n",
    "df.loc[df['year'] >=2020,'covid']='after'\n",
    "df\n"
   ]
  },
  {
   "cell_type": "code",
   "execution_count": 48,
   "id": "a4471586",
   "metadata": {},
   "outputs": [
    {
     "name": "stderr",
     "output_type": "stream",
     "text": [
      "C:\\Users\\yjain7\\Anaconda3\\lib\\site-packages\\ipykernel\\ipkernel.py:287: DeprecationWarning: `should_run_async` will not call `transform_cell` automatically in the future. Please pass the result to `transformed_cell` argument and any exception that happen during thetransform in `preprocessing_exc_tuple` in IPython 7.17 and above.\n",
      "  and should_run_async(code)\n"
     ]
    }
   ],
   "source": [
    "documents_ac = []\n",
    "documents_bc = []\n",
    "#df= pd.read_csv(\"/content/drive/MyDrive/Copy of Final_Dogecoin_data.csv\")\n",
    "for index,row in df.iterrows():\n",
    "    #nn=datetime.strptime(row['year'], '%m/%d/%Y %H:%M')\n",
    "    if(row['year']<2020 and row['topic'] == 'Investing cautiously'):\n",
    "        documents_bc.append(row['comment_body'])\n",
    "    elif(row['year']>=2020 and row['topic'] == 'Investing cautiously'):\n",
    "        documents_ac.append(row['comment_body'])\n",
    "            "
   ]
  },
  {
   "cell_type": "code",
   "execution_count": 49,
   "id": "f91ab5ff",
   "metadata": {},
   "outputs": [
    {
     "name": "stderr",
     "output_type": "stream",
     "text": [
      "C:\\Users\\yjain7\\Anaconda3\\lib\\site-packages\\ipykernel\\ipkernel.py:287: DeprecationWarning: `should_run_async` will not call `transform_cell` automatically in the future. Please pass the result to `transformed_cell` argument and any exception that happen during thetransform in `preprocessing_exc_tuple` in IPython 7.17 and above.\n",
      "  and should_run_async(code)\n"
     ]
    }
   ],
   "source": [
    "# create lists of the information from each news\n",
    "title1 = documents_bc\n",
    "title2 = documents_ac"
   ]
  },
  {
   "cell_type": "code",
   "execution_count": 50,
   "id": "46b3eacd",
   "metadata": {},
   "outputs": [
    {
     "name": "stderr",
     "output_type": "stream",
     "text": [
      "C:\\Users\\yjain7\\Anaconda3\\lib\\site-packages\\ipykernel\\ipkernel.py:287: DeprecationWarning: `should_run_async` will not call `transform_cell` automatically in the future. Please pass the result to `transformed_cell` argument and any exception that happen during thetransform in `preprocessing_exc_tuple` in IPython 7.17 and above.\n",
      "  and should_run_async(code)\n"
     ]
    },
    {
     "data": {
      "text/plain": [
       "['\\n__^[wow ^so ^verify]__: ^/u/tomcarbon ^-> ^/u/apocrathia ^__10.0__ ^__doge__ ^__($0.02)__ ^[[help]](https://www.reddit.com/message/compose?to=sodogetip&amp;subject=%2Bhelp&amp;message=%2Bhelp)  ^[[transaction]](https://chain.so/tx/DOGE/f33610bdbb3e662844dd6b7f828cc48e7377808de9d2dc4ccce1190f0d0e1135)\\n',\n",
       " 'Your post must contain at least some words. Try again\\n\\n*I am a bot, and this action was performed automatically. Please [contact the moderators of this subreddit](/message/compose/?to=/r/dogecoin) if you have any questions or concerns.*',\n",
       " 'Hey there!\\n\\nI see you are new here, Welcome to /r/dogecoin. How did you find out about Dogecoin?\\n\\nDo you have any questions you need answered to help get you started?  \\n\\nHere are some handy links:\\n\\n[Getting Started](http://dogecoin.com/getting-started/)\\n\\n[Using SoDogeTip](/r/sodogetip/wiki/index)\\n\\n[List of Faucets](/r/dogecoin/wiki/faucets)\\n\\n[Wallet Help - ELI5](https://redd.it/3b3h5d/)\\n\\nPlease check the information on the sidebar -->>\\n\\n*I am a bot, and this action was performed automatically. Please [contact the moderators of this subreddit](/message/compose/?to=/r/dogecoin) if you have any questions or concerns.*',\n",
       " 'Hey there!\\n\\nI see you are new here, Welcome to /r/dogecoin. How did you find out about Dogecoin?\\n\\nDo you have any questions you need answered to help get you started?  \\n\\nHere are some handy links:\\n\\n[Getting Started](http://dogecoin.com/getting-started/)\\n\\n[Using SoDogeTip](/r/sodogetip/wiki/index)\\n\\n[List of Faucets](/r/dogecoin/wiki/faucets)\\n\\n[Wallet Help - ELI5](https://redd.it/3b3h5d/)\\n\\nPlease check the information on the sidebar -->>\\n\\n*I am a bot, and this action was performed automatically. Please [contact the moderators of this subreddit](/message/compose/?to=/r/dogecoin) if you have any questions or concerns.*',\n",
       " 'Hey there!\\n\\nI see you are new here, Welcome to /r/dogecoin. How did you find out about Dogecoin?\\n\\nDo you have any questions you need answered to help get you started?  \\n\\nHere are some handy links:\\n\\n[Getting Started](http://dogecoin.com/getting-started/)\\n\\n[Using SoDogeTip](/r/sodogetip/wiki/index)\\n\\n[List of Faucets](/r/dogecoin/wiki/faucets)\\n\\n[Wallet Help - ELI5](https://redd.it/3b3h5d/)\\n\\nPlease check the information on the sidebar -->>\\n\\n*I am a bot, and this action was performed automatically. Please [contact the moderators of this subreddit](/message/compose/?to=/r/dogecoin) if you have any questions or concerns.*',\n",
       " 'Hey there!\\n\\nI see you are new here, Welcome to /r/dogecoin. How did you find out about Dogecoin?\\n\\nDo you have any questions you need answered to help get you started?  \\n\\nHere are some handy links:\\n\\n[Getting Started](http://dogecoin.com/getting-started/)\\n\\n[Using SoDogeTip](/r/sodogetip/wiki/index)\\n\\n[List of Faucets](/r/dogecoin/wiki/faucets)\\n\\n[Wallet Help - ELI5](https://redd.it/3b3h5d/)\\n\\nPlease check the information on the sidebar -->>\\n\\n*I am a bot, and this action was performed automatically. Please [contact the moderators of this subreddit](/message/compose/?to=/r/dogecoin) if you have any questions or concerns.*',\n",
       " 'Hey there!\\n\\nI see you are new here, Welcome to /r/dogecoin. How did you find out about Dogecoin?\\n\\nDo you have any questions you need answered to help get you started?  \\n\\nHere are some handy links:\\n\\n[Getting Started](http://dogecoin.com/getting-started/)\\n\\n[Using SoDogeTip](/r/sodogetip/wiki/index)\\n\\n[List of Faucets](/r/dogecoin/wiki/faucets)\\n\\n[Wallet Help - ELI5](https://redd.it/3b3h5d/)\\n\\nPlease check the information on the sidebar -->>\\n\\n*I am a bot, and this action was performed automatically. Please [contact the moderators of this subreddit](/message/compose/?to=/r/dogecoin) if you have any questions or concerns.*',\n",
       " 'Hey there!\\n\\nI see you are new here, Welcome to /r/dogecoin. How did you find out about Dogecoin?\\n\\nDo you have any questions you need answered to help get you started?  \\n\\nHere are some handy links:\\n\\n[Getting Started](http://dogecoin.com/getting-started/)\\n\\n[Using SoDogeTip](/r/sodogetip/wiki/index)\\n\\n[List of Faucets](/r/dogecoin/wiki/faucets)\\n\\n[Wallet Help - ELI5](https://redd.it/3b3h5d/)\\n\\nPlease check the information on the sidebar -->>\\n\\n*I am a bot, and this action was performed automatically. Please [contact the moderators of this subreddit](/message/compose/?to=/r/dogecoin) if you have any questions or concerns.*',\n",
       " '\\n__^[wow ^so ^verify]__: ^/u/mr_dyh ^-> ^/u/thatyahoo ^__5.0__ ^__doge__ ^__($0.01)__ ^[[help]](https://www.reddit.com/message/compose?to=sodogetip&amp;subject=%2Bhelp&amp;message=%2Bhelp)  ^[[transaction]](https://chain.so/tx/DOGE/b655ba5680ec74bc4210172eb7c289ac250603353dd32c5e86797c65960ccc90)\\n',\n",
       " 'Hey there!\\n\\nI see you are new here, Welcome to /r/dogecoin. How did you find out about Dogecoin?\\n\\nDo you have any questions you need answered to help get you started?  \\n\\nHere are some handy links:\\n\\n[Getting Started](http://dogecoin.com/getting-started/)\\n\\n[Using SoDogeTip](/r/sodogetip/wiki/index)\\n\\n[List of Faucets](/r/dogecoin/wiki/faucets)\\n\\n[Wallet Help - ELI5](https://redd.it/3b3h5d/)\\n\\nPlease check the information on the sidebar -->>\\n\\n*I am a bot, and this action was performed automatically. Please [contact the moderators of this subreddit](/message/compose/?to=/r/dogecoin) if you have any questions or concerns.*',\n",
       " 'Hey there!\\n\\nI see you are new here, Welcome to /r/dogecoin. How did you find out about Dogecoin?\\n\\nDo you have any questions you need answered to help get you started?  \\n\\nHere are some handy links:\\n\\n[Getting Started](http://dogecoin.com/getting-started/)\\n\\n[Using SoDogeTip](/r/sodogetip/wiki/index)\\n\\n[List of Faucets](/r/dogecoin/wiki/faucets)\\n\\n[Wallet Help - ELI5](https://redd.it/3b3h5d/)\\n\\nPlease check the information on the sidebar -->>\\n\\n*I am a bot, and this action was performed automatically. Please [contact the moderators of this subreddit](/message/compose/?to=/r/dogecoin) if you have any questions or concerns.*',\n",
       " 'Hey there!\\n\\nI see you are new here, Welcome to /r/dogecoin. How did you find out about Dogecoin?\\n\\nDo you have any questions you need answered to help get you started?  \\n\\nHere are some handy links:\\n\\n[Getting Started](http://dogecoin.com/getting-started/)\\n\\n[Using SoDogeTip](/r/sodogetip/wiki/index)\\n\\n[List of Faucets](/r/dogecoin/wiki/faucets)\\n\\n[Wallet Help - ELI5](https://redd.it/3b3h5d/)\\n\\nPlease check the information on the sidebar -->>\\n\\n*I am a bot, and this action was performed automatically. Please [contact the moderators of this subreddit](/message/compose/?to=/r/dogecoin) if you have any questions or concerns.*',\n",
       " 'Your post must contain at least some words. Try again\\n\\n*I am a bot, and this action was performed automatically. Please [contact the moderators of this subreddit](/message/compose/?to=/r/dogecoin) if you have any questions or concerns.*',\n",
       " 'Hey there!\\n\\nI see you are new here, Welcome to /r/dogecoin. How did you find out about Dogecoin?\\n\\nDo you have any questions you need answered to help get you started?  \\n\\nHere are some handy links:\\n\\n[Getting Started](http://dogecoin.com/getting-started/)\\n\\n[Using SoDogeTip](/r/sodogetip/wiki/index)\\n\\n[List of Faucets](/r/dogecoin/wiki/faucets)\\n\\n[Wallet Help - ELI5](https://redd.it/3b3h5d/)\\n\\nPlease check the information on the sidebar -->>\\n\\n*I am a bot, and this action was performed automatically. Please [contact the moderators of this subreddit](/message/compose/?to=/r/dogecoin) if you have any questions or concerns.*',\n",
       " 'Hey there!\\n\\nI see you are new here, Welcome to /r/dogecoin. How did you find out about Dogecoin?\\n\\nDo you have any questions you need answered to help get you started?  \\n\\nHere are some handy links:\\n\\n[Getting Started](http://dogecoin.com/getting-started/)\\n\\n[Using SoDogeTip](/r/sodogetip/wiki/index)\\n\\n[List of Faucets](/r/dogecoin/wiki/faucets)\\n\\n[Wallet Help - ELI5](https://redd.it/3b3h5d/)\\n\\nPlease check the information on the sidebar -->>\\n\\n*I am a bot, and this action was performed automatically. Please [contact the moderators of this subreddit](/message/compose/?to=/r/dogecoin) if you have any questions or concerns.*',\n",
       " 'Hey there!\\n\\nI see you are new here, Welcome to /r/dogecoin. How did you find out about Dogecoin?\\n\\nDo you have any questions you need answered to help get you started?  \\n\\nHere are some handy links:\\n\\n[Getting Started](http://dogecoin.com/getting-started/)\\n\\n[Using SoDogeTip](/r/sodogetip/wiki/index)\\n\\n[List of Faucets](/r/dogecoin/wiki/faucets)\\n\\n[Wallet Help - ELI5](https://redd.it/3b3h5d/)\\n\\nPlease check the information on the sidebar -->>\\n\\n*I am a bot, and this action was performed automatically. Please [contact the moderators of this subreddit](/message/compose/?to=/r/dogecoin) if you have any questions or concerns.*',\n",
       " 'Your post must contain at least some words. Try again\\n\\n*I am a bot, and this action was performed automatically. Please [contact the moderators of this subreddit](/message/compose/?to=/r/dogecoin) if you have any questions or concerns.*',\n",
       " 'Your post must contain at least some words. Try again\\n\\n*I am a bot, and this action was performed automatically. Please [contact the moderators of this subreddit](/message/compose/?to=/r/dogecoin) if you have any questions or concerns.*',\n",
       " 'Your post must contain at least some words. Try again\\n\\n*I am a bot, and this action was performed automatically. Please [contact the moderators of this subreddit](/message/compose/?to=/r/dogecoin) if you have any questions or concerns.*',\n",
       " 'Your post must contain at least some words. Try again\\n\\n*I am a bot, and this action was performed automatically. Please [contact the moderators of this subreddit](/message/compose/?to=/r/dogecoin) if you have any questions or concerns.*',\n",
       " 'Your post must contain at least some words. Try again\\n\\n*I am a bot, and this action was performed automatically. Please [contact the moderators of this subreddit](/message/compose/?to=/r/dogecoin) if you have any questions or concerns.*',\n",
       " 'Hey there!\\n\\nI see you are new here, Welcome to /r/dogecoin. How did you find out about Dogecoin?\\n\\nDo you have any questions you need answered to help get you started?  \\n\\nHere are some handy links:\\n\\n[Getting Started](http://dogecoin.com/getting-started/)\\n\\n[Using SoDogeTip](/r/sodogetip/wiki/index)\\n\\n[List of Faucets](/r/dogecoin/wiki/faucets)\\n\\n[Wallet Help - ELI5](https://redd.it/3b3h5d/)\\n\\nPlease check the information on the sidebar -->>\\n\\n*I am a bot, and this action was performed automatically. Please [contact the moderators of this subreddit](/message/compose/?to=/r/dogecoin) if you have any questions or concerns.*',\n",
       " 'Hey there!\\n\\nI see you are new here, Welcome to /r/dogecoin. How did you find out about Dogecoin?\\n\\nDo you have any questions you need answered to help get you started?  \\n\\nHere are some handy links:\\n\\n[Getting Started](http://dogecoin.com/getting-started/)\\n\\n[Using SoDogeTip](/r/sodogetip/wiki/index)\\n\\n[List of Faucets](/r/dogecoin/wiki/faucets)\\n\\n[Wallet Help - ELI5](https://redd.it/3b3h5d/)\\n\\nPlease check the information on the sidebar -->>\\n\\n*I am a bot, and this action was performed automatically. Please [contact the moderators of this subreddit](/message/compose/?to=/r/dogecoin) if you have any questions or concerns.*',\n",
       " 'Your submission has been automatically filtered because you have a low karma, or new account. To post in this community you must have at least 10 combined Karma, or your account must be older than 7 days. Please contact the mod team if you feel your submission has been filtered in error.\\n\\n*I am a bot, and this action was performed automatically. Please [contact the moderators of this subreddit](/message/compose/?to=/r/cardano) if you have any questions or concerns.*',\n",
       " 'Your submission has been automatically filtered because you have a low karma, or new account. To post in this community you must have at least 10 combined Karma, or your account must be older than 7 days. Please contact the mod team if you feel your submission has been filtered in error.\\n\\n*I am a bot, and this action was performed automatically. Please [contact the moderators of this subreddit](/message/compose/?to=/r/cardano) if you have any questions or concerns.*',\n",
       " 'Your submission has been automatically filtered because you have a low karma, or new account. To post in this community you must have at least 10 combined Karma, or your account must be older than 7 days. Please contact the mod team if you feel your submission has been filtered in error.\\n\\n*I am a bot, and this action was performed automatically. Please [contact the moderators of this subreddit](/message/compose/?to=/r/cardano) if you have any questions or concerns.*',\n",
       " 'Your submission has been automatically filtered because you have a low karma, or new account. To post in this community you must have at least 10 combined Karma, or your account must be older than 7 days. Please contact the mod team if you feel your submission has been filtered in error.\\n\\n*I am a bot, and this action was performed automatically. Please [contact the moderators of this subreddit](/message/compose/?to=/r/cardano) if you have any questions or concerns.*',\n",
       " 'Your submission has been automatically filtered because you have a low karma, or new account. To post in this community you must have at least 10 combined Karma, or your account must be older than 7 days. Please contact the mod team if you feel your submission has been filtered in error.\\n\\n*I am a bot, and this action was performed automatically. Please [contact the moderators of this subreddit](/message/compose/?to=/r/cardano) if you have any questions or concerns.*',\n",
       " 'Your submission has been automatically filtered because you have a low karma, or new account. To post in this community you must have at least 10 combined Karma, or your account must be older than 7 days. Please contact the mod team if you feel your submission has been filtered in error.\\n\\n*I am a bot, and this action was performed automatically. Please [contact the moderators of this subreddit](/message/compose/?to=/r/cardano) if you have any questions or concerns.*',\n",
       " 'Your submission has been automatically filtered because you have a low karma, or new account. To post in this community you must have at least 10 combined Karma, or your account must be older than 7 days. Please contact the mod team if you feel your submission has been filtered in error.\\n\\n*I am a bot, and this action was performed automatically. Please [contact the moderators of this subreddit](/message/compose/?to=/r/cardano) if you have any questions or concerns.*',\n",
       " 'Your submission has been automatically filtered because you have a low karma, or new account. To post in this community you must have at least 10 combined Karma, or your account must be older than 7 days. Please contact the mod team if you feel your submission has been filtered in error.\\n\\n*I am a bot, and this action was performed automatically. Please [contact the moderators of this subreddit](/message/compose/?to=/r/cardano) if you have any questions or concerns.*',\n",
       " 'This post is currently under review by the moderation team as it appears to be a price related post. Please use the Weekly Discussion for price and trading related discussions.\\n\\n\\n*I am a bot, and this action was performed automatically. Please [contact the moderators of this subreddit](/message/compose/?to=/r/cardano) if you have any questions or concerns.*',\n",
       " 'Your submission has been automatically filtered because you have a low karma, or new account. To post in this community you must have at least 10 combined Karma, or your account must be older than 7 days. Please contact the mod team if you feel your submission has been filtered in error.\\n\\n*I am a bot, and this action was performed automatically. Please [contact the moderators of this subreddit](/message/compose/?to=/r/cardano) if you have any questions or concerns.*',\n",
       " 'Your submission has been automatically filtered because you have a low karma, or new account. To post in this community you must have at least 10 combined Karma, or your account must be older than 7 days. Please contact the mod team if you feel your submission has been filtered in error.\\n\\n*I am a bot, and this action was performed automatically. Please [contact the moderators of this subreddit](/message/compose/?to=/r/cardano) if you have any questions or concerns.*',\n",
       " 'Your submission has been automatically filtered because you have a low karma, or new account. To post in this community you must have at least 10 combined Karma, or your account must be older than 7 days. Please contact the mod team if you feel your submission has been filtered in error.\\n\\n*I am a bot, and this action was performed automatically. Please [contact the moderators of this subreddit](/message/compose/?to=/r/cardano) if you have any questions or concerns.*',\n",
       " 'I will be messaging you in 20 years on [**2039-12-31 14:18:19 UTC**](http://www.wolframalpha.com/input/?i=2039-12-31%2014:18:19%20UTC%20To%20Local%20Time) to remind you of [**this link**](https://np.reddit.com/r/cardano/comments/ehvs3d/question_regarding_possible_centralization_of/fcn32qp/?context=3)\\n\\n[**CLICK THIS LINK**](https://np.reddit.com/message/compose/?to=RemindMeBot&subject=Reminder&message=%5Bhttps%3A%2F%2Fwww.reddit.com%2Fr%2Fcardano%2Fcomments%2Fehvs3d%2Fquestion_regarding_possible_centralization_of%2Ffcn32qp%2F%5D%0A%0ARemindMe%21%202039-12-31%2014%3A18%3A19%20UTC) to send a PM to also be reminded and to reduce spam.\\n\\n^(Parent commenter can ) [^(delete this message to hide from others.)](https://np.reddit.com/message/compose/?to=RemindMeBot&subject=Delete%20Comment&message=Delete%21%20ehvs3d)\\n\\n*****\\n\\n|[^(Info)](https://np.reddit.com/r/RemindMeBot/comments/e1bko7/remindmebot_info_v21/)|[^(Custom)](https://np.reddit.com/message/compose/?to=RemindMeBot&subject=Reminder&message=%5BLink%20or%20message%20inside%20square%20brackets%5D%0A%0ARemindMe%21%20Time%20period%20here)|[^(Your Reminders)](https://np.reddit.com/message/compose/?to=RemindMeBot&subject=List%20Of%20Reminders&message=MyReminders%21)|[^(Feedback)](https://np.reddit.com/message/compose/?to=Watchful1&subject=RemindMeBot%20Feedback)|\\n|-|-|-|-|',\n",
       " 'Your submission has been automatically filtered because you have a low karma, or new account. To post in this community you must have at least 10 combined Karma, or your account must be older than 7 days. Please contact the mod team if you feel your submission has been filtered in error.\\n\\n*I am a bot, and this action was performed automatically. Please [contact the moderators of this subreddit](/message/compose/?to=/r/cardano) if you have any questions or concerns.*',\n",
       " 'Your submission has been automatically filtered because you have a low karma, or new account. To post in this community you must have at least 10 combined Karma, or your account must be older than 7 days. Please contact the mod team if you feel your submission has been filtered in error.\\n\\n*I am a bot, and this action was performed automatically. Please [contact the moderators of this subreddit](/message/compose/?to=/r/cardano) if you have any questions or concerns.*',\n",
       " 'Your submission has been automatically filtered because you have a low karma, or new account. To post in this community you must have at least 10 combined Karma, or your account must be older than 7 days. Please contact the mod team if you feel your submission has been filtered in error.\\n\\n*I am a bot, and this action was performed automatically. Please [contact the moderators of this subreddit](/message/compose/?to=/r/cardano) if you have any questions or concerns.*',\n",
       " 'Your submission has been automatically filtered because you have a low karma, or new account. To post in this community you must have at least 10 combined Karma, or your account must be older than 7 days. Please contact the mod team if you feel your submission has been filtered in error.\\n\\n*I am a bot, and this action was performed automatically. Please [contact the moderators of this subreddit](/message/compose/?to=/r/cardano) if you have any questions or concerns.*',\n",
       " 'Your submission has been automatically filtered because you have a low karma, or new account. To post in this community you must have at least 10 combined Karma, or your account must be older than 7 days. Please contact the mod team if you feel your submission has been filtered in error.\\n\\n*I am a bot, and this action was performed automatically. Please [contact the moderators of this subreddit](/message/compose/?to=/r/cardano) if you have any questions or concerns.*',\n",
       " \"Your submission has been flagged for removal because it doesn't meet the quality standards for /r/Bitcoin at this time. \\n\\n^^I ^^am ^^a ^^bot ^^and ^^cannot ^^respond. ^^Please ^^contact ^^/r/Bitcoin ^^moderators [^^directly ^^via ^^mod ^^mail](https://www.reddit.com/message/compose?to=%2Fr%2FBitcoin) ^^if ^^you ^^have ^^questions.\",\n",
       " 'This topic has been submitted several times. Please check the front page of /r/Bitcoin for previous submissions, as well as /r/Bitcoin/new. You can also try using the search bar. Thank you.\\n\\n^^I ^^am ^^a ^^bot ^^and ^^cannot ^^respond. ^^Please ^^contact ^^/r/Bitcoin ^^moderators [^^directly ^^via ^^mod ^^mail](https://www.reddit.com/message/compose?to=%2Fr%2FBitcoin) ^^if ^^you ^^have ^^questions.',\n",
       " 'This topic has been submitted several times. Please check the front page of /r/Bitcoin for previous submissions, as well as /r/Bitcoin/new. You can also try using the search bar. Thank you.\\n\\n^^I ^^am ^^a ^^bot ^^and ^^cannot ^^respond. ^^Please ^^contact ^^/r/Bitcoin ^^moderators [^^directly ^^via ^^mod ^^mail](https://www.reddit.com/message/compose?to=%2Fr%2FBitcoin) ^^if ^^you ^^have ^^questions.',\n",
       " 'This topic has been submitted several times. Please check the front page of /r/Bitcoin for previous submissions, as well as /r/Bitcoin/new. You can also try using the search bar. Thank you.\\n\\n^^I ^^am ^^a ^^bot ^^and ^^cannot ^^respond. ^^Please ^^contact ^^/r/Bitcoin ^^moderators [^^directly ^^via ^^mod ^^mail](https://www.reddit.com/message/compose?to=%2Fr%2FBitcoin) ^^if ^^you ^^have ^^questions.',\n",
       " 'Hi u/my2sats, thanks for tipping u/xiphy **42** satoshis!\\n***\\n*[^(More info)](https://www.reddit.com/r/lntipbot/wiki/index) ^| [^(Balance)](https://www.reddit.com/message/compose/?to=lntipbot&subject=balance&message=!balance) ^| [^(Deposit)](https://www.reddit.com/message/compose/?to=lntipbot&subject=deposit&message=!deposit 10000) ^| [^(Withdraw)](https://www.reddit.com/message/compose/?to=lntipbot&subject=withdraw&message=!withdraw put_invoice_here) ^| ^(Something wrong?  Have a question?) [^(Send me a message)](https://www.reddit.com/message/compose/?to=drmoore718)*',\n",
       " 'Hi u/my2sats, thanks for tipping u/Cygnus_X **42** satoshis!\\n***\\n*[^(More info)](https://www.reddit.com/r/lntipbot/wiki/index) ^| [^(Balance)](https://www.reddit.com/message/compose/?to=lntipbot&subject=balance&message=!balance) ^| [^(Deposit)](https://www.reddit.com/message/compose/?to=lntipbot&subject=deposit&message=!deposit 10000) ^| [^(Withdraw)](https://www.reddit.com/message/compose/?to=lntipbot&subject=withdraw&message=!withdraw put_invoice_here) ^| ^(Something wrong?  Have a question?) [^(Send me a message)](https://www.reddit.com/message/compose/?to=drmoore718)*',\n",
       " 'Hi u/my2sats, thanks for tipping u/BecauseImTheAsshole **42** satoshis!\\n***\\n*[^(More info)](https://www.reddit.com/r/lntipbot/wiki/index) ^| [^(Balance)](https://www.reddit.com/message/compose/?to=lntipbot&subject=balance&message=!balance) ^| [^(Deposit)](https://www.reddit.com/message/compose/?to=lntipbot&subject=deposit&message=!deposit 10000) ^| [^(Withdraw)](https://www.reddit.com/message/compose/?to=lntipbot&subject=withdraw&message=!withdraw put_invoice_here) ^| ^(Something wrong?  Have a question?) [^(Send me a message)](https://www.reddit.com/message/compose/?to=drmoore718)*',\n",
       " 'Hi u/my2sats, thanks for tipping u/BTC_Forever **42** satoshis!\\n***\\n*[^(More info)](https://www.reddit.com/r/lntipbot/wiki/index) ^| [^(Balance)](https://www.reddit.com/message/compose/?to=lntipbot&subject=balance&message=!balance) ^| [^(Deposit)](https://www.reddit.com/message/compose/?to=lntipbot&subject=deposit&message=!deposit 10000) ^| [^(Withdraw)](https://www.reddit.com/message/compose/?to=lntipbot&subject=withdraw&message=!withdraw put_invoice_here) ^| ^(Something wrong?  Have a question?) [^(Send me a message)](https://www.reddit.com/message/compose/?to=drmoore718)*',\n",
       " 'Hi u/my2sats, thanks for tipping u/BTC_Forever **42** satoshis!\\n***\\n*[^(More info)](https://www.reddit.com/r/lntipbot/wiki/index) ^| [^(Balance)](https://www.reddit.com/message/compose/?to=lntipbot&subject=balance&message=!balance) ^| [^(Deposit)](https://www.reddit.com/message/compose/?to=lntipbot&subject=deposit&message=!deposit 10000) ^| [^(Withdraw)](https://www.reddit.com/message/compose/?to=lntipbot&subject=withdraw&message=!withdraw put_invoice_here) ^| ^(Something wrong?  Have a question?) [^(Send me a message)](https://www.reddit.com/message/compose/?to=drmoore718)*',\n",
       " 'Your submission has been flagged for removal because it is considered off topic for the Bitcoin subreddit.\\n\\n^^I ^^am ^^a ^^bot ^^and ^^cannot ^^respond. ^^Please ^^contact ^^/r/Bitcoin ^^moderators [^^directly ^^via ^^mod ^^mail](https://www.reddit.com/message/compose?to=%2Fr%2FBitcoin) ^^if ^^you ^^have ^^questions.',\n",
       " 'Hi u/my2sats, thanks for tipping u/mickhick95 **42** satoshis!\\n***\\n*[^(More info)](https://www.reddit.com/r/lntipbot/wiki/index) ^| [^(Balance)](https://www.reddit.com/message/compose/?to=lntipbot&subject=balance&message=!balance) ^| [^(Deposit)](https://www.reddit.com/message/compose/?to=lntipbot&subject=deposit&message=!deposit 10000) ^| [^(Withdraw)](https://www.reddit.com/message/compose/?to=lntipbot&subject=withdraw&message=!withdraw put_invoice_here) ^| ^(Something wrong?  Have a question?) [^(Send me a message)](https://www.reddit.com/message/compose/?to=drmoore718)*',\n",
       " 'Hi u/my2sats, thanks for tipping u/ZmnSCPxj **42** satoshis!\\n***\\n*[^(More info)](https://www.reddit.com/r/lntipbot/wiki/index) ^| [^(Balance)](https://www.reddit.com/message/compose/?to=lntipbot&subject=balance&message=!balance) ^| [^(Deposit)](https://www.reddit.com/message/compose/?to=lntipbot&subject=deposit&message=!deposit 10000) ^| [^(Withdraw)](https://www.reddit.com/message/compose/?to=lntipbot&subject=withdraw&message=!withdraw put_invoice_here) ^| ^(Something wrong?  Have a question?) [^(Send me a message)](https://www.reddit.com/message/compose/?to=drmoore718)*',\n",
       " 'Hi u/my2sats, thanks for tipping u/ZmnSCPxj **42** satoshis!\\n***\\n*[^(More info)](https://www.reddit.com/r/lntipbot/wiki/index) ^| [^(Balance)](https://www.reddit.com/message/compose/?to=lntipbot&subject=balance&message=!balance) ^| [^(Deposit)](https://www.reddit.com/message/compose/?to=lntipbot&subject=deposit&message=!deposit 10000) ^| [^(Withdraw)](https://www.reddit.com/message/compose/?to=lntipbot&subject=withdraw&message=!withdraw put_invoice_here) ^| ^(Something wrong?  Have a question?) [^(Send me a message)](https://www.reddit.com/message/compose/?to=drmoore718)*',\n",
       " 'Your submission has been flagged for removal because it is considered off topic for the Bitcoin subreddit.\\n\\n^^I ^^am ^^a ^^bot ^^and ^^cannot ^^respond. ^^Please ^^contact ^^/r/Bitcoin ^^moderators [^^directly ^^via ^^mod ^^mail](https://www.reddit.com/message/compose?to=%2Fr%2FBitcoin) ^^if ^^you ^^have ^^questions.',\n",
       " 'Your submission has been flagged for removal because there are too many other price posts right now. Please contribute to the sticky thread, or another price-related thread. Thank you!.\\n\\n^^I ^^am ^^a ^^bot ^^and ^^cannot ^^respond. ^^Please ^^contact ^^/r/Bitcoin ^^moderators [^^directly ^^via ^^mod ^^mail](https://www.reddit.com/message/compose?to=%2Fr%2FBitcoin) ^^if ^^you ^^have ^^questions.',\n",
       " 'Your submission has been flagged and removed because it appears that you are begging for money. If you would like to beg, please visit /r/BitcoinBeggars.\\n\\n^^I ^^am ^^a ^^bot ^^and ^^cannot ^^respond. ^^Please ^^contact ^^/r/Bitcoin ^^moderators [^^directly ^^via ^^mod ^^mail](https://www.reddit.com/message/compose?to=%2Fr%2FBitcoin) ^^if ^^you ^^have ^^questions.',\n",
       " 'This topic has been submitted several times. Please check the front page of /r/Bitcoin for previous submissions, as well as /r/Bitcoin/new. You can also try using the search bar. Thank you.\\n\\n^^I ^^am ^^a ^^bot ^^and ^^cannot ^^respond. ^^Please ^^contact ^^/r/Bitcoin ^^moderators [^^directly ^^via ^^mod ^^mail](https://www.reddit.com/message/compose?to=%2Fr%2FBitcoin) ^^if ^^you ^^have ^^questions.',\n",
       " 'This topic has been submitted several times. Please check the front page of /r/Bitcoin for previous submissions, as well as /r/Bitcoin/new. You can also try using the search bar. Thank you.\\n\\n^^I ^^am ^^a ^^bot ^^and ^^cannot ^^respond. ^^Please ^^contact ^^/r/Bitcoin ^^moderators [^^directly ^^via ^^mod ^^mail](https://www.reddit.com/message/compose?to=%2Fr%2FBitcoin) ^^if ^^you ^^have ^^questions.',\n",
       " 'Hi u/my2sats, thanks for tipping u/AdeptOrganization **42** satoshis!\\n***\\n*[^(More info)](https://www.reddit.com/r/lntipbot/wiki/index) ^| [^(Balance)](https://www.reddit.com/message/compose/?to=lntipbot&subject=balance&message=!balance) ^| [^(Deposit)](https://www.reddit.com/message/compose/?to=lntipbot&subject=deposit&message=!deposit 10000) ^| [^(Withdraw)](https://www.reddit.com/message/compose/?to=lntipbot&subject=withdraw&message=!withdraw put_invoice_here) ^| ^(Something wrong?  Have a question?) [^(Send me a message)](https://www.reddit.com/message/compose/?to=drmoore718)*',\n",
       " 'Your submission has been flagged for removal because it is considered off topic for the Bitcoin subreddit.\\n\\n^^I ^^am ^^a ^^bot ^^and ^^cannot ^^respond. ^^Please ^^contact ^^/r/Bitcoin ^^moderators [^^directly ^^via ^^mod ^^mail](https://www.reddit.com/message/compose?to=%2Fr%2FBitcoin) ^^if ^^you ^^have ^^questions.',\n",
       " \"Your submission has been flagged for removal because it doesn't meet the quality standards for /r/Bitcoin at this time. \\n\\n^^I ^^am ^^a ^^bot ^^and ^^cannot ^^respond. ^^Please ^^contact ^^/r/Bitcoin ^^moderators [^^directly ^^via ^^mod ^^mail](https://www.reddit.com/message/compose?to=%2Fr%2FBitcoin) ^^if ^^you ^^have ^^questions.\",\n",
       " \"**Pseudonymity**\\n\\nPseudonymity, a word derived from pseudonym, meaning 'false name', is a state of disguised identity. The pseudonym identifies a holder, that is, one or more human beings who possess but do not disclose their true names (that is, legal identities).  Most pseudonym holders use pseudonyms because they wish to remain anonymous, but anonymity is difficult to achieve and is often fraught with legal issues. True anonymity requires unlinkability, such that an attacker's examination of the pseudonym holder's message provides no new information about the holder's true name.\\n\\n***\\n\\n^[ [^PM](https://www.reddit.com/message/compose?to=kittens_from_space) ^| [^Exclude ^me](https://reddit.com/message/compose?to=WikiTextBot&message=Excludeme&subject=Excludeme) ^| [^Exclude ^from ^subreddit](https://np.reddit.com/r/Bitcoin/about/banned) ^| [^FAQ ^/ ^Information](https://np.reddit.com/r/WikiTextBot/wiki/index) ^| [^Source](https://github.com/kittenswolf/WikiTextBot)   ^]\\n^Downvote ^to ^remove ^| ^v0.28\",\n",
       " \"**Opium Wars**\\n\\nThe Opium Wars were two wars in the mid-19th century involving Great Qing and the British Government and concerned their imposition of trade of opium upon China. The resulting concession of Hong Kong compromised China's territorial sovereignty. The clashes included the First Opium War (1839–1842), with the British naval forces, and in the Second Opium War (1856–1860), also known as the Arrow or Anglo-French Wars to the Chinese, Britain was aided by French forces. The wars and subsequently imposed treaties weakened the Qing dynasty and Chinese governments, and forced China to open specified Treaty ports (especially Shanghai and Canton) that handled all trade with imperial powers.\\n\\n***\\n\\n^[ [^PM](https://www.reddit.com/message/compose?to=kittens_from_space) ^| [^Exclude ^me](https://reddit.com/message/compose?to=WikiTextBot&message=Excludeme&subject=Excludeme) ^| [^Exclude ^from ^subreddit](https://np.reddit.com/r/Bitcoin/about/banned) ^| [^FAQ ^/ ^Information](https://np.reddit.com/r/WikiTextBot/wiki/index) ^| [^Source](https://github.com/kittenswolf/WikiTextBot)   ^]\\n^Downvote ^to ^remove ^| ^v0.28\",\n",
       " 'Hi u/misleading_sidebar, thanks for tipping u/fakebluepants **15** satoshis!\\n***\\n*[^(More info)](https://www.reddit.com/r/lntipbot/wiki/index) ^| [^(Balance)](https://www.reddit.com/message/compose/?to=lntipbot&subject=balance&message=!balance) ^| [^(Deposit)](https://www.reddit.com/message/compose/?to=lntipbot&subject=deposit&message=!deposit 10000) ^| [^(Withdraw)](https://www.reddit.com/message/compose/?to=lntipbot&subject=withdraw&message=!withdraw put_invoice_here) ^| ^(Something wrong?  Have a question?) [^(Send me a message)](https://www.reddit.com/message/compose/?to=drmoore718)*',\n",
       " 'Your submission has been flagged for removal because it pertains to an incompatible derivative of Bitcoin. Bitcoin derivatives and other altcoins (such as Bcash) are not Bitcoin and will never be Bitcoin. Therefore they are off topic for the Bitcoin subreddit. If you require assistance in claiming these airdrops from your Bitcoin savings, we recommend posting this to the /r/BitcoinAirdrops subreddit for more info. Thank you.\\n\\n^^I ^^am ^^a ^^bot ^^and ^^cannot ^^respond. ^^Please ^^contact ^^/r/Bitcoin ^^moderators [^^directly ^^via ^^mod ^^mail](https://www.reddit.com/message/compose?to=%2Fr%2FBitcoin) ^^if ^^you ^^have ^^questions.',\n",
       " \"Your submission has been flagged for removal because it doesn't meet the quality standards for /r/Bitcoin at this time. \\n\\n^^I ^^am ^^a ^^bot ^^and ^^cannot ^^respond. ^^Please ^^contact ^^/r/Bitcoin ^^moderators [^^directly ^^via ^^mod ^^mail](https://www.reddit.com/message/compose?to=%2Fr%2FBitcoin) ^^if ^^you ^^have ^^questions.\",\n",
       " 'Hi u/Cynic_Custodian, thanks for tipping u/cryptohoney **1000** satoshis!\\n***\\n*[^(More info)](https://www.reddit.com/r/lntipbot/wiki/index) ^| [^(Balance)](https://www.reddit.com/message/compose/?to=lntipbot&subject=balance&message=!balance) ^| [^(Deposit)](https://www.reddit.com/message/compose/?to=lntipbot&subject=deposit&message=!deposit 10000) ^| [^(Withdraw)](https://www.reddit.com/message/compose/?to=lntipbot&subject=withdraw&message=!withdraw put_invoice_here) ^| ^(Something wrong?  Have a question?) [^(Send me a message)](https://www.reddit.com/message/compose/?to=drmoore718)*',\n",
       " 'Your submission has been flagged for removal because it is considered off topic for the Bitcoin subreddit.\\n\\n^^I ^^am ^^a ^^bot ^^and ^^cannot ^^respond. ^^Please ^^contact ^^/r/Bitcoin ^^moderators [^^directly ^^via ^^mod ^^mail](https://www.reddit.com/message/compose?to=%2Fr%2FBitcoin) ^^if ^^you ^^have ^^questions.',\n",
       " '**Dollar cost averaging**\\n\\nDollar cost averaging (DCA) is an investment strategy with the goal of reducing the impact of volatility on large purchases of financial assets such as equities. Dollar cost averaging is also called the constant dollar plan (in the US), pound-cost averaging (in the UK), and, irrespective of currency, as unit cost averaging or the cost average effect.By dividing the total sum to be invested in the market (e.g. $100,000) into equal amounts put into the market at regular intervals (e.g. $1000 over 100 weeks), DCA hopes to reduce the risk of incurring a substantial loss resulting from investing the entire \"lump sum\" just before a fall in the market.\\n\\n***\\n\\n^[ [^PM](https://www.reddit.com/message/compose?to=kittens_from_space) ^| [^Exclude ^me](https://reddit.com/message/compose?to=WikiTextBot&message=Excludeme&subject=Excludeme) ^| [^Exclude ^from ^subreddit](https://np.reddit.com/r/Bitcoin/about/banned) ^| [^FAQ ^/ ^Information](https://np.reddit.com/r/WikiTextBot/wiki/index) ^| [^Source](https://github.com/kittenswolf/WikiTextBot)   ^]\\n^Downvote ^to ^remove ^| ^v0.28',\n",
       " 'It seems you are posting content related to price discussion. Please note that this a technology focused sub and All discussions on price, market cap as well as trading should be moved to /r/ethtrader, an independent community not moderated by Ethereum developers. This post will be automaticaly removed, if you believe this to be in error please consider contacting the moderators.\\n\\n*I am a bot, and this action was performed automatically. Please [contact the moderators of this subreddit](/message/compose/?to=/r/ethereum) if you have any questions or concerns.*',\n",
       " 'Watching the public dev calls there is a definite appearance of conservatism with regard to necessary upgrades. I think this is because consensus is so highly prized and people are reluctant to air disagreements in public. I think Hudson and other moderators need to do more to push debate, and ultimately votes, on more changes before defaulting to consensus if nobody talks in the calls, to help address the frustration Lane discusses of how hard it is to \"get things done\" in Ethereum due to political wrangling. \\n\\nTldr; the emphasis on consensus may be stifling the political friction and debate required to get positive upgrades through Ethereum\\'s governance process. ']"
      ]
     },
     "execution_count": 50,
     "metadata": {},
     "output_type": "execute_result"
    }
   ],
   "source": [
    "title1"
   ]
  },
  {
   "cell_type": "code",
   "execution_count": 51,
   "id": "38946dc7",
   "metadata": {},
   "outputs": [
    {
     "name": "stderr",
     "output_type": "stream",
     "text": [
      "C:\\Users\\yjain7\\Anaconda3\\lib\\site-packages\\ipykernel\\ipkernel.py:287: DeprecationWarning: `should_run_async` will not call `transform_cell` automatically in the future. Please pass the result to `transformed_cell` argument and any exception that happen during thetransform in `preprocessing_exc_tuple` in IPython 7.17 and above.\n",
      "  and should_run_async(code)\n"
     ]
    },
    {
     "data": {
      "text/html": [
       "<div>\n",
       "<style scoped>\n",
       "    .dataframe tbody tr th:only-of-type {\n",
       "        vertical-align: middle;\n",
       "    }\n",
       "\n",
       "    .dataframe tbody tr th {\n",
       "        vertical-align: top;\n",
       "    }\n",
       "\n",
       "    .dataframe thead th {\n",
       "        text-align: right;\n",
       "    }\n",
       "</style>\n",
       "<table border=\"1\" class=\"dataframe\">\n",
       "  <thead>\n",
       "    <tr style=\"text-align: right;\">\n",
       "      <th></th>\n",
       "      <th>title</th>\n",
       "    </tr>\n",
       "  </thead>\n",
       "  <tbody>\n",
       "    <tr>\n",
       "      <th>0</th>\n",
       "      <td>Your post must contain at least some words. Tr...</td>\n",
       "    </tr>\n",
       "    <tr>\n",
       "      <th>1</th>\n",
       "      <td>Hey there!\\n\\nI see you are new here, Welcome ...</td>\n",
       "    </tr>\n",
       "    <tr>\n",
       "      <th>2</th>\n",
       "      <td>Hey there!\\n\\nI see you are new here, Welcome ...</td>\n",
       "    </tr>\n",
       "    <tr>\n",
       "      <th>3</th>\n",
       "      <td>WARNING. NEW ACCOUNT DETECTED. IS THIS PERSON ...</td>\n",
       "    </tr>\n",
       "    <tr>\n",
       "      <th>4</th>\n",
       "      <td>Looks like a repost. I've seen this image 11 t...</td>\n",
       "    </tr>\n",
       "  </tbody>\n",
       "</table>\n",
       "</div>"
      ],
      "text/plain": [
       "                                               title\n",
       "0  Your post must contain at least some words. Tr...\n",
       "1  Hey there!\\n\\nI see you are new here, Welcome ...\n",
       "2  Hey there!\\n\\nI see you are new here, Welcome ...\n",
       "3  WARNING. NEW ACCOUNT DETECTED. IS THIS PERSON ...\n",
       "4  Looks like a repost. I've seen this image 11 t..."
      ]
     },
     "execution_count": 51,
     "metadata": {},
     "output_type": "execute_result"
    }
   ],
   "source": [
    "news1 = pd.DataFrame({\n",
    "    \"title\": title1,\n",
    "})\n",
    "news1.head()\n",
    "news2 = pd.DataFrame({\n",
    "    \"title\": title2,\n",
    "})\n",
    "news2.head()"
   ]
  },
  {
   "cell_type": "code",
   "execution_count": 52,
   "id": "f07e0eed",
   "metadata": {},
   "outputs": [
    {
     "name": "stderr",
     "output_type": "stream",
     "text": [
      "C:\\Users\\yjain7\\Anaconda3\\lib\\site-packages\\ipykernel\\ipkernel.py:287: DeprecationWarning: `should_run_async` will not call `transform_cell` automatically in the future. Please pass the result to `transformed_cell` argument and any exception that happen during thetransform in `preprocessing_exc_tuple` in IPython 7.17 and above.\n",
      "  and should_run_async(code)\n"
     ]
    },
    {
     "data": {
      "text/plain": [
       "['Your post must contain at least some words. Try again\\n\\n*I am a bot, and this action was performed automatically. Please [contact the moderators of this subreddit](/message/compose/?to=/r/dogecoin) if you have any questions or concerns.*',\n",
       " 'Hey there!\\n\\nI see you are new here, Welcome to /r/dogecoin. How did you find out about Dogecoin?\\n\\nDo you have any questions you need answered to help get you started?  \\n\\nHere are some handy links:\\n\\n[Getting Started](http://dogecoin.com/getting-started/)\\n\\n[Using SoDogeTip](/r/sodogetip/wiki/index)\\n\\n[List of Faucets](/r/dogecoin/wiki/faucets)\\n\\n[Wallet Help - ELI5](https://redd.it/3b3h5d/)\\n\\nPlease check the information on the sidebar -->>\\n\\n*I am a bot, and this action was performed automatically. Please [contact the moderators of this subreddit](/message/compose/?to=/r/dogecoin) if you have any questions or concerns.*',\n",
       " 'Hey there!\\n\\nI see you are new here, Welcome to /r/dogecoin. How did you find out about Dogecoin?\\n\\nDo you have any questions you need answered to help get you started?  \\n\\nHere are some handy links:\\n\\n[Getting Started](http://dogecoin.com/getting-started/)\\n\\n[Using SoDogeTip](/r/sodogetip/wiki/index)\\n\\n[List of Faucets](/r/dogecoin/wiki/faucets)\\n\\n[Wallet Help - ELI5](https://redd.it/3b3h5d/)\\n\\nPlease check the information on the sidebar -->>\\n\\n*I am a bot, and this action was performed automatically. Please [contact the moderators of this subreddit](/message/compose/?to=/r/dogecoin) if you have any questions or concerns.*',\n",
       " 'WARNING. NEW ACCOUNT DETECTED. IS THIS PERSON TRYING TO SELL OR BUY DOGECOIN? Are they trying to get you to comment on a T-Shirt? Are they posting fake Twitter images containing links? BE CAREFUL. IT COULD BE A SCAM..\\n\\nI see you are new here, Welcome to /r/dogecoin. How did you find out about Dogecoin?\\n\\nDo you have any questions you need answered to help get you started?  \\n\\nHere are some handy links:\\n\\n[How to buy Dogecoin](https://www.reddit.com/r/dogecoin/comments/msp3e9/how_to_buy_dogecoin/)\\n\\n[Using the subreddit tipbot](/r/sodogetip/wiki/index)\\n\\n[Wallet Help - ELI5](https://redd.it/3b3h5d/)\\n\\nPlease check the information on the sidebar -->>\\n\\n*I am a bot, and this action was performed automatically. Please [contact the moderators of this subreddit](/message/compose/?to=/r/dogecoin) if you have any questions or concerns.*',\n",
       " 'Looks like a repost. I\\'ve seen this image 11 times.\\n\\nFirst Seen [Here](https://redd.it/nx3ils) on 2021-06-11 95.31% match. Last Seen [Here](https://redd.it/rsqpuf) on 2021-12-31 100.0% match\\n\\n*I\\'m not perfect, but you can help. Report [ [False Positive](https://www.reddit.com/message/compose/?to=RepostSleuthBot&subject=False%20Positive&message={\"post_id\": \"u4jxsd\", \"meme_template\": null}) ]*\\n\\n[View Search On repostsleuth.com](https://www.repostsleuth.com/search?postId=u4jxsd&sameSub=false&filterOnlyOlder=true&memeFilter=false&filterDeadMatches=false&targetImageMatch=92&targetImageMemeMatch=97)\\n\\n---\\n\\n**Scope:** Reddit | **Meme Filter:** False | **Target:** 92% | **Check Title:** False | **Max Age:** None | **Searched Images:** 317,689,418 | **Search Time:** 10.61259s',\n",
       " 'Looks like a repost. I\\'ve seen this image 5 times.\\n\\nFirst Seen [Here](https://redd.it/ibhrjq) on 2020-08-17 95.31% match. Last Seen [Here](https://redd.it/mdmbjw) on 2021-03-26 93.75% match\\n\\n*I\\'m not perfect, but you can help. Report [ [False Positive](https://www.reddit.com/message/compose/?to=RepostSleuthBot&subject=False%20Positive&message={\"post_id\": \"u4g9tm\", \"meme_template\": null}) ]*\\n\\n[View Search On repostsleuth.com](https://www.repostsleuth.com/search?postId=u4g9tm&sameSub=false&filterOnlyOlder=true&memeFilter=false&filterDeadMatches=false&targetImageMatch=92&targetImageMemeMatch=97)\\n\\n---\\n\\n**Scope:** Reddit | **Meme Filter:** False | **Target:** 92% | **Check Title:** False | **Max Age:** None | **Searched Images:** 260,532,923 | **Search Time:** 0.62931s',\n",
       " 'WARNING. NEW ACCOUNT DETECTED. IS THIS PERSON TRYING TO SELL OR BUY DOGECOIN? Are they trying to get you to comment on a T-Shirt? Are they posting fake Twitter images containing links? BE CAREFUL. IT COULD BE A SCAM..\\n\\nI see you are new here, Welcome to /r/dogecoin. How did you find out about Dogecoin?\\n\\nDo you have any questions you need answered to help get you started?  \\n\\nHere are some handy links:\\n\\n[How to buy Dogecoin](https://www.reddit.com/r/dogecoin/comments/msp3e9/how_to_buy_dogecoin/)\\n\\n[Using the subreddit tipbot](/r/sodogetip/wiki/index)\\n\\n[Wallet Help - ELI5](https://redd.it/3b3h5d/)\\n\\nPlease check the information on the sidebar -->>\\n\\n*I am a bot, and this action was performed automatically. Please [contact the moderators of this subreddit](/message/compose/?to=/r/dogecoin) if you have any questions or concerns.*',\n",
       " \"Here's a sneak peek of /r/ledgerwallet using the [top posts](https://np.reddit.com/r/ledgerwallet/top/?sort=top&t=year) of the year!\\n\\n\\\\#1: [New line by Ledger?](https://i.redd.it/trof2z1wgj661.jpg) | [75 comments](https://np.reddit.com/r/ledgerwallet/comments/khh0mn/new_line_by_ledger/)  \\n\\\\#2: [security](https://i.redd.it/z2zul5oyah661.png) | [104 comments](https://np.reddit.com/r/ledgerwallet/comments/khb7zb/security/)  \\n\\\\#3: [I just got a death threat](https://np.reddit.com/r/ledgerwallet/comments/khzbn2/i_just_got_a_death_threat/)\\n\\n----\\n^^I'm ^^a ^^bot, ^^beep ^^boop ^^| ^^Downvote ^^to ^^remove ^^| [^^Contact ^^me](https://www.reddit.com/message/compose/?to=sneakpeekbot) ^^| [^^Info](https://np.reddit.com/r/sneakpeekbot/) ^^| [^^Opt-out](https://np.reddit.com/r/sneakpeekbot/comments/joo7mb/blacklist_viii/)\",\n",
       " \"\\n* [**NEWBIES GUIDE**](https://www.reddit.com/r/cardano/comments/lnj5ne/getting_started_guide_a_newbies_guide_to_cardano/) *Ensure you've read this guide or your post may be removed.*\\n* [**PROJECT CATALYST**](https://cardano.ideascale.com/) *Participate! Create, propose and VOTE on projects to be built on Cardano!*\\n\\n* ⚠️ [**PSA - SCAMS**](https://www.reddit.com/r/cardano/comments/lccorg/psa_there_is_no_such_thing_as_cardano_giveaways/) *Read about fake wallets and giveaways to stay safe.*\\n\\n\\n*I am a bot, and this action was performed automatically. Please [contact the moderators of this subreddit](/message/compose/?to=/r/cardano) if you have any questions or concerns.*\",\n",
       " \"Here's a sneak peek of /r/NoFap using the [top posts](https://np.reddit.com/r/NoFap/top/?sort=top&t=year) of the year!\\n\\n\\\\#1: [Not bad at all](https://i.redd.it/14whcakvxf951.jpg) | [368 comments](https://np.reddit.com/r/NoFap/comments/hmuz47/not_bad_at_all/)  \\n\\\\#2: [don't make the same mistakes i made bois](https://v.redd.it/228pw3elags41) | [397 comments](https://np.reddit.com/r/NoFap/comments/g04nq1/dont_make_the_same_mistakes_i_made_bois/)  \\n\\\\#3: [Instead of jacking off, I made this...](https://v.redd.it/xn22zqwj97151) | [953 comments](https://np.reddit.com/r/NoFap/comments/gr8ygh/instead_of_jacking_off_i_made_this/)\\n\\n----\\n^^I'm ^^a ^^bot, ^^beep ^^boop ^^| ^^Downvote ^^to ^^remove ^^| [^^Contact ^^me](https://www.reddit.com/message/compose/?to=sneakpeekbot) ^^| [^^Info](https://np.reddit.com/r/sneakpeekbot/) ^^| [^^Opt-out](https://np.reddit.com/r/sneakpeekbot/comments/joo7mb/blacklist_viii/)\",\n",
       " \"This post appears to be related to buying Cardano. This is a common question - for a list of exchanges please see [this post](https://www.reddit.com/r/cardano/comments/kns334/some_useful_links_for_new_users_cardano/). Please also make use of the search, [here's a search for buying](https://www.reddit.com/r/cardano/search?q=buy&restrict_sr=1).\\n\\n\\n*I am a bot, and this action was performed automatically. Please [contact the moderators of this subreddit](/message/compose/?to=/r/cardano) if you have any questions or concerns.*\",\n",
       " \"This graphic is really nice and well made, but it has some false info on it. ROI across all pool sizes are not all 5-6% per year. You can even see it for yourself using the AdaHeartPool calculator and looking at a pool size of 1M vs 20M (all else equal): [https://www.adaheartpool.com/about-us/](https://www.adaheartpool.com/about-us/)\\n\\nSuch a pool would give around 3% APY (assuming perfect pool performance and 0% marginal fees). This is pretty consistent with my analysis here: [https://www.reddit.com/r/cardano/comments/mxmigd/chance\\\\_of\\\\_zero\\\\_blocks\\\\_per\\\\_epoch/?utm\\\\_source=share&utm\\\\_medium=web2x&context=3](https://www.reddit.com/r/cardano/comments/mxmigd/chance_of_zero_blocks_per_epoch/?utm_source=share&utm_medium=web2x&context=3)\\n\\nOnly around 8.5M stake does a pool start to average around 5% APY, and it increases towards about 5.3% APY. Any pool below 100,000 ADA total stake is has below 3.5% ROI, which is significantly less than 5.3% ROI. In other words, if you were expecting to get 500 ADA this year from staking to a small pool, then after 73 epochs, you'll only have around 330 ADA in rewards. Whether that difference is 'big' or 'small' is up to the person staking, but it's better to have the correct information on this graphic. \\n\\nRight now, there are a lot of people who are quoting this graphic as if it were the truth, and that kind of misinformation will eventually push people away once they see how little ADA they're getting. The analysis I did showed that any pool with less than 15,000 ADA staked will expect to take over a year to make the first block. If newbies are staking to these small pools because they are being told that these are the pools that are best for decentralization, then they'll never make any rewards and may be turned away from ADA as a result of it. I can see that in a lot of the smaller pools, the ones who are delegating to them are newbies, so that's why I want to correct this misinformation.\",\n",
       " '\\n* [**NEWBIES GUIDE**](https://www.reddit.com/r/cardano/comments/lnj5ne/getting_started_guide_a_newbies_guide_to_cardano/) *Start here*\\n* [**PROJECT CATALYST**](https://cardano.ideascale.com/) *Propose and vote on projects*\\n* ⚠️ [**PSA - SCAMS**](https://www.reddit.com/r/cardano/comments/lccorg/psa_there_is_no_such_thing_as_cardano_giveaways/) *Be wary of common scams!*\\n\\n\\n*I am a bot, and this action was performed automatically. Please [contact the moderators of this subreddit](/message/compose/?to=/r/cardano) if you have any questions or concerns.*',\n",
       " \"This post has been removed as it contains market/price related keywords that are filtered due to rule 6 (market discussion and trading posts are prohibited). We currently have an overwhelming amount of users posting about price, instead please use the [daily thread](https://www.reddit.com/r/cardano/?f=flair_name%3A%22Daily%20Thread%22) for price and trading related discussions or visit r/CardanoTrading. Please only contact the moderators if your post has been filtered by mistake.  \\n\\n* [**NEWBIES GUIDE**](https://www.reddit.com/r/cardano/comments/lnj5ne/getting_started_guide_a_newbies_guide_to_cardano/) *Ensure you've read this guide or your post may be removed.*\\n* [**PROJECT CATALYST**](https://cardano.ideascale.com/) *Participate! Create, propose and VOTE on projects to be built on Cardano!*\\n* ⚠️ [**PSA - SCAMS**](https://www.reddit.com/r/cardano/comments/lccorg/psa_there_is_no_such_thing_as_cardano_giveaways/) *Read about fake wallets and giveaways to stay safe.*\\n\\n\\n*I am a bot, and this action was performed automatically. Please [contact the moderators of this subreddit](/message/compose/?to=/r/cardano) if you have any questions or concerns.*\",\n",
       " \"This post is currently under review by the moderation team as it appears to be a scam/giveaway related post. Note if you're reporting a giveaway scam on youtube please don't post these to the subreddit as it directs traffic to them and dilutes the sub, instead report them to the [Cardano Fraud Detection Bureau](https://cfdb.atlassian.net/servicedesk/customer/portal/1). The scams on youtube are automated and unfortunately it's an endless game of wack-a-mole, so be aware of them and report them when you see them.   \\n\\nPlease make sure you read the material below to help stay safe:\\n\\n#Safety and Scams    \\n\\n*Always be vigilant - especially on Youtube with 'giveaway' scams!*\\n\\n* Never share your recovery seed phrase.\\n\\n* Never send your crypto to someone promising to send more back (youtube 'giveaway' scam) - [See advanced fee scam](https://en.wikipedia.org/wiki/Advance-fee_scam#:~:text=An%20advance%2Dfee%20scam%20is,to%20obtain%20the%20large%20sum.)\\n\\n* Always download wallets from a trusted sources, and be aware there are imitation wallets in app stores - if in doubt, ask!\\n\\n**Please read the following articles to stay secure**\\n\\n[There is no such thing as Cardano giveaways!](https://www.reddit.com/r/cardano/comments/lccorg/psa_there_is_no_such_thing_as_cardano_giveaways/)\\n\\n[How do I identify cryptocurrency scams?](https://www.reddit.com/r/Cardano_ELI5/comments/l5ru7v/how_do_i_identify_cryptocurrency_scams/)\\n\\n[Tips for staying safe online](https://iohk.zendesk.com/hc/en-us/articles/360015295134-Tips-for-Staying-Safe-Online)\\n\\n[Cyber security guidelines for Cardano users](https://iohk.zendesk.com/hc/en-us/articles/900005141163-Cybersecurity-guidelines-for-Cardano-users)\\n\\n[Daedalus security when using computer repair services](https://iohk.zendesk.com/hc/en-us/articles/360015360154-Daedalus-security-when-using-computer-repair-services)\\n\\nTyping `?help` in the comments will show a list of all available comment commands.\\n\\n\\n*I am a bot, and this action was performed automatically. Please [contact the moderators of this subreddit](/message/compose/?to=/r/cardano) if you have any questions or concerns.*\",\n",
       " '\\n* [**NEWBIES GUIDE**](https://www.reddit.com/r/cardano/comments/lnj5ne/getting_started_guide_a_newbies_guide_to_cardano/) *Start here*\\n* [**PROJECT CATALYST**](https://cardano.ideascale.com/) *Propose and vote on projects*\\n* ⚠️ [**PSA - SCAMS**](https://www.reddit.com/r/cardano/comments/lccorg/psa_there_is_no_such_thing_as_cardano_giveaways/) *Be wary of common scams!*\\n\\n\\n*I am a bot, and this action was performed automatically. Please [contact the moderators of this subreddit](/message/compose/?to=/r/cardano) if you have any questions or concerns.*',\n",
       " \"To post in this community you must have at least 25 combined Karma **(earned from comments or posts only)**, and your account must be older than 15 days. Please **do not** contact the moderators asking for approval. You are restricted to commenting in the [daily thread](https://www.reddit.com/r/cardano/?f=flair_name%3A%22Daily%20Thread%22) until you meet those requirements.   \\n\\nWe have a comprehensive [**NEWBIES GUIDE**](https://www.reddit.com/r/cardano/comments/lnj5ne/getting_started_guide_a_newbies_guide_to_cardano/) which covers everything from buying ADA to storing and staking. Please make sure you've read the guide and are making use of the subreddit search (rule 5) which helps maintain content quality in our subreddit. Thank you!\\n\\n*I am a bot, and this action was performed automatically. Please [contact the moderators of this subreddit](/message/compose/?to=/r/cardano) if you have any questions or concerns.*\",\n",
       " '\\n* [**NEWBIES GUIDE**](https://www.reddit.com/r/cardano/comments/lnj5ne/getting_started_guide_a_newbies_guide_to_cardano/) *Start here*\\n* [**PROJECT CATALYST**](https://cardano.ideascale.com/) *Propose and vote on projects*\\n* ⚠️ [**PSA - SCAMS**](https://www.reddit.com/r/cardano/comments/lccorg/psa_there_is_no_such_thing_as_cardano_giveaways/) *Be wary of common scams!*\\n\\n\\n*I am a bot, and this action was performed automatically. Please [contact the moderators of this subreddit](/message/compose/?to=/r/cardano) if you have any questions or concerns.*',\n",
       " \"#Storing your ADA    \\n\\nCardano's two native wallets are:\\n\\n[**Daedalus**](https://daedaluswallet.io/) *A full node wallet available on desktop.*\\n\\n[**Yoroi**](https://yoroi-wallet.com/#/) *A light browser based wallet, and mobile app.*\\n\\nNotable third party/community wallets:\\n\\n[Adalite](https://adalite.io/) *A light web wallet.*\\n\\n[ccvault](https://ccvault.io/) *A light web wallet.*\\n\\n[Typhon Wallet](https://typhonwallet.io/) *A light web wallet.*\\n\\n[Atomic Wallet](https://atomicwallet.io/) *A light desktop/mobile wallet.*\\n\\nRead the following r/Cardano_ELI5 posts to understand more about wallets:\\n\\n* [**How do I store my ADA?**](https://www.reddit.com/r/Cardano_ELI5/comments/l00h4a/how_do_i_store_my_ada/)\\n\\n* [**Full node vs light wallet**](https://www.reddit.com/r/Cardano_ELI5/comments/l003fc/whats_the_difference_between_a_light_wallet_like/) *Explains the differences between a full node wallet like Daedalus and light wallet like Yoroi.*\\n\\n* [**Hot wallets vs cold wallets**](https://www.reddit.com/r/Cardano_ELI5/comments/l005vx/whats_the_difference_between_a_hot_wallet_like/) *Explains wallet interfaces, seed phrases, public + private keys and hardware wallets.*\\n\\n* [**How do I use a hardware wallet (like Trezor/Ledger/etc.) with Cardano?**](https://www.reddit.com/r/Cardano_ELI5/comments/lcx52o/how_do_i_use_a_hardware_wallet_like/)\\n\\nTyping `?help` in the comments will show a list of all available comment commands.\\n\\n*I am a bot, and this action was performed automatically. Please [contact the moderators of this subreddit](/message/compose/?to=/r/cardano) if you have any questions or concerns.*\",\n",
       " '\\n* [**NEWBIES GUIDE**](https://www.reddit.com/r/cardano/comments/lnj5ne/getting_started_guide_a_newbies_guide_to_cardano/) *Start here*\\n* [**PROJECT CATALYST**](https://cardano.ideascale.com/) *Propose and vote on projects*\\n* ⚠️ [**PSA - SCAMS**](https://www.reddit.com/r/cardano/comments/lccorg/psa_there_is_no_such_thing_as_cardano_giveaways/) *Be wary of common scams!*\\n\\n\\n*I am a bot, and this action was performed automatically. Please [contact the moderators of this subreddit](/message/compose/?to=/r/cardano) if you have any questions or concerns.*',\n",
       " '\\n* [**NEWBIES GUIDE**](https://www.reddit.com/r/cardano/comments/lnj5ne/getting_started_guide_a_newbies_guide_to_cardano/) *Start here*\\n* [**PROJECT CATALYST**](https://cardano.ideascale.com/) *Propose and vote on projects*\\n* ⚠️ [**PSA - SCAMS**](https://www.reddit.com/r/cardano/comments/lccorg/psa_there_is_no_such_thing_as_cardano_giveaways/) *Be wary of common scams!*\\n\\n\\n*I am a bot, and this action was performed automatically. Please [contact the moderators of this subreddit](/message/compose/?to=/r/cardano) if you have any questions or concerns.*',\n",
       " '\\n* [**NEWBIES GUIDE**](https://www.reddit.com/r/cardano/comments/lnj5ne/getting_started_guide_a_newbies_guide_to_cardano/) *Start here*\\n* [**PROJECT CATALYST**](https://cardano.ideascale.com/) *Propose and vote on projects*\\n* ⚠️ [**PSA - SCAMS**](https://www.reddit.com/r/cardano/comments/lccorg/psa_there_is_no_such_thing_as_cardano_giveaways/) *Be wary of common scams!*\\n\\n\\n*I am a bot, and this action was performed automatically. Please [contact the moderators of this subreddit](/message/compose/?to=/r/cardano) if you have any questions or concerns.*',\n",
       " \"To post in this community you must have at least 25 combined Karma **(earned from comments or posts only)**, and your account must be older than 15 days. Please **do not** contact the moderators asking for approval. You are restricted to commenting in the [daily thread](https://www.reddit.com/r/cardano/?f=flair_name%3A%22Daily%20Thread%22) until you meet those requirements.   \\n\\nWe have a comprehensive [**NEWBIES GUIDE**](https://www.reddit.com/r/cardano/comments/lnj5ne/getting_started_guide_a_newbies_guide_to_cardano/) which covers everything from buying ADA to storing and staking. Please make sure you've read the guide and are making use of the subreddit search (rule 5) which helps maintain content quality in our subreddit. Thank you!\\n\\n*I am a bot, and this action was performed automatically. Please [contact the moderators of this subreddit](/message/compose/?to=/r/cardano) if you have any questions or concerns.*\",\n",
       " '\\n* [**NEWBIES GUIDE**](https://www.reddit.com/r/cardano/comments/lnj5ne/getting_started_guide_a_newbies_guide_to_cardano/) *Start here*\\n* [**PROJECT CATALYST**](https://cardano.ideascale.com/) *Propose and vote on projects*\\n* ⚠️ [**PSA - SCAMS**](https://www.reddit.com/r/cardano/comments/lccorg/psa_there_is_no_such_thing_as_cardano_giveaways/) *Be wary of common scams!*\\n\\n\\n*I am a bot, and this action was performed automatically. Please [contact the moderators of this subreddit](/message/compose/?to=/r/cardano) if you have any questions or concerns.*',\n",
       " '\\n* [**NEWBIES GUIDE**](https://www.reddit.com/r/cardano/comments/lnj5ne/getting_started_guide_a_newbies_guide_to_cardano/) *Start here*\\n* [**PROJECT CATALYST**](https://cardano.ideascale.com/) *Propose and vote on projects*\\n* ⚠️ [**PSA - SCAMS**](https://www.reddit.com/r/cardano/comments/lccorg/psa_there_is_no_such_thing_as_cardano_giveaways/) *Be wary of common scams!*\\n\\n\\n*I am a bot, and this action was performed automatically. Please [contact the moderators of this subreddit](/message/compose/?to=/r/cardano) if you have any questions or concerns.*',\n",
       " \"To post in this community you must have at least 25 combined Karma **(earned from comments or posts only)**, and your account must be older than 15 days. Please **do not** contact the moderators asking for approval. You are restricted to commenting in the [daily thread](https://www.reddit.com/r/cardano/?f=flair_name%3A%22Daily%20Thread%22) until you meet those requirements.   \\n\\nWe have a comprehensive [**NEWBIES GUIDE**](https://www.reddit.com/r/cardano/comments/lnj5ne/getting_started_guide_a_newbies_guide_to_cardano/) which covers everything from buying ADA to storing and staking. Please make sure you've read the guide and are making use of the subreddit search (rule 5) which helps maintain content quality in our subreddit. Thank you!\\n\\n*I am a bot, and this action was performed automatically. Please [contact the moderators of this subreddit](/message/compose/?to=/r/cardano) if you have any questions or concerns.*\",\n",
       " '\\n* [**NEWBIES GUIDE**](https://www.reddit.com/r/cardano/comments/lnj5ne/getting_started_guide_a_newbies_guide_to_cardano/) *Start here*\\n* [**PROJECT CATALYST**](https://cardano.ideascale.com/) *Propose and vote on projects*\\n* ⚠️ [**PSA - SCAMS**](https://www.reddit.com/r/cardano/comments/lccorg/psa_there_is_no_such_thing_as_cardano_giveaways/) *Be wary of common scams!*\\n\\n\\n*I am a bot, and this action was performed automatically. Please [contact the moderators of this subreddit](/message/compose/?to=/r/cardano) if you have any questions or concerns.*',\n",
       " '\\n* [**NEWBIES GUIDE**](https://www.reddit.com/r/cardano/comments/lnj5ne/getting_started_guide_a_newbies_guide_to_cardano/) *Start here*\\n* [**PROJECT CATALYST**](https://cardano.ideascale.com/) *Propose and vote on projects*\\n* ⚠️ [**PSA - SCAMS**](https://www.reddit.com/r/cardano/comments/lccorg/psa_there_is_no_such_thing_as_cardano_giveaways/) *Be wary of common scams!*\\n\\n\\n*I am a bot, and this action was performed automatically. Please [contact the moderators of this subreddit](/message/compose/?to=/r/cardano) if you have any questions or concerns.*',\n",
       " '\\n* [**NEWBIES GUIDE**](https://www.reddit.com/r/cardano/comments/lnj5ne/getting_started_guide_a_newbies_guide_to_cardano/) *Start here*\\n* [**PROJECT CATALYST**](https://cardano.ideascale.com/) *Propose and vote on projects*\\n* ⚠️ [**PSA - SCAMS**](https://www.reddit.com/r/cardano/comments/lccorg/psa_there_is_no_such_thing_as_cardano_giveaways/) *Be wary of common scams!*\\n\\n\\n*I am a bot, and this action was performed automatically. Please [contact the moderators of this subreddit](/message/compose/?to=/r/cardano) if you have any questions or concerns.*',\n",
       " '\\n* [**NEWBIES GUIDE**](https://www.reddit.com/r/cardano/comments/lnj5ne/getting_started_guide_a_newbies_guide_to_cardano/) *Start here*\\n* [**PROJECT CATALYST**](https://cardano.ideascale.com/) *Propose and vote on projects*\\n* ⚠️ [**PSA - SCAMS**](https://www.reddit.com/r/cardano/comments/lccorg/psa_there_is_no_such_thing_as_cardano_giveaways/) *Be wary of common scams!*\\n\\n\\n*I am a bot, and this action was performed automatically. Please [contact the moderators of this subreddit](/message/compose/?to=/r/cardano) if you have any questions or concerns.*',\n",
       " \"This submission has been filtered into the moderation queue because it contains flagged advertisement key words. Note if you're advertising your NFT, please use the sister sub  r/CardanoNFTs. \\n\\nIf this post has been filtered by mistake, please kindly wait for it to be approved by a moderator.\\n\\n*I am a bot, and this action was performed automatically. Please [contact the moderators of this subreddit](/message/compose/?to=/r/cardano) if you have any questions or concerns.*\",\n",
       " '\\n* [**NEWBIES GUIDE**](https://www.reddit.com/r/cardano/comments/lnj5ne/getting_started_guide_a_newbies_guide_to_cardano/) *Start here*\\n* [**PROJECT CATALYST**](https://cardano.ideascale.com/) *Propose and vote on projects*\\n* ⚠️ [**PSA - SCAMS**](https://www.reddit.com/r/cardano/comments/lccorg/psa_there_is_no_such_thing_as_cardano_giveaways/) *Be wary of common scams!*\\n\\n\\n*I am a bot, and this action was performed automatically. Please [contact the moderators of this subreddit](/message/compose/?to=/r/cardano) if you have any questions or concerns.*',\n",
       " '\\n* [**NEWBIES GUIDE**](https://www.reddit.com/r/cardano/comments/lnj5ne/getting_started_guide_a_newbies_guide_to_cardano/) *Start here*\\n* [**PROJECT CATALYST**](https://cardano.ideascale.com/) *Propose and vote on projects*\\n* ⚠️ [**PSA - SCAMS**](https://www.reddit.com/r/cardano/comments/lccorg/psa_there_is_no_such_thing_as_cardano_giveaways/) *Be wary of common scams!*\\n\\n\\n*I am a bot, and this action was performed automatically. Please [contact the moderators of this subreddit](/message/compose/?to=/r/cardano) if you have any questions or concerns.*',\n",
       " '\\n* [**NEWBIES GUIDE**](https://www.reddit.com/r/cardano/comments/lnj5ne/getting_started_guide_a_newbies_guide_to_cardano/) *Start here*\\n* [**PROJECT CATALYST**](https://cardano.ideascale.com/) *Propose and vote on projects*\\n* ⚠️ [**PSA - SCAMS**](https://www.reddit.com/r/cardano/comments/lccorg/psa_there_is_no_such_thing_as_cardano_giveaways/) *Be wary of common scams!*\\n\\n\\n*I am a bot, and this action was performed automatically. Please [contact the moderators of this subreddit](/message/compose/?to=/r/cardano) if you have any questions or concerns.*',\n",
       " 'This post appears to be related to buying Cardano. We currently have an overwhelming amount of people asking if they should invest, and where to buy. Remember no-one knows what will happen with the price, and you should only make investment decisions based on your own research.\\n\\nIf you have just bought Cardano and want to introduce yourself, please do so in the [daily thread](https://www.reddit.com/r/cardano/?f=flair_name%3A%22Daily%20Thread%22) (rule 7).\\n\\nWith regards to buying, please see this dedicated post [\"How do I buy ADA?\"](https://www.reddit.com/r/Cardano_ELI5/comments/l00130/how_do_i_buy_ada/). For a list of exchanges please see [this link](https://www.reddit.com/r/Cardano_ELI5/wiki/index#wiki_cardano_compatible_exchanges).          \\n\\nPlease also make use of the search, **using the search is expected of you and is rule 5 of this subreddit**, [here\\'s a example search for buying](https://www.reddit.com/r/cardano/search?q=buy&restrict_sr=1). You can also ask questions in the [daily thread](https://www.reddit.com/r/cardano/?f=flair_name%3A%22Daily%20Thread%22). \\n\\nIf you have just bought Cardano and want to introduce yourself, please do so in the [daily thread](https://www.reddit.com/r/cardano/?f=flair_name%3A%22Daily%20Thread%22) (rule 7).\\n\\n* [**NEWBIES GUIDE**](https://www.reddit.com/r/cardano/comments/lnj5ne/getting_started_guide_a_newbies_guide_to_cardano/) *Ensure you\\'ve read this guide or your post may be removed.*\\n* [**PROJECT CATALYST**](https://cardano.ideascale.com/) *Participate! Create, propose and VOTE on projects to be built on Cardano!*\\n* ⚠️ [**PSA - SCAMS**](https://www.reddit.com/r/cardano/comments/lccorg/psa_there_is_no_such_thing_as_cardano_giveaways/) *Read about fake wallets and giveaways to stay safe.*\\n\\n\\n*I am a bot, and this action was performed automatically. Please [contact the moderators of this subreddit](/message/compose/?to=/r/cardano) if you have any questions or concerns.*',\n",
       " '\\n* [**NEWBIES GUIDE**](https://www.reddit.com/r/cardano/comments/lnj5ne/getting_started_guide_a_newbies_guide_to_cardano/) *Start here*\\n* [**PROJECT CATALYST**](https://cardano.ideascale.com/) *Propose and vote on projects*\\n* ⚠️ [**PSA - SCAMS**](https://www.reddit.com/r/cardano/comments/lccorg/psa_there_is_no_such_thing_as_cardano_giveaways/) *Be wary of common scams!*\\n\\n\\n*I am a bot, and this action was performed automatically. Please [contact the moderators of this subreddit](/message/compose/?to=/r/cardano) if you have any questions or concerns.*',\n",
       " \"This submission has been filtered into the moderation queue because it contains flagged advertisement key words. Note if you're advertising your NFT, please use the sister sub  r/CardanoNFTs. \\n\\nIf this post has been filtered by mistake, please kindly wait for it to be approved by a moderator.\\n\\n*I am a bot, and this action was performed automatically. Please [contact the moderators of this subreddit](/message/compose/?to=/r/cardano) if you have any questions or concerns.*\",\n",
       " \"This submission has been filtered into the moderation queue because it contains flagged advertisement key words. Note if you're advertising your NFT, please use the sister sub  r/CardanoNFTs. \\n\\nIf this post has been filtered by mistake, please kindly wait for it to be approved by a moderator.\\n\\n*I am a bot, and this action was performed automatically. Please [contact the moderators of this subreddit](/message/compose/?to=/r/cardano) if you have any questions or concerns.*\",\n",
       " \"To post in this community you must have at least 25 combined Karma **(earned from comments or posts only)**, and your account must be older than 15 days. Please **do not** contact the moderators asking for approval. You are restricted to commenting in the [daily thread](https://www.reddit.com/r/cardano/?f=flair_name%3A%22Daily%20Thread%22) until you meet those requirements.   \\n\\nWe have a comprehensive [**NEWBIES GUIDE**](https://www.reddit.com/r/cardano/comments/lnj5ne/getting_started_guide_a_newbies_guide_to_cardano/) which covers everything from buying ADA to storing and staking. Please make sure you've read the guide and are making use of the subreddit search (rule 5) which helps maintain content quality in our subreddit. Thank you!\\n\\n*I am a bot, and this action was performed automatically. Please [contact the moderators of this subreddit](/message/compose/?to=/r/cardano) if you have any questions or concerns.*\",\n",
       " \"To post in this community you must have at least 25 combined Karma **(earned from comments or posts only)**, and your account must be older than 15 days. Please **do not** contact the moderators asking for approval. You are restricted to commenting in the [daily thread](https://www.reddit.com/r/cardano/?f=flair_name%3A%22Daily%20Thread%22) until you meet those requirements.   \\n\\nWe have a comprehensive [**NEWBIES GUIDE**](https://www.reddit.com/r/cardano/comments/lnj5ne/getting_started_guide_a_newbies_guide_to_cardano/) which covers everything from buying ADA to storing and staking. Please make sure you've read the guide and are making use of the subreddit search (rule 5) which helps maintain content quality in our subreddit. Thank you!\\n\\n*I am a bot, and this action was performed automatically. Please [contact the moderators of this subreddit](/message/compose/?to=/r/cardano) if you have any questions or concerns.*\",\n",
       " \"This post has been removed as it contains market/price related keywords that are filtered due to rule 6 (market discussion and trading posts are prohibited). We currently have an overwhelming amount of users posting about price, instead please use the [daily thread](https://www.reddit.com/r/cardano/?f=flair_name%3A%22Daily%20Thread%22) for price and trading related discussions or visit r/CardanoTrading. Please only contact the moderators if your post has been filtered by mistake.  \\n\\n* [**NEWBIES GUIDE**](https://www.reddit.com/r/cardano/comments/lnj5ne/getting_started_guide_a_newbies_guide_to_cardano/) *Ensure you've read this guide or your post may be removed.*\\n* [**PROJECT CATALYST**](https://cardano.ideascale.com/) *Participate! Create, propose and VOTE on projects to be built on Cardano!*\\n* ⚠️ [**PSA - SCAMS**](https://www.reddit.com/r/cardano/comments/lccorg/psa_there_is_no_such_thing_as_cardano_giveaways/) *Read about fake wallets and giveaways to stay safe.*\\n\\n\\n*I am a bot, and this action was performed automatically. Please [contact the moderators of this subreddit](/message/compose/?to=/r/cardano) if you have any questions or concerns.*\",\n",
       " \"This post has been removed as it contains market/price related keywords that are filtered due to rule 6 (market discussion and trading posts are prohibited). We currently have an overwhelming amount of users posting about price, instead please use the [daily thread](https://www.reddit.com/r/cardano/?f=flair_name%3A%22Daily%20Thread%22) for price and trading related discussions or visit r/CardanoTrading. Please only contact the moderators if your post has been filtered by mistake.  \\n\\n* [**NEWBIES GUIDE**](https://www.reddit.com/r/cardano/comments/lnj5ne/getting_started_guide_a_newbies_guide_to_cardano/) *Ensure you've read this guide or your post may be removed.*\\n* [**PROJECT CATALYST**](https://cardano.ideascale.com/) *Participate! Create, propose and VOTE on projects to be built on Cardano!*\\n* ⚠️ [**PSA - SCAMS**](https://www.reddit.com/r/cardano/comments/lccorg/psa_there_is_no_such_thing_as_cardano_giveaways/) *Read about fake wallets and giveaways to stay safe.*\\n\\n\\n*I am a bot, and this action was performed automatically. Please [contact the moderators of this subreddit](/message/compose/?to=/r/cardano) if you have any questions or concerns.*\",\n",
       " '\\n* [**NEWBIES GUIDE**](https://www.reddit.com/r/cardano/comments/lnj5ne/getting_started_guide_a_newbies_guide_to_cardano/) *Start here*\\n* [**PROJECT CATALYST**](https://cardano.ideascale.com/) *Propose and vote on projects*\\n* ⚠️ [**PSA - SCAMS**](https://www.reddit.com/r/cardano/comments/lccorg/psa_there_is_no_such_thing_as_cardano_giveaways/) *Be wary of common scams!*\\n\\n\\n*I am a bot, and this action was performed automatically. Please [contact the moderators of this subreddit](/message/compose/?to=/r/cardano) if you have any questions or concerns.*',\n",
       " \"This post has been removed as it contains market/price related keywords that are filtered due to rule 6 (market discussion and trading posts are prohibited). We currently have an overwhelming amount of users posting about price, instead please use the [daily thread](https://www.reddit.com/r/cardano/?f=flair_name%3A%22Daily%20Thread%22) for price and trading related discussions or visit r/CardanoTrading. Please only contact the moderators if your post has been filtered by mistake.  \\n\\n* [**NEWBIES GUIDE**](https://www.reddit.com/r/cardano/comments/lnj5ne/getting_started_guide_a_newbies_guide_to_cardano/) *Ensure you've read this guide or your post may be removed.*\\n* [**PROJECT CATALYST**](https://cardano.ideascale.com/) *Participate! Create, propose and VOTE on projects to be built on Cardano!*\\n* ⚠️ [**PSA - SCAMS**](https://www.reddit.com/r/cardano/comments/lccorg/psa_there_is_no_such_thing_as_cardano_giveaways/) *Read about fake wallets and giveaways to stay safe.*\\n\\n\\n*I am a bot, and this action was performed automatically. Please [contact the moderators of this subreddit](/message/compose/?to=/r/cardano) if you have any questions or concerns.*\",\n",
       " '\\n* [**NEWBIES GUIDE**](https://www.reddit.com/r/cardano/comments/lnj5ne/getting_started_guide_a_newbies_guide_to_cardano/) *Start here*\\n* [**PROJECT CATALYST**](https://cardano.ideascale.com/) *Propose and vote on projects*\\n* ⚠️ [**PSA - SCAMS**](https://www.reddit.com/r/cardano/comments/lccorg/psa_there_is_no_such_thing_as_cardano_giveaways/) *Be wary of common scams!*\\n\\n\\n*I am a bot, and this action was performed automatically. Please [contact the moderators of this subreddit](/message/compose/?to=/r/cardano) if you have any questions or concerns.*',\n",
       " '\\n* [**NEWBIES GUIDE**](https://www.reddit.com/r/cardano/comments/lnj5ne/getting_started_guide_a_newbies_guide_to_cardano/) *Start here*\\n* [**PROJECT CATALYST**](https://cardano.ideascale.com/) *Propose and vote on projects*\\n* ⚠️ [**PSA - SCAMS**](https://www.reddit.com/r/cardano/comments/lccorg/psa_there_is_no_such_thing_as_cardano_giveaways/) *Be wary of common scams!*\\n\\n\\n*I am a bot, and this action was performed automatically. Please [contact the moderators of this subreddit](/message/compose/?to=/r/cardano) if you have any questions or concerns.*',\n",
       " '\\n* [**NEWBIES GUIDE**](https://www.reddit.com/r/cardano/comments/lnj5ne/getting_started_guide_a_newbies_guide_to_cardano/) *Start here*\\n* [**PROJECT CATALYST**](https://cardano.ideascale.com/) *Propose and vote on projects*\\n* ⚠️ [**PSA - SCAMS**](https://www.reddit.com/r/cardano/comments/lccorg/psa_there_is_no_such_thing_as_cardano_giveaways/) *Be wary of common scams!*\\n\\n\\n*I am a bot, and this action was performed automatically. Please [contact the moderators of this subreddit](/message/compose/?to=/r/cardano) if you have any questions or concerns.*',\n",
       " \"To post in this community you must have at least 25 combined Karma **(earned from comments or posts only)**, and your account must be older than 15 days. Please **do not** contact the moderators asking for approval. You are restricted to commenting in the [daily thread](https://www.reddit.com/r/cardano/?f=flair_name%3A%22Daily%20Thread%22) until you meet those requirements.   \\n\\nWe have a comprehensive [**NEWBIES GUIDE**](https://www.reddit.com/r/cardano/comments/lnj5ne/getting_started_guide_a_newbies_guide_to_cardano/) which covers everything from buying ADA to storing and staking. Please make sure you've read the guide and are making use of the subreddit search (rule 5) which helps maintain content quality in our subreddit. Thank you!\\n\\n*I am a bot, and this action was performed automatically. Please [contact the moderators of this subreddit](/message/compose/?to=/r/cardano) if you have any questions or concerns.*\",\n",
       " '\\n* [**NEWBIES GUIDE**](https://www.reddit.com/r/cardano/comments/lnj5ne/getting_started_guide_a_newbies_guide_to_cardano/) *Start here*\\n* [**PROJECT CATALYST**](https://cardano.ideascale.com/) *Propose and vote on projects*\\n* ⚠️ [**PSA - SCAMS**](https://www.reddit.com/r/cardano/comments/lccorg/psa_there_is_no_such_thing_as_cardano_giveaways/) *Be wary of common scams!*\\n\\n\\n*I am a bot, and this action was performed automatically. Please [contact the moderators of this subreddit](/message/compose/?to=/r/cardano) if you have any questions or concerns.*',\n",
       " 'A lot of increase in development and on community side. Maybe hydra and huge improvements in the shiny tps and fees per transaction numbers crypto retail newbies like so much. \\n\\nMore importantly further steps into self governance, since likely this will be the ultimate fud point once there are many working projects and high throughput on the Cardano network .\\n\\nOnce all that is done the actual commercialization or Cardano can start and the foundation spending money on it, this can also be quite interesting',\n",
       " 'I will be messaging you in 5 months on [**2022-05-31 16:50:23 UTC**](http://www.wolframalpha.com/input/?i=2022-05-31%2016:50:23%20UTC%20To%20Local%20Time) to remind you of [**this link**](https://www.reddit.com/r/cardano/comments/rsqgf1/what_are_your_predictions_for_cardano_in_2022/hqp6m8c/?context=3)\\n\\n[**2 OTHERS CLICKED THIS LINK**](https://www.reddit.com/message/compose/?to=RemindMeBot&subject=Reminder&message=%5Bhttps%3A%2F%2Fwww.reddit.com%2Fr%2Fcardano%2Fcomments%2Frsqgf1%2Fwhat_are_your_predictions_for_cardano_in_2022%2Fhqp6m8c%2F%5D%0A%0ARemindMe%21%202022-05-31%2016%3A50%3A23%20UTC) to send a PM to also be reminded and to reduce spam.\\n\\n^(Parent commenter can ) [^(delete this message to hide from others.)](https://www.reddit.com/message/compose/?to=RemindMeBot&subject=Delete%20Comment&message=Delete%21%20rsqgf1)\\n\\n*****\\n\\n|[^(Info)](https://www.reddit.com/r/RemindMeBot/comments/e1bko7/remindmebot_info_v21/)|[^(Custom)](https://www.reddit.com/message/compose/?to=RemindMeBot&subject=Reminder&message=%5BLink%20or%20message%20inside%20square%20brackets%5D%0A%0ARemindMe%21%20Time%20period%20here)|[^(Your Reminders)](https://www.reddit.com/message/compose/?to=RemindMeBot&subject=List%20Of%20Reminders&message=MyReminders%21)|[^(Feedback)](https://www.reddit.com/message/compose/?to=Watchful1&subject=RemindMeBot%20Feedback)|\\n|-|-|-|-|',\n",
       " '\\n* [**NEWBIES GUIDE**](https://www.reddit.com/r/cardano/comments/lnj5ne/getting_started_guide_a_newbies_guide_to_cardano/) *Start here*\\n* [**PROJECT CATALYST**](https://cardano.ideascale.com/) *Propose and vote on projects*\\n* ⚠️ [**PSA - SCAMS**](https://www.reddit.com/r/cardano/comments/lccorg/psa_there_is_no_such_thing_as_cardano_giveaways/) *Be wary of common scams!*\\n\\n\\n*I am a bot, and this action was performed automatically. Please [contact the moderators of this subreddit](/message/compose/?to=/r/cardano) if you have any questions or concerns.*',\n",
       " \"This submission has been filtered into the moderation queue because it contains flagged advertisement key words. Note if you're advertising your NFT, please use the sister sub  r/CardanoNFTs. \\n\\nIf this post has been filtered by mistake, please kindly wait for it to be approved by a moderator.\\n\\n*I am a bot, and this action was performed automatically. Please [contact the moderators of this subreddit](/message/compose/?to=/r/cardano) if you have any questions or concerns.*\",\n",
       " \"This submission has been filtered into the moderation queue because it contains flagged advertisement key words. Note if you're advertising your NFT, please use the sister sub  r/CardanoNFTs. \\n\\nIf this post has been filtered by mistake, please kindly wait for it to be approved by a moderator.\\n\\n*I am a bot, and this action was performed automatically. Please [contact the moderators of this subreddit](/message/compose/?to=/r/cardano) if you have any questions or concerns.*\",\n",
       " \"This submission has been filtered into the moderation queue because it contains flagged advertisement key words. Note if you're advertising your NFT, please use the sister sub  r/CardanoNFTs. \\n\\nIf this post has been filtered by mistake, please kindly wait for it to be approved by a moderator.\\n\\n*I am a bot, and this action was performed automatically. Please [contact the moderators of this subreddit](/message/compose/?to=/r/cardano) if you have any questions or concerns.*\",\n",
       " '\\n* [**NEWBIES GUIDE**](https://www.reddit.com/r/cardano/comments/lnj5ne/getting_started_guide_a_newbies_guide_to_cardano/) *Start here*\\n* [**PROJECT CATALYST**](https://cardano.ideascale.com/) *Propose and vote on projects*\\n* ⚠️ [**PSA - SCAMS**](https://www.reddit.com/r/cardano/comments/lccorg/psa_there_is_no_such_thing_as_cardano_giveaways/) *Be wary of common scams!*\\n\\n\\n*I am a bot, and this action was performed automatically. Please [contact the moderators of this subreddit](/message/compose/?to=/r/cardano) if you have any questions or concerns.*',\n",
       " \"To post in this community you must have at least 25 combined Karma **(earned from comments or posts only)**, and your account must be older than 15 days. Please **do not** contact the moderators asking for approval. You are restricted to commenting in the [daily thread](https://www.reddit.com/r/cardano/?f=flair_name%3A%22Daily%20Thread%22) until you meet those requirements.   \\n\\nWe have a comprehensive [**NEWBIES GUIDE**](https://www.reddit.com/r/cardano/comments/lnj5ne/getting_started_guide_a_newbies_guide_to_cardano/) which covers everything from buying ADA to storing and staking. Please make sure you've read the guide and are making use of the subreddit search (rule 5) which helps maintain content quality in our subreddit. Thank you!\\n\\n*I am a bot, and this action was performed automatically. Please [contact the moderators of this subreddit](/message/compose/?to=/r/cardano) if you have any questions or concerns.*\",\n",
       " '\\n* [**NEWBIES GUIDE**](https://www.reddit.com/r/cardano/comments/lnj5ne/getting_started_guide_a_newbies_guide_to_cardano/) *Start here*\\n* [**PROJECT CATALYST**](https://cardano.ideascale.com/) *Propose and vote on projects*\\n* ⚠️ [**PSA - SCAMS**](https://www.reddit.com/r/cardano/comments/lccorg/psa_there_is_no_such_thing_as_cardano_giveaways/) *Be wary of common scams!*\\n\\n\\n*I am a bot, and this action was performed automatically. Please [contact the moderators of this subreddit](/message/compose/?to=/r/cardano) if you have any questions or concerns.*',\n",
       " \"To post in this community you must have at least 25 combined Karma **(earned from comments or posts only)**, and your account must be older than 15 days. Please **do not** contact the moderators asking for approval. You are restricted to commenting in the [daily thread](https://www.reddit.com/r/cardano/?f=flair_name%3A%22Daily%20Thread%22) until you meet those requirements.   \\n\\nWe have a comprehensive [**NEWBIES GUIDE**](https://www.reddit.com/r/cardano/comments/lnj5ne/getting_started_guide_a_newbies_guide_to_cardano/) which covers everything from buying ADA to storing and staking. Please make sure you've read the guide and are making use of the subreddit search (rule 5) which helps maintain content quality in our subreddit. Thank you!\\n\\n*I am a bot, and this action was performed automatically. Please [contact the moderators of this subreddit](/message/compose/?to=/r/cardano) if you have any questions or concerns.*\",\n",
       " '\\n* [**NEWBIES GUIDE**](https://www.reddit.com/r/cardano/comments/lnj5ne/getting_started_guide_a_newbies_guide_to_cardano/) *Start here*\\n* [**PROJECT CATALYST**](https://cardano.ideascale.com/) *Propose and vote on projects*\\n* ⚠️ [**PSA - SCAMS**](https://www.reddit.com/r/cardano/comments/lccorg/psa_there_is_no_such_thing_as_cardano_giveaways/) *Be wary of common scams!*\\n\\n\\n*I am a bot, and this action was performed automatically. Please [contact the moderators of this subreddit](/message/compose/?to=/r/cardano) if you have any questions or concerns.*',\n",
       " \"This post has been removed as it contains market/price related keywords that are filtered due to rule 6 (market discussion and trading posts are prohibited). We currently have an overwhelming amount of users posting about price, instead please use the [daily thread](https://www.reddit.com/r/cardano/?f=flair_name%3A%22Daily%20Thread%22) for price and trading related discussions or visit r/CardanoTrading. Please only contact the moderators if your post has been filtered by mistake.  \\n\\n* [**NEWBIES GUIDE**](https://www.reddit.com/r/cardano/comments/lnj5ne/getting_started_guide_a_newbies_guide_to_cardano/) *Ensure you've read this guide or your post may be removed.*\\n* [**PROJECT CATALYST**](https://cardano.ideascale.com/) *Participate! Create, propose and VOTE on projects to be built on Cardano!*\\n* ⚠️ [**PSA - SCAMS**](https://www.reddit.com/r/cardano/comments/lccorg/psa_there_is_no_such_thing_as_cardano_giveaways/) *Read about fake wallets and giveaways to stay safe.*\\n\\n\\n*I am a bot, and this action was performed automatically. Please [contact the moderators of this subreddit](/message/compose/?to=/r/cardano) if you have any questions or concerns.*\",\n",
       " '\\n* [**NEWBIES GUIDE**](https://www.reddit.com/r/cardano/comments/lnj5ne/getting_started_guide_a_newbies_guide_to_cardano/) *Start here*\\n* [**PROJECT CATALYST**](https://cardano.ideascale.com/) *Propose and vote on projects*\\n* ⚠️ [**PSA - SCAMS**](https://www.reddit.com/r/cardano/comments/lccorg/psa_there_is_no_such_thing_as_cardano_giveaways/) *Be wary of common scams!*\\n\\n\\n*I am a bot, and this action was performed automatically. Please [contact the moderators of this subreddit](/message/compose/?to=/r/cardano) if you have any questions or concerns.*',\n",
       " \"This post has been removed as it contains market/price related keywords that are filtered due to rule 6 (market discussion and trading posts are prohibited). We currently have an overwhelming amount of users posting about price, instead please use the [daily thread](https://www.reddit.com/r/cardano/?f=flair_name%3A%22Daily%20Thread%22) for price and trading related discussions or visit r/CardanoTrading. Please only contact the moderators if your post has been filtered by mistake.  \\n\\n* [**NEWBIES GUIDE**](https://www.reddit.com/r/cardano/comments/lnj5ne/getting_started_guide_a_newbies_guide_to_cardano/) *Ensure you've read this guide or your post may be removed.*\\n* [**PROJECT CATALYST**](https://cardano.ideascale.com/) *Participate! Create, propose and VOTE on projects to be built on Cardano!*\\n* ⚠️ [**PSA - SCAMS**](https://www.reddit.com/r/cardano/comments/lccorg/psa_there_is_no_such_thing_as_cardano_giveaways/) *Read about fake wallets and giveaways to stay safe.*\\n\\n\\n*I am a bot, and this action was performed automatically. Please [contact the moderators of this subreddit](/message/compose/?to=/r/cardano) if you have any questions or concerns.*\",\n",
       " '\\n* [**NEWBIES GUIDE**](https://www.reddit.com/r/cardano/comments/lnj5ne/getting_started_guide_a_newbies_guide_to_cardano/) *Start here*\\n* [**PROJECT CATALYST**](https://cardano.ideascale.com/) *Propose and vote on projects*\\n* ⚠️ [**PSA - SCAMS**](https://www.reddit.com/r/cardano/comments/lccorg/psa_there_is_no_such_thing_as_cardano_giveaways/) *Be wary of common scams!*\\n\\n\\n*I am a bot, and this action was performed automatically. Please [contact the moderators of this subreddit](/message/compose/?to=/r/cardano) if you have any questions or concerns.*',\n",
       " '\\n* [**NEWBIES GUIDE**](https://www.reddit.com/r/cardano/comments/lnj5ne/getting_started_guide_a_newbies_guide_to_cardano/) *Start here*\\n* [**PROJECT CATALYST**](https://cardano.ideascale.com/) *Propose and vote on projects*\\n* ⚠️ [**PSA - SCAMS**](https://www.reddit.com/r/cardano/comments/lccorg/psa_there_is_no_such_thing_as_cardano_giveaways/) *Be wary of common scams!*\\n\\n\\n*I am a bot, and this action was performed automatically. Please [contact the moderators of this subreddit](/message/compose/?to=/r/cardano) if you have any questions or concerns.*',\n",
       " '\\n* [**NEWBIES GUIDE**](https://www.reddit.com/r/cardano/comments/lnj5ne/getting_started_guide_a_newbies_guide_to_cardano/) *Start here*\\n* [**PROJECT CATALYST**](https://cardano.ideascale.com/) *Propose and vote on projects*\\n* ⚠️ [**PSA - SCAMS**](https://www.reddit.com/r/cardano/comments/lccorg/psa_there_is_no_such_thing_as_cardano_giveaways/) *Be wary of common scams!*\\n\\n\\n*I am a bot, and this action was performed automatically. Please [contact the moderators of this subreddit](/message/compose/?to=/r/cardano) if you have any questions or concerns.*',\n",
       " '\\n* [**NEWBIES GUIDE**](https://www.reddit.com/r/cardano/comments/lnj5ne/getting_started_guide_a_newbies_guide_to_cardano/) *Start here*\\n* [**PROJECT CATALYST**](https://cardano.ideascale.com/) *Propose and vote on projects*\\n* ⚠️ [**PSA - SCAMS**](https://www.reddit.com/r/cardano/comments/lccorg/psa_there_is_no_such_thing_as_cardano_giveaways/) *Be wary of common scams!*\\n\\n\\n*I am a bot, and this action was performed automatically. Please [contact the moderators of this subreddit](/message/compose/?to=/r/cardano) if you have any questions or concerns.*',\n",
       " '\\n* [**NEWBIES GUIDE**](https://www.reddit.com/r/cardano/comments/lnj5ne/getting_started_guide_a_newbies_guide_to_cardano/) *Start here*\\n* [**PROJECT CATALYST**](https://cardano.ideascale.com/) *Propose and vote on projects*\\n* ⚠️ [**PSA - SCAMS**](https://www.reddit.com/r/cardano/comments/lccorg/psa_there_is_no_such_thing_as_cardano_giveaways/) *Be wary of common scams!*\\n\\n\\n*I am a bot, and this action was performed automatically. Please [contact the moderators of this subreddit](/message/compose/?to=/r/cardano) if you have any questions or concerns.*',\n",
       " '\\n* [**NEWBIES GUIDE**](https://www.reddit.com/r/cardano/comments/lnj5ne/getting_started_guide_a_newbies_guide_to_cardano/) *Start here*\\n* [**PROJECT CATALYST**](https://cardano.ideascale.com/) *Propose and vote on projects*\\n* ⚠️ [**PSA - SCAMS**](https://www.reddit.com/r/cardano/comments/lccorg/psa_there_is_no_such_thing_as_cardano_giveaways/) *Be wary of common scams!*\\n\\n\\n*I am a bot, and this action was performed automatically. Please [contact the moderators of this subreddit](/message/compose/?to=/r/cardano) if you have any questions or concerns.*',\n",
       " '\\n* [**NEWBIES GUIDE**](https://www.reddit.com/r/cardano/comments/lnj5ne/getting_started_guide_a_newbies_guide_to_cardano/) *Start here*\\n* [**PROJECT CATALYST**](https://cardano.ideascale.com/) *Propose and vote on projects*\\n* ⚠️ [**PSA - SCAMS**](https://www.reddit.com/r/cardano/comments/lccorg/psa_there_is_no_such_thing_as_cardano_giveaways/) *Be wary of common scams!*\\n\\n\\n*I am a bot, and this action was performed automatically. Please [contact the moderators of this subreddit](/message/compose/?to=/r/cardano) if you have any questions or concerns.*',\n",
       " '\\n* [**NEWBIES GUIDE**](https://www.reddit.com/r/cardano/comments/lnj5ne/getting_started_guide_a_newbies_guide_to_cardano/) *Start here*\\n* [**PROJECT CATALYST**](https://cardano.ideascale.com/) *Propose and vote on projects*\\n* ⚠️ [**PSA - SCAMS**](https://www.reddit.com/r/cardano/comments/lccorg/psa_there_is_no_such_thing_as_cardano_giveaways/) *Be wary of common scams!*\\n\\n\\n*I am a bot, and this action was performed automatically. Please [contact the moderators of this subreddit](/message/compose/?to=/r/cardano) if you have any questions or concerns.*',\n",
       " '\\n* [**NEWBIES GUIDE**](https://www.reddit.com/r/cardano/comments/lnj5ne/getting_started_guide_a_newbies_guide_to_cardano/) *Start here*\\n* [**PROJECT CATALYST**](https://cardano.ideascale.com/) *Propose and vote on projects*\\n* ⚠️ [**PSA - SCAMS**](https://www.reddit.com/r/cardano/comments/lccorg/psa_there_is_no_such_thing_as_cardano_giveaways/) *Be wary of common scams!*\\n\\n\\n*I am a bot, and this action was performed automatically. Please [contact the moderators of this subreddit](/message/compose/?to=/r/cardano) if you have any questions or concerns.*',\n",
       " 'This post appears to be related to buying Cardano. We currently have an overwhelming amount of people asking if they should invest, and where to buy. Remember no-one knows what will happen with the price, and you should only make investment decisions based on your own research.\\n\\nIf you have just bought Cardano and want to introduce yourself, please do so in the [daily thread](https://www.reddit.com/r/cardano/?f=flair_name%3A%22Daily%20Thread%22) (rule 7).\\n\\nWith regards to buying, please see this dedicated post [\"How do I buy ADA?\"](https://www.reddit.com/r/Cardano_ELI5/comments/l00130/how_do_i_buy_ada/). For a list of exchanges please see [this link](https://www.reddit.com/r/Cardano_ELI5/wiki/index#wiki_cardano_compatible_exchanges).          \\n\\nPlease also make use of the search, **using the search is expected of you and is rule 5 of this subreddit**, [here\\'s a example search for buying](https://www.reddit.com/r/cardano/search?q=buy&restrict_sr=1). You can also ask questions in the [daily thread](https://www.reddit.com/r/cardano/?f=flair_name%3A%22Daily%20Thread%22). \\n\\nIf you have just bought Cardano and want to introduce yourself, please do so in the [daily thread](https://www.reddit.com/r/cardano/?f=flair_name%3A%22Daily%20Thread%22) (rule 7).\\n\\n* [**NEWBIES GUIDE**](https://www.reddit.com/r/cardano/comments/lnj5ne/getting_started_guide_a_newbies_guide_to_cardano/) *Ensure you\\'ve read this guide or your post may be removed.*\\n* [**PROJECT CATALYST**](https://cardano.ideascale.com/) *Participate! Create, propose and VOTE on projects to be built on Cardano!*\\n* ⚠️ [**PSA - SCAMS**](https://www.reddit.com/r/cardano/comments/lccorg/psa_there_is_no_such_thing_as_cardano_giveaways/) *Read about fake wallets and giveaways to stay safe.*\\n\\n\\n*I am a bot, and this action was performed automatically. Please [contact the moderators of this subreddit](/message/compose/?to=/r/cardano) if you have any questions or concerns.*',\n",
       " '\\n* [**NEWBIES GUIDE**](https://www.reddit.com/r/cardano/comments/lnj5ne/getting_started_guide_a_newbies_guide_to_cardano/) *Start here*\\n* [**PROJECT CATALYST**](https://cardano.ideascale.com/) *Propose and vote on projects*\\n* ⚠️ [**PSA - SCAMS**](https://www.reddit.com/r/cardano/comments/lccorg/psa_there_is_no_such_thing_as_cardano_giveaways/) *Be wary of common scams!*\\n\\n\\n*I am a bot, and this action was performed automatically. Please [contact the moderators of this subreddit](/message/compose/?to=/r/cardano) if you have any questions or concerns.*',\n",
       " '\\n* [**NEWBIES GUIDE**](https://www.reddit.com/r/cardano/comments/lnj5ne/getting_started_guide_a_newbies_guide_to_cardano/) *Start here*\\n* [**PROJECT CATALYST**](https://cardano.ideascale.com/) *Propose and vote on projects*\\n* ⚠️ [**PSA - SCAMS**](https://www.reddit.com/r/cardano/comments/lccorg/psa_there_is_no_such_thing_as_cardano_giveaways/) *Be wary of common scams!*\\n\\n\\n*I am a bot, and this action was performed automatically. Please [contact the moderators of this subreddit](/message/compose/?to=/r/cardano) if you have any questions or concerns.*',\n",
       " '\\n* [**NEWBIES GUIDE**](https://www.reddit.com/r/cardano/comments/lnj5ne/getting_started_guide_a_newbies_guide_to_cardano/) *Start here*\\n* [**PROJECT CATALYST**](https://cardano.ideascale.com/) *Propose and vote on projects*\\n* ⚠️ [**PSA - SCAMS**](https://www.reddit.com/r/cardano/comments/lccorg/psa_there_is_no_such_thing_as_cardano_giveaways/) *Be wary of common scams!*\\n\\n\\n*I am a bot, and this action was performed automatically. Please [contact the moderators of this subreddit](/message/compose/?to=/r/cardano) if you have any questions or concerns.*',\n",
       " '\\n* [**NEWBIES GUIDE**](https://www.reddit.com/r/cardano/comments/lnj5ne/getting_started_guide_a_newbies_guide_to_cardano/) *Start here*\\n* [**PROJECT CATALYST**](https://cardano.ideascale.com/) *Propose and vote on projects*\\n* ⚠️ [**PSA - SCAMS**](https://www.reddit.com/r/cardano/comments/lccorg/psa_there_is_no_such_thing_as_cardano_giveaways/) *Be wary of common scams!*\\n\\n\\n*I am a bot, and this action was performed automatically. Please [contact the moderators of this subreddit](/message/compose/?to=/r/cardano) if you have any questions or concerns.*',\n",
       " '\\n* [**NEWBIES GUIDE**](https://www.reddit.com/r/cardano/comments/lnj5ne/getting_started_guide_a_newbies_guide_to_cardano/) *Start here*\\n* [**PROJECT CATALYST**](https://cardano.ideascale.com/) *Propose and vote on projects*\\n* ⚠️ [**PSA - SCAMS**](https://www.reddit.com/r/cardano/comments/lccorg/psa_there_is_no_such_thing_as_cardano_giveaways/) *Be wary of common scams!*\\n\\n\\n*I am a bot, and this action was performed automatically. Please [contact the moderators of this subreddit](/message/compose/?to=/r/cardano) if you have any questions or concerns.*',\n",
       " \"No one knows what the price will do or be in the future. Price can move both on technicals or fundamentals alone; one does not need to rely on the other. Cryptocurrency prices are volatile and often illogical. You should only make financial decisions by taking the time to do the proper research and learn how to use crypto properly. Do not rely on making profits in the short term or invest more than you can afford to loose. Do not expect to get rich quick or you're likely here for the wrong reasons. \\n\\nWe have many resources to aid you to learn about the ecosystem, simply comment `?learn` and `?ecosystem` anywhere in the comments and the automod will respond with those resources.\\n\\n*I am a bot, and this action was performed automatically. Please [contact the moderators of this subreddit](/message/compose/?to=/r/cardano) if you have any questions or concerns.*\",\n",
       " '\\n* [**NEWBIES GUIDE**](https://www.reddit.com/r/cardano/comments/lnj5ne/getting_started_guide_a_newbies_guide_to_cardano/) *Start here*\\n* [**PROJECT CATALYST**](https://cardano.ideascale.com/) *Propose and vote on projects*\\n* ⚠️ [**PSA - SCAMS**](https://www.reddit.com/r/cardano/comments/lccorg/psa_there_is_no_such_thing_as_cardano_giveaways/) *Be wary of common scams!*\\n\\n\\n*I am a bot, and this action was performed automatically. Please [contact the moderators of this subreddit](/message/compose/?to=/r/cardano) if you have any questions or concerns.*',\n",
       " \"To post in this community you must have at least 25 combined Karma **(earned from comments or posts only)**, and your account must be older than 15 days. Please **do not** contact the moderators asking for approval. You are restricted to commenting in the [daily thread](https://www.reddit.com/r/cardano/?f=flair_name%3A%22Daily%20Thread%22) until you meet those requirements.   \\n\\nWe have a comprehensive [**NEWBIES GUIDE**](https://www.reddit.com/r/cardano/comments/lnj5ne/getting_started_guide_a_newbies_guide_to_cardano/) which covers everything from buying ADA to storing and staking. Please make sure you've read the guide and are making use of the subreddit search (rule 5) which helps maintain content quality in our subreddit. Thank you!\\n\\n*I am a bot, and this action was performed automatically. Please [contact the moderators of this subreddit](/message/compose/?to=/r/cardano) if you have any questions or concerns.*\",\n",
       " \"This submission has been filtered into the moderation queue because it contains flagged advertisement key words. Note if you're advertising your NFT, please use the sister sub  r/CardanoNFTs. \\n\\nIf this post has been filtered by mistake, please kindly wait for it to be approved by a moderator.\\n\\n*I am a bot, and this action was performed automatically. Please [contact the moderators of this subreddit](/message/compose/?to=/r/cardano) if you have any questions or concerns.*\",\n",
       " '\\n* [**NEWBIES GUIDE**](https://www.reddit.com/r/cardano/comments/lnj5ne/getting_started_guide_a_newbies_guide_to_cardano/) *Start here*\\n* [**PROJECT CATALYST**](https://cardano.ideascale.com/) *Propose and vote on projects*\\n* ⚠️ [**PSA - SCAMS**](https://www.reddit.com/r/cardano/comments/lccorg/psa_there_is_no_such_thing_as_cardano_giveaways/) *Be wary of common scams!*\\n\\n\\n*I am a bot, and this action was performed automatically. Please [contact the moderators of this subreddit](/message/compose/?to=/r/cardano) if you have any questions or concerns.*',\n",
       " '\\n* [**NEWBIES GUIDE**](https://www.reddit.com/r/cardano/comments/lnj5ne/getting_started_guide_a_newbies_guide_to_cardano/) *Start here*\\n* [**PROJECT CATALYST**](https://cardano.ideascale.com/) *Propose and vote on projects*\\n* ⚠️ [**PSA - SCAMS**](https://www.reddit.com/r/cardano/comments/lccorg/psa_there_is_no_such_thing_as_cardano_giveaways/) *Be wary of common scams!*\\n\\n\\n*I am a bot, and this action was performed automatically. Please [contact the moderators of this subreddit](/message/compose/?to=/r/cardano) if you have any questions or concerns.*',\n",
       " '\\n* [**NEWBIES GUIDE**](https://www.reddit.com/r/cardano/comments/lnj5ne/getting_started_guide_a_newbies_guide_to_cardano/) *Start here*\\n* [**PROJECT CATALYST**](https://cardano.ideascale.com/) *Propose and vote on projects*\\n* ⚠️ [**PSA - SCAMS**](https://www.reddit.com/r/cardano/comments/lccorg/psa_there_is_no_such_thing_as_cardano_giveaways/) *Be wary of common scams!*\\n\\n\\n*I am a bot, and this action was performed automatically. Please [contact the moderators of this subreddit](/message/compose/?to=/r/cardano) if you have any questions or concerns.*',\n",
       " '\\n* [**NEWBIES GUIDE**](https://www.reddit.com/r/cardano/comments/lnj5ne/getting_started_guide_a_newbies_guide_to_cardano/) *Start here*\\n* [**PROJECT CATALYST**](https://cardano.ideascale.com/) *Propose and vote on projects*\\n* ⚠️ [**PSA - SCAMS**](https://www.reddit.com/r/cardano/comments/lccorg/psa_there_is_no_such_thing_as_cardano_giveaways/) *Be wary of common scams!*\\n\\n\\n*I am a bot, and this action was performed automatically. Please [contact the moderators of this subreddit](/message/compose/?to=/r/cardano) if you have any questions or concerns.*',\n",
       " '\\n* [**NEWBIES GUIDE**](https://www.reddit.com/r/cardano/comments/lnj5ne/getting_started_guide_a_newbies_guide_to_cardano/) *Start here*\\n* [**PROJECT CATALYST**](https://cardano.ideascale.com/) *Propose and vote on projects*\\n* ⚠️ [**PSA - SCAMS**](https://www.reddit.com/r/cardano/comments/lccorg/psa_there_is_no_such_thing_as_cardano_giveaways/) *Be wary of common scams!*\\n\\n\\n*I am a bot, and this action was performed automatically. Please [contact the moderators of this subreddit](/message/compose/?to=/r/cardano) if you have any questions or concerns.*',\n",
       " '\\n* [**NEWBIES GUIDE**](https://www.reddit.com/r/cardano/comments/lnj5ne/getting_started_guide_a_newbies_guide_to_cardano/) *Start here*\\n* [**PROJECT CATALYST**](https://cardano.ideascale.com/) *Propose and vote on projects*\\n* ⚠️ [**PSA - SCAMS**](https://www.reddit.com/r/cardano/comments/lccorg/psa_there_is_no_such_thing_as_cardano_giveaways/) *Be wary of common scams!*\\n\\n\\n*I am a bot, and this action was performed automatically. Please [contact the moderators of this subreddit](/message/compose/?to=/r/cardano) if you have any questions or concerns.*',\n",
       " '\\n* [**NEWBIES GUIDE**](https://www.reddit.com/r/cardano/comments/lnj5ne/getting_started_guide_a_newbies_guide_to_cardano/) *Start here*\\n* [**PROJECT CATALYST**](https://cardano.ideascale.com/) *Propose and vote on projects*\\n* ⚠️ [**PSA - SCAMS**](https://www.reddit.com/r/cardano/comments/lccorg/psa_there_is_no_such_thing_as_cardano_giveaways/) *Be wary of common scams!*\\n\\n\\n*I am a bot, and this action was performed automatically. Please [contact the moderators of this subreddit](/message/compose/?to=/r/cardano) if you have any questions or concerns.*',\n",
       " '\\n* [**NEWBIES GUIDE**](https://www.reddit.com/r/cardano/comments/lnj5ne/getting_started_guide_a_newbies_guide_to_cardano/) *Start here*\\n* [**PROJECT CATALYST**](https://cardano.ideascale.com/) *Propose and vote on projects*\\n* ⚠️ [**PSA - SCAMS**](https://www.reddit.com/r/cardano/comments/lccorg/psa_there_is_no_such_thing_as_cardano_giveaways/) *Be wary of common scams!*\\n\\n\\n*I am a bot, and this action was performed automatically. Please [contact the moderators of this subreddit](/message/compose/?to=/r/cardano) if you have any questions or concerns.*',\n",
       " '\\n* [**NEWBIES GUIDE**](https://www.reddit.com/r/cardano/comments/lnj5ne/getting_started_guide_a_newbies_guide_to_cardano/) *Start here*\\n* [**PROJECT CATALYST**](https://cardano.ideascale.com/) *Propose and vote on projects*\\n* ⚠️ [**PSA - SCAMS**](https://www.reddit.com/r/cardano/comments/lccorg/psa_there_is_no_such_thing_as_cardano_giveaways/) *Be wary of common scams!*\\n\\n\\n*I am a bot, and this action was performed automatically. Please [contact the moderators of this subreddit](/message/compose/?to=/r/cardano) if you have any questions or concerns.*',\n",
       " '\\n* [**NEWBIES GUIDE**](https://www.reddit.com/r/cardano/comments/lnj5ne/getting_started_guide_a_newbies_guide_to_cardano/) *Start here*\\n* [**PROJECT CATALYST**](https://cardano.ideascale.com/) *Propose and vote on projects*\\n* ⚠️ [**PSA - SCAMS**](https://www.reddit.com/r/cardano/comments/lccorg/psa_there_is_no_such_thing_as_cardano_giveaways/) *Be wary of common scams!*\\n\\n\\n*I am a bot, and this action was performed automatically. Please [contact the moderators of this subreddit](/message/compose/?to=/r/cardano) if you have any questions or concerns.*',\n",
       " '\\n* [**NEWBIES GUIDE**](https://www.reddit.com/r/cardano/comments/lnj5ne/getting_started_guide_a_newbies_guide_to_cardano/) *Start here*\\n* [**PROJECT CATALYST**](https://cardano.ideascale.com/) *Propose and vote on projects*\\n* ⚠️ [**PSA - SCAMS**](https://www.reddit.com/r/cardano/comments/lccorg/psa_there_is_no_such_thing_as_cardano_giveaways/) *Be wary of common scams!*\\n\\n\\n*I am a bot, and this action was performed automatically. Please [contact the moderators of this subreddit](/message/compose/?to=/r/cardano) if you have any questions or concerns.*',\n",
       " '\\n* [**NEWBIES GUIDE**](https://www.reddit.com/r/cardano/comments/lnj5ne/getting_started_guide_a_newbies_guide_to_cardano/) *Start here*\\n* [**PROJECT CATALYST**](https://cardano.ideascale.com/) *Propose and vote on projects*\\n* ⚠️ [**PSA - SCAMS**](https://www.reddit.com/r/cardano/comments/lccorg/psa_there_is_no_such_thing_as_cardano_giveaways/) *Be wary of common scams!*\\n\\n\\n*I am a bot, and this action was performed automatically. Please [contact the moderators of this subreddit](/message/compose/?to=/r/cardano) if you have any questions or concerns.*',\n",
       " '\\n* [**NEWBIES GUIDE**](https://www.reddit.com/r/cardano/comments/lnj5ne/getting_started_guide_a_newbies_guide_to_cardano/) *Start here*\\n* [**PROJECT CATALYST**](https://cardano.ideascale.com/) *Propose and vote on projects*\\n* ⚠️ [**PSA - SCAMS**](https://www.reddit.com/r/cardano/comments/lccorg/psa_there_is_no_such_thing_as_cardano_giveaways/) *Be wary of common scams!*\\n\\n\\n*I am a bot, and this action was performed automatically. Please [contact the moderators of this subreddit](/message/compose/?to=/r/cardano) if you have any questions or concerns.*',\n",
       " '\\n* [**NEWBIES GUIDE**](https://www.reddit.com/r/cardano/comments/lnj5ne/getting_started_guide_a_newbies_guide_to_cardano/) *Start here*\\n* [**PROJECT CATALYST**](https://cardano.ideascale.com/) *Propose and vote on projects*\\n* ⚠️ [**PSA - SCAMS**](https://www.reddit.com/r/cardano/comments/lccorg/psa_there_is_no_such_thing_as_cardano_giveaways/) *Be wary of common scams!*\\n\\n\\n*I am a bot, and this action was performed automatically. Please [contact the moderators of this subreddit](/message/compose/?to=/r/cardano) if you have any questions or concerns.*',\n",
       " '\\n* [**NEWBIES GUIDE**](https://www.reddit.com/r/cardano/comments/lnj5ne/getting_started_guide_a_newbies_guide_to_cardano/) *Start here*\\n* [**PROJECT CATALYST**](https://cardano.ideascale.com/) *Propose and vote on projects*\\n* ⚠️ [**PSA - SCAMS**](https://www.reddit.com/r/cardano/comments/lccorg/psa_there_is_no_such_thing_as_cardano_giveaways/) *Be wary of common scams!*\\n\\n\\n*I am a bot, and this action was performed automatically. Please [contact the moderators of this subreddit](/message/compose/?to=/r/cardano) if you have any questions or concerns.*',\n",
       " '\\n* [**NEWBIES GUIDE**](https://www.reddit.com/r/cardano/comments/lnj5ne/getting_started_guide_a_newbies_guide_to_cardano/) *Start here*\\n* [**PROJECT CATALYST**](https://cardano.ideascale.com/) *Propose and vote on projects*\\n* ⚠️ [**PSA - SCAMS**](https://www.reddit.com/r/cardano/comments/lccorg/psa_there_is_no_such_thing_as_cardano_giveaways/) *Be wary of common scams!*\\n\\n\\n*I am a bot, and this action was performed automatically. Please [contact the moderators of this subreddit](/message/compose/?to=/r/cardano) if you have any questions or concerns.*',\n",
       " '\\n* [**NEWBIES GUIDE**](https://www.reddit.com/r/cardano/comments/lnj5ne/getting_started_guide_a_newbies_guide_to_cardano/) *Start here*\\n* [**PROJECT CATALYST**](https://cardano.ideascale.com/) *Propose and vote on projects*\\n* ⚠️ [**PSA - SCAMS**](https://www.reddit.com/r/cardano/comments/lccorg/psa_there_is_no_such_thing_as_cardano_giveaways/) *Be wary of common scams!*\\n\\n\\n*I am a bot, and this action was performed automatically. Please [contact the moderators of this subreddit](/message/compose/?to=/r/cardano) if you have any questions or concerns.*',\n",
       " \"This post is currently under review by the moderation team as it appears to be a scam/giveaway related post. Note if you're reporting a giveaway scam on youtube please don't post these to the subreddit as it directs traffic to them and dilutes the sub, instead report them to the [Cardano Fraud Detection Bureau](https://cfdb.atlassian.net/servicedesk/customer/portal/1). The scams on youtube are automated and unfortunately it's an endless game of wack-a-mole, so be aware of them and report them when you see them.   \\n\\nPlease make sure you read the material below to help stay safe:\\n\\n#Safety and Scams    \\n\\n*Always be vigilant - especially on Youtube with 'giveaway' scams!*\\n\\n* Never share your recovery seed phrase.\\n\\n* Never send your crypto to someone promising to send more back (youtube 'giveaway' scam) - [See advanced fee scam](https://en.wikipedia.org/wiki/Advance-fee_scam#:~:text=An%20advance%2Dfee%20scam%20is,to%20obtain%20the%20large%20sum.)\\n\\n* Always download wallets from a trusted sources, and be aware there are imitation wallets in app stores - if in doubt, ask!\\n\\n**Please read the following articles to stay secure**\\n\\n[There is no such thing as Cardano giveaways!](https://www.reddit.com/r/cardano/comments/lccorg/psa_there_is_no_such_thing_as_cardano_giveaways/)\\n\\n[How do I identify cryptocurrency scams?](https://www.reddit.com/r/Cardano_ELI5/comments/l5ru7v/how_do_i_identify_cryptocurrency_scams/)\\n\\n[Tips for staying safe online](https://iohk.zendesk.com/hc/en-us/articles/360015295134-Tips-for-Staying-Safe-Online)\\n\\n[Cyber security guidelines for Cardano users](https://iohk.zendesk.com/hc/en-us/articles/900005141163-Cybersecurity-guidelines-for-Cardano-users)\\n\\n[Daedalus security when using computer repair services](https://iohk.zendesk.com/hc/en-us/articles/360015360154-Daedalus-security-when-using-computer-repair-services)\\n\\nTyping `?help` in the comments will show a list of all available comment commands.\\n\\n\\n*I am a bot, and this action was performed automatically. Please [contact the moderators of this subreddit](/message/compose/?to=/r/cardano) if you have any questions or concerns.*\",\n",
       " '\\n* [**NEWBIES GUIDE**](https://www.reddit.com/r/cardano/comments/lnj5ne/getting_started_guide_a_newbies_guide_to_cardano/) *Start here*\\n* [**PROJECT CATALYST**](https://cardano.ideascale.com/) *Propose and vote on projects*\\n* ⚠️ [**PSA - SCAMS**](https://www.reddit.com/r/cardano/comments/lccorg/psa_there_is_no_such_thing_as_cardano_giveaways/) *Be wary of common scams!*\\n\\n\\n*I am a bot, and this action was performed automatically. Please [contact the moderators of this subreddit](/message/compose/?to=/r/cardano) if you have any questions or concerns.*',\n",
       " '\\n* [**NEWBIES GUIDE**](https://www.reddit.com/r/cardano/comments/lnj5ne/getting_started_guide_a_newbies_guide_to_cardano/) *Start here*\\n* [**PROJECT CATALYST**](https://cardano.ideascale.com/) *Propose and vote on projects*\\n* ⚠️ [**PSA - SCAMS**](https://www.reddit.com/r/cardano/comments/lccorg/psa_there_is_no_such_thing_as_cardano_giveaways/) *Be wary of common scams!*\\n\\n\\n*I am a bot, and this action was performed automatically. Please [contact the moderators of this subreddit](/message/compose/?to=/r/cardano) if you have any questions or concerns.*',\n",
       " '\\n* [**NEWBIES GUIDE**](https://www.reddit.com/r/cardano/comments/lnj5ne/getting_started_guide_a_newbies_guide_to_cardano/) *Start here*\\n* [**PROJECT CATALYST**](https://cardano.ideascale.com/) *Propose and vote on projects*\\n* ⚠️ [**PSA - SCAMS**](https://www.reddit.com/r/cardano/comments/lccorg/psa_there_is_no_such_thing_as_cardano_giveaways/) *Be wary of common scams!*\\n\\n\\n*I am a bot, and this action was performed automatically. Please [contact the moderators of this subreddit](/message/compose/?to=/r/cardano) if you have any questions or concerns.*',\n",
       " '\\n* [**NEWBIES GUIDE**](https://www.reddit.com/r/cardano/comments/lnj5ne/getting_started_guide_a_newbies_guide_to_cardano/) *Start here*\\n* [**PROJECT CATALYST**](https://cardano.ideascale.com/) *Propose and vote on projects*\\n* ⚠️ [**PSA - SCAMS**](https://www.reddit.com/r/cardano/comments/lccorg/psa_there_is_no_such_thing_as_cardano_giveaways/) *Be wary of common scams!*\\n\\n\\n*I am a bot, and this action was performed automatically. Please [contact the moderators of this subreddit](/message/compose/?to=/r/cardano) if you have any questions or concerns.*',\n",
       " '\\n* [**NEWBIES GUIDE**](https://www.reddit.com/r/cardano/comments/lnj5ne/getting_started_guide_a_newbies_guide_to_cardano/) *Start here*\\n* [**PROJECT CATALYST**](https://cardano.ideascale.com/) *Propose and vote on projects*\\n* ⚠️ [**PSA - SCAMS**](https://www.reddit.com/r/cardano/comments/lccorg/psa_there_is_no_such_thing_as_cardano_giveaways/) *Be wary of common scams!*\\n\\n\\n*I am a bot, and this action was performed automatically. Please [contact the moderators of this subreddit](/message/compose/?to=/r/cardano) if you have any questions or concerns.*',\n",
       " 'TA is not guessing at all it is psycology. And it works because everyone is doing TA maybe its a bit gardet to predict with TA on cryptos atm cause not alot of traders are trading cryptos. But it works simply because people are using it and because of how newbies dont know how to trade and traders know that',\n",
       " \"Your submission has been flagged for removal because it doesn't meet the quality standards for /r/Bitcoin at this time. Please help keep the subreddit clean from low quality posts.\\n\\n^^I ^^am ^^a ^^bot ^^and ^^cannot ^^respond. ^^Please ^^contact ^^r/Bitcoin ^^moderators [^^directly ^^via ^^mod ^^mail](https://www.reddit.com/message/compose?to=%2Fr%2FBitcoin) ^^if ^^you ^^have ^^questions.\",\n",
       " 'Hi u/tohaz, thanks for tipping u/Mark_Bear **500** satoshis!\\n***\\n*[^(More info)](https://www.reddit.com/r/lntipbot/wiki/index) ^| [^(Balance)](https://www.reddit.com/message/compose/?to=lntipbot&subject=balance&message=!balance) ^| [^(Deposit)](https://www.reddit.com/message/compose/?to=lntipbot&subject=deposit&message=!deposit 10000) ^| [^(Withdraw)](https://www.reddit.com/message/compose/?to=lntipbot&subject=withdraw&message=!withdraw put_invoice_here) ^| ^(Something wrong?  Have a question?) [^(Send me a message)](https://www.reddit.com/message/compose/?to=drmoore718)*',\n",
       " \"Your submission has been flagged for removal because it doesn't meet the quality standards for /r/Bitcoin at this time. Please help keep the subreddit clean from low quality posts.\\n\\n^^I ^^am ^^a ^^bot ^^and ^^cannot ^^respond. ^^Please ^^contact ^^r/Bitcoin ^^moderators [^^directly ^^via ^^mod ^^mail](https://www.reddit.com/message/compose?to=%2Fr%2FBitcoin) ^^if ^^you ^^have ^^questions.\",\n",
       " 'Your submission has been flagged for removal because it pertains primarily to altcoin discussion and/or promotion. Altcoins are off topic for the Bitcoin subreddit. Please post in the subreddit appropriate to that altcoin instead. Thank you.\\n\\n^^I ^^am ^^a ^^bot ^^and ^^cannot ^^respond. ^^Please ^^contact ^^r/Bitcoin ^^moderators [^^directly ^^via ^^mod ^^mail](https://www.reddit.com/message/compose?to=%2Fr%2FBitcoin) ^^if ^^you ^^have ^^questions.',\n",
       " 'Hi u/jojothehodler, thanks for tipping u/dubbleoshoe **500** satoshis!\\n***\\n*[^(More info)](https://www.reddit.com/r/lntipbot/wiki/index) ^| [^(Balance)](https://www.reddit.com/message/compose/?to=lntipbot&subject=balance&message=!balance) ^| [^(Deposit)](https://www.reddit.com/message/compose/?to=lntipbot&subject=deposit&message=!deposit 10000) ^| [^(Withdraw)](https://www.reddit.com/message/compose/?to=lntipbot&subject=withdraw&message=!withdraw put_invoice_here) ^| ^(Something wrong?  Have a question?) [^(Send me a message)](https://www.reddit.com/message/compose/?to=drmoore718)*',\n",
       " 'Your submission has been flagged for removal because there are too many other price posts right now. Please contribute to the Daily Discussion thread, the chat room, or another price-related thread. Thank you!.\\n\\n^^I ^^am ^^a ^^bot ^^and ^^cannot ^^respond. ^^Please ^^contact ^^r/Bitcoin ^^moderators [^^directly ^^via ^^mod ^^mail](https://www.reddit.com/message/compose?to=%2Fr%2FBitcoin) ^^if ^^you ^^have ^^questions.',\n",
       " 'Your submission has been flagged and removed because it appears that you are begging for money. If you would like to beg, please visit r/BitcoinBeggars.\\n\\n^^I ^^am ^^a ^^bot ^^and ^^cannot ^^respond. ^^Please ^^contact ^^r/Bitcoin ^^moderators [^^directly ^^via ^^mod ^^mail](https://www.reddit.com/message/compose?to=%2Fr%2FBitcoin) ^^if ^^you ^^have ^^questions.',\n",
       " 'Your submission has been flagged for removal because there are too many other price posts right now. Please contribute to the Daily Discussion thread, the chat room, or another price-related thread. Thank you!.\\n\\n^^I ^^am ^^a ^^bot ^^and ^^cannot ^^respond. ^^Please ^^contact ^^r/Bitcoin ^^moderators [^^directly ^^via ^^mod ^^mail](https://www.reddit.com/message/compose?to=%2Fr%2FBitcoin) ^^if ^^you ^^have ^^questions.',\n",
       " \"Your submission has been flagged for removal because it doesn't meet the quality standards for /r/Bitcoin at this time. Please help keep the subreddit clean from low quality posts.\\n\\n^^I ^^am ^^a ^^bot ^^and ^^cannot ^^respond. ^^Please ^^contact ^^r/Bitcoin ^^moderators [^^directly ^^via ^^mod ^^mail](https://www.reddit.com/message/compose?to=%2Fr%2FBitcoin) ^^if ^^you ^^have ^^questions.\",\n",
       " 'Similar content has already been submitted several times. Please check the front page of r/Bitcoin and r/Bitcoin/new for previous submissions to help keep repetition to a minimum. You can also try using the search bar. Thank you.\\n\\n^^I ^^am ^^a ^^bot ^^and ^^cannot ^^respond. ^^Please ^^contact ^^r/Bitcoin ^^moderators [^^directly ^^via ^^mod ^^mail](https://www.reddit.com/message/compose?to=%2Fr%2FBitcoin) ^^if ^^you ^^have ^^questions.',\n",
       " 'Your submission has been flagged for removal because it is not in english. Please consider submitting a translated version, or posting to a language specific bitcoin subreddit. Thank you.\\n\\n^^I ^^am ^^a ^^bot ^^and ^^cannot ^^respond. ^^Please ^^contact ^^r/Bitcoin ^^moderators [^^directly ^^via ^^mod ^^mail](https://www.reddit.com/message/compose?to=%2Fr%2FBitcoin) ^^if ^^you ^^have ^^questions.',\n",
       " 'Your submission has been flagged for removal because it pertains primarily to altcoin discussion and/or promotion. Altcoins are off topic for the Bitcoin subreddit. Please post in the subreddit appropriate to that altcoin instead. Thank you.\\n\\n^^I ^^am ^^a ^^bot ^^and ^^cannot ^^respond. ^^Please ^^contact ^^r/Bitcoin ^^moderators [^^directly ^^via ^^mod ^^mail](https://www.reddit.com/message/compose?to=%2Fr%2FBitcoin) ^^if ^^you ^^have ^^questions.',\n",
       " 'Similar content has already been submitted several times. Please check the front page of r/Bitcoin and r/Bitcoin/new for previous submissions to help keep repetition to a minimum. You can also try using the search bar. Thank you.\\n\\n^^I ^^am ^^a ^^bot ^^and ^^cannot ^^respond. ^^Please ^^contact ^^r/Bitcoin ^^moderators [^^directly ^^via ^^mod ^^mail](https://www.reddit.com/message/compose?to=%2Fr%2FBitcoin) ^^if ^^you ^^have ^^questions.',\n",
       " \"Newbies are distracted with shitcoins for now, always looking for 'the next bitcoin'. Just my anecdotal experience with talking to people who IRL who got into crypto in 2021. Eventually, 99% of them will get rekt.\",\n",
       " 'Your submission has been flagged for removal because it pertains primarily to altcoin discussion and/or promotion. Altcoins are off topic for the Bitcoin subreddit. Please post in the subreddit appropriate to that altcoin instead. Thank you.\\n\\n^^I ^^am ^^a ^^bot ^^and ^^cannot ^^respond. ^^Please ^^contact ^^r/Bitcoin ^^moderators [^^directly ^^via ^^mod ^^mail](https://www.reddit.com/message/compose?to=%2Fr%2FBitcoin) ^^if ^^you ^^have ^^questions.',\n",
       " \"Your submission has been flagged for removal because it doesn't meet the quality standards for /r/Bitcoin at this time. Please help keep the subreddit clean from low quality posts.\\n\\n^^I ^^am ^^a ^^bot ^^and ^^cannot ^^respond. ^^Please ^^contact ^^r/Bitcoin ^^moderators [^^directly ^^via ^^mod ^^mail](https://www.reddit.com/message/compose?to=%2Fr%2FBitcoin) ^^if ^^you ^^have ^^questions.\",\n",
       " \"Your submission has been flagged for removal because it doesn't meet the quality standards for /r/Bitcoin at this time. Please help keep the subreddit clean from low quality posts.\\n\\n^^I ^^am ^^a ^^bot ^^and ^^cannot ^^respond. ^^Please ^^contact ^^r/Bitcoin ^^moderators [^^directly ^^via ^^mod ^^mail](https://www.reddit.com/message/compose?to=%2Fr%2FBitcoin) ^^if ^^you ^^have ^^questions.\",\n",
       " \"We have a lot of newcomers entering the Bitcoin space recently who are exploring different exchanges and such. Some users are developing a habit of asking if various random websites some complete stranger PM'd them is a scam or not. Sometimes these sites are completely unrelated to Bitcoin. This is not the purpose of r/Bitcoin.\\\\n\\\\n* Do not trust unsolicited messages telling you to check out some shady website.\\\\n* Do not trust Discord randos telling you that you won a prize.\\\\n* Do not trust anyone who promises guaranteed profits.\\\\n* Do not trust website with unpronounceable domain names\\\\n* Do not trust anyone claiming to give away free Bitcoin. (YouTube, Twitter, Discord)\\\\n* Do not trust anyone claiming they will double however much Bitcoin you send them.\\\\n* Do not trust 'pretty girls' on Tinder telling you about new investment opportunities.\\\\n* **If you have to ask** if some sketchy website or special offer is a scam, **then it probably is.**\\\\n\\\\nYou have to learn to think for yourselves. Recognize that there are many tricksters out there who will go to great lengths to separate you from your Bitcoin. Use your head and stay safe. If you send your Bitcoin to a scammer, it's gone forever. There are no refunds!\\n\\n^^I ^^am ^^a ^^bot ^^and ^^cannot ^^respond. ^^Please ^^contact ^^r/Bitcoin ^^moderators [^^directly ^^via ^^mod ^^mail](https://www.reddit.com/message/compose?to=%2Fr%2FBitcoin) ^^if ^^you ^^have ^^questions.\",\n",
       " \"We have a lot of newcomers entering the Bitcoin space recently who are exploring different exchanges and such. Some users are developing a habit of asking if various random websites some complete stranger PM'd them is a scam or not. Sometimes these sites are completely unrelated to Bitcoin. This is not the purpose of r/Bitcoin.\\\\n\\\\n* Do not trust unsolicited messages telling you to check out some shady website.\\\\n* Do not trust Discord randos telling you that you won a prize.\\\\n* Do not trust anyone who promises guaranteed profits.\\\\n* Do not trust website with unpronounceable domain names\\\\n* Do not trust anyone claiming to give away free Bitcoin. (YouTube, Twitter, Discord)\\\\n* Do not trust anyone claiming they will double however much Bitcoin you send them.\\\\n* Do not trust 'pretty girls' on Tinder telling you about new investment opportunities.\\\\n* **If you have to ask** if some sketchy website or special offer is a scam, **then it probably is.**\\\\n\\\\nYou have to learn to think for yourselves. Recognize that there are many tricksters out there who will go to great lengths to separate you from your Bitcoin. Use your head and stay safe. If you send your Bitcoin to a scammer, it's gone forever. There are no refunds!\\n\\n^^I ^^am ^^a ^^bot ^^and ^^cannot ^^respond. ^^Please ^^contact ^^r/Bitcoin ^^moderators [^^directly ^^via ^^mod ^^mail](https://www.reddit.com/message/compose?to=%2Fr%2FBitcoin) ^^if ^^you ^^have ^^questions.\",\n",
       " 'Your submission has been flagged for removal because it is considered off topic for the Bitcoin subreddit.\\n\\n^^I ^^am ^^a ^^bot ^^and ^^cannot ^^respond. ^^Please ^^contact ^^r/Bitcoin ^^moderators [^^directly ^^via ^^mod ^^mail](https://www.reddit.com/message/compose?to=%2Fr%2FBitcoin) ^^if ^^you ^^have ^^questions.',\n",
       " 'Your submission has been flagged for removal because it pertains primarily to altcoin discussion and/or promotion. Altcoins are off topic for the Bitcoin subreddit. Please post in the subreddit appropriate to that altcoin instead. Thank you.\\n\\n^^I ^^am ^^a ^^bot ^^and ^^cannot ^^respond. ^^Please ^^contact ^^r/Bitcoin ^^moderators [^^directly ^^via ^^mod ^^mail](https://www.reddit.com/message/compose?to=%2Fr%2FBitcoin) ^^if ^^you ^^have ^^questions.',\n",
       " \"Reddit is a poor source for seeking financial advice. Bitcoin is a risky investment. [Don't invest recklessly.](https://www.reddit.com/r/Bitcoin/comments/7gi55s/dont_invest_recklessly/) Don't invest anything you can't afford to lose. If you are looking to get rich quick, you came to the wrong place. Nobody has a crystal ball. Nobody can see the future. Please do your own research and make your own financial decisions.\\n\\n*I am a bot, and this action was performed automatically. Please [contact the moderators of this subreddit](/message/compose/?to=/r/Bitcoin) if you have any questions or concerns.*\",\n",
       " 'Your submission has been flagged for removal because it pertains primarily to altcoin discussion and/or promotion. Altcoins are off topic for the Bitcoin subreddit. Please post in the subreddit appropriate to that altcoin instead. Thank you.\\n\\n^^I ^^am ^^a ^^bot ^^and ^^cannot ^^respond. ^^Please ^^contact ^^r/Bitcoin ^^moderators [^^directly ^^via ^^mod ^^mail](https://www.reddit.com/message/compose?to=%2Fr%2FBitcoin) ^^if ^^you ^^have ^^questions.',\n",
       " 'Your submission has been flagged for removal because it is considered off topic for the Bitcoin subreddit.\\n\\n^^I ^^am ^^a ^^bot ^^and ^^cannot ^^respond. ^^Please ^^contact ^^r/Bitcoin ^^moderators [^^directly ^^via ^^mod ^^mail](https://www.reddit.com/message/compose?to=%2Fr%2FBitcoin) ^^if ^^you ^^have ^^questions.',\n",
       " 'The XRP army is composed of Saibamen']"
      ]
     },
     "execution_count": 52,
     "metadata": {},
     "output_type": "execute_result"
    }
   ],
   "source": [
    "title2"
   ]
  },
  {
   "cell_type": "code",
   "execution_count": 53,
   "id": "6358b0be",
   "metadata": {},
   "outputs": [
    {
     "name": "stderr",
     "output_type": "stream",
     "text": [
      "C:\\Users\\yjain7\\Anaconda3\\lib\\site-packages\\ipykernel\\ipkernel.py:287: DeprecationWarning: `should_run_async` will not call `transform_cell` automatically in the future. Please pass the result to `transformed_cell` argument and any exception that happen during thetransform in `preprocessing_exc_tuple` in IPython 7.17 and above.\n",
      "  and should_run_async(code)\n"
     ]
    },
    {
     "name": "stdout",
     "output_type": "stream",
     "text": [
      "{'neg': 0.0, 'neu': 0.328, 'pos': 0.672, 'compound': 0.6249}\n",
      "{'neg': 0.0, 'neu': 0.281, 'pos': 0.719, 'compound': 0.729}\n",
      "{'neg': 0.636, 'neu': 0.364, 'pos': 0.0, 'compound': -0.5423}\n"
     ]
    }
   ],
   "source": [
    "sid = SentimentIntensityAnalyzer()\n",
    "\n",
    "pos_text = \"Vader is awesome\"\n",
    "cap_pos_text = \"Vader is AWESOME!\" # captilization and ! increases the effect\n",
    "neg_text = \"Vader is bad\"\n",
    "\n",
    "print(sid.polarity_scores(pos_text))\n",
    "print(sid.polarity_scores(cap_pos_text))\n",
    "print(sid.polarity_scores(neg_text))"
   ]
  },
  {
   "cell_type": "code",
   "execution_count": 54,
   "id": "72483c72",
   "metadata": {},
   "outputs": [
    {
     "name": "stderr",
     "output_type": "stream",
     "text": [
      "C:\\Users\\yjain7\\Anaconda3\\lib\\site-packages\\ipykernel\\ipkernel.py:287: DeprecationWarning: `should_run_async` will not call `transform_cell` automatically in the future. Please pass the result to `transformed_cell` argument and any exception that happen during thetransform in `preprocessing_exc_tuple` in IPython 7.17 and above.\n",
      "  and should_run_async(code)\n"
     ]
    },
    {
     "name": "stdout",
     "output_type": "stream",
     "text": [
      "[{'compound': 0.0, 'neg': 0.0, 'neu': 1.0, 'pos': 0.0},\n",
      " {'compound': 0.3182, 'neg': 0.0, 'neu': 0.933, 'pos': 0.067},\n",
      " {'compound': 0.9158, 'neg': 0.0, 'neu': 0.837, 'pos': 0.163}]\n",
      "[{'compound': 0.3182, 'neg': 0.0, 'neu': 0.933, 'pos': 0.067},\n",
      " {'compound': 0.9158, 'neg': 0.0, 'neu': 0.837, 'pos': 0.163},\n",
      " {'compound': 0.9158, 'neg': 0.0, 'neu': 0.837, 'pos': 0.163}]\n"
     ]
    }
   ],
   "source": [
    "res1 = [*news1['title'].apply(sid.polarity_scores)]\n",
    "pprint(res1[:3])\n",
    "res2 = [*news2['title'].apply(sid.polarity_scores)]\n",
    "pprint(res2[:3])"
   ]
  },
  {
   "cell_type": "code",
   "execution_count": 55,
   "id": "059b5224",
   "metadata": {},
   "outputs": [
    {
     "name": "stderr",
     "output_type": "stream",
     "text": [
      "C:\\Users\\yjain7\\Anaconda3\\lib\\site-packages\\ipykernel\\ipkernel.py:287: DeprecationWarning: `should_run_async` will not call `transform_cell` automatically in the future. Please pass the result to `transformed_cell` argument and any exception that happen during thetransform in `preprocessing_exc_tuple` in IPython 7.17 and above.\n",
      "  and should_run_async(code)\n"
     ]
    },
    {
     "data": {
      "text/html": [
       "<div>\n",
       "<style scoped>\n",
       "    .dataframe tbody tr th:only-of-type {\n",
       "        vertical-align: middle;\n",
       "    }\n",
       "\n",
       "    .dataframe tbody tr th {\n",
       "        vertical-align: top;\n",
       "    }\n",
       "\n",
       "    .dataframe thead th {\n",
       "        text-align: right;\n",
       "    }\n",
       "</style>\n",
       "<table border=\"1\" class=\"dataframe\">\n",
       "  <thead>\n",
       "    <tr style=\"text-align: right;\">\n",
       "      <th></th>\n",
       "      <th>title</th>\n",
       "      <th>neg</th>\n",
       "      <th>neu</th>\n",
       "      <th>pos</th>\n",
       "      <th>compound</th>\n",
       "    </tr>\n",
       "  </thead>\n",
       "  <tbody>\n",
       "    <tr>\n",
       "      <th>0</th>\n",
       "      <td>Your post must contain at least some words. Tr...</td>\n",
       "      <td>0.000</td>\n",
       "      <td>0.933</td>\n",
       "      <td>0.067</td>\n",
       "      <td>0.3182</td>\n",
       "    </tr>\n",
       "    <tr>\n",
       "      <th>1</th>\n",
       "      <td>Hey there!\\n\\nI see you are new here, Welcome ...</td>\n",
       "      <td>0.000</td>\n",
       "      <td>0.837</td>\n",
       "      <td>0.163</td>\n",
       "      <td>0.9158</td>\n",
       "    </tr>\n",
       "    <tr>\n",
       "      <th>2</th>\n",
       "      <td>Hey there!\\n\\nI see you are new here, Welcome ...</td>\n",
       "      <td>0.000</td>\n",
       "      <td>0.837</td>\n",
       "      <td>0.163</td>\n",
       "      <td>0.9158</td>\n",
       "    </tr>\n",
       "    <tr>\n",
       "      <th>3</th>\n",
       "      <td>WARNING. NEW ACCOUNT DETECTED. IS THIS PERSON ...</td>\n",
       "      <td>0.049</td>\n",
       "      <td>0.822</td>\n",
       "      <td>0.129</td>\n",
       "      <td>0.8426</td>\n",
       "    </tr>\n",
       "    <tr>\n",
       "      <th>4</th>\n",
       "      <td>Looks like a repost. I've seen this image 11 t...</td>\n",
       "      <td>0.030</td>\n",
       "      <td>0.883</td>\n",
       "      <td>0.086</td>\n",
       "      <td>0.5663</td>\n",
       "    </tr>\n",
       "  </tbody>\n",
       "</table>\n",
       "</div>"
      ],
      "text/plain": [
       "                                               title    neg    neu    pos  \\\n",
       "0  Your post must contain at least some words. Tr...  0.000  0.933  0.067   \n",
       "1  Hey there!\\n\\nI see you are new here, Welcome ...  0.000  0.837  0.163   \n",
       "2  Hey there!\\n\\nI see you are new here, Welcome ...  0.000  0.837  0.163   \n",
       "3  WARNING. NEW ACCOUNT DETECTED. IS THIS PERSON ...  0.049  0.822  0.129   \n",
       "4  Looks like a repost. I've seen this image 11 t...  0.030  0.883  0.086   \n",
       "\n",
       "   compound  \n",
       "0    0.3182  \n",
       "1    0.9158  \n",
       "2    0.9158  \n",
       "3    0.8426  \n",
       "4    0.5663  "
      ]
     },
     "execution_count": 55,
     "metadata": {},
     "output_type": "execute_result"
    }
   ],
   "source": [
    "sentiment_df1 = pd.DataFrame.from_records(res1)\n",
    "news1 = pd.concat([news1, sentiment_df1], axis=1, join='inner')\n",
    "news1.head()\n",
    "sentiment_df2 = pd.DataFrame.from_records(res2)\n",
    "news2 = pd.concat([news2, sentiment_df2], axis=1, join='inner')\n",
    "news2.head()"
   ]
  },
  {
   "cell_type": "code",
   "execution_count": 56,
   "id": "cb5fc405",
   "metadata": {},
   "outputs": [
    {
     "name": "stderr",
     "output_type": "stream",
     "text": [
      "C:\\Users\\yjain7\\Anaconda3\\lib\\site-packages\\ipykernel\\ipkernel.py:287: DeprecationWarning: `should_run_async` will not call `transform_cell` automatically in the future. Please pass the result to `transformed_cell` argument and any exception that happen during thetransform in `preprocessing_exc_tuple` in IPython 7.17 and above.\n",
      "  and should_run_async(code)\n"
     ]
    },
    {
     "data": {
      "text/html": [
       "<div>\n",
       "<style scoped>\n",
       "    .dataframe tbody tr th:only-of-type {\n",
       "        vertical-align: middle;\n",
       "    }\n",
       "\n",
       "    .dataframe tbody tr th {\n",
       "        vertical-align: top;\n",
       "    }\n",
       "\n",
       "    .dataframe thead th {\n",
       "        text-align: right;\n",
       "    }\n",
       "</style>\n",
       "<table border=\"1\" class=\"dataframe\">\n",
       "  <thead>\n",
       "    <tr style=\"text-align: right;\">\n",
       "      <th></th>\n",
       "      <th>title</th>\n",
       "      <th>neg</th>\n",
       "      <th>neu</th>\n",
       "      <th>pos</th>\n",
       "      <th>compound</th>\n",
       "      <th>label</th>\n",
       "    </tr>\n",
       "  </thead>\n",
       "  <tbody>\n",
       "    <tr>\n",
       "      <th>0</th>\n",
       "      <td>\\n__^[wow ^so ^verify]__: ^/u/tomcarbon ^-&gt; ^/...</td>\n",
       "      <td>0.000</td>\n",
       "      <td>1.000</td>\n",
       "      <td>0.000</td>\n",
       "      <td>0.0000</td>\n",
       "      <td>neu</td>\n",
       "    </tr>\n",
       "    <tr>\n",
       "      <th>1</th>\n",
       "      <td>Your post must contain at least some words. Tr...</td>\n",
       "      <td>0.000</td>\n",
       "      <td>0.933</td>\n",
       "      <td>0.067</td>\n",
       "      <td>0.3182</td>\n",
       "      <td>pos</td>\n",
       "    </tr>\n",
       "    <tr>\n",
       "      <th>2</th>\n",
       "      <td>Hey there!\\n\\nI see you are new here, Welcome ...</td>\n",
       "      <td>0.000</td>\n",
       "      <td>0.837</td>\n",
       "      <td>0.163</td>\n",
       "      <td>0.9158</td>\n",
       "      <td>pos</td>\n",
       "    </tr>\n",
       "    <tr>\n",
       "      <th>3</th>\n",
       "      <td>Hey there!\\n\\nI see you are new here, Welcome ...</td>\n",
       "      <td>0.000</td>\n",
       "      <td>0.837</td>\n",
       "      <td>0.163</td>\n",
       "      <td>0.9158</td>\n",
       "      <td>pos</td>\n",
       "    </tr>\n",
       "    <tr>\n",
       "      <th>4</th>\n",
       "      <td>Hey there!\\n\\nI see you are new here, Welcome ...</td>\n",
       "      <td>0.000</td>\n",
       "      <td>0.837</td>\n",
       "      <td>0.163</td>\n",
       "      <td>0.9158</td>\n",
       "      <td>pos</td>\n",
       "    </tr>\n",
       "    <tr>\n",
       "      <th>...</th>\n",
       "      <td>...</td>\n",
       "      <td>...</td>\n",
       "      <td>...</td>\n",
       "      <td>...</td>\n",
       "      <td>...</td>\n",
       "      <td>...</td>\n",
       "    </tr>\n",
       "    <tr>\n",
       "      <th>67</th>\n",
       "      <td>Hi u/Cynic_Custodian, thanks for tipping u/cry...</td>\n",
       "      <td>0.158</td>\n",
       "      <td>0.755</td>\n",
       "      <td>0.088</td>\n",
       "      <td>-0.5152</td>\n",
       "      <td>neg</td>\n",
       "    </tr>\n",
       "    <tr>\n",
       "      <th>68</th>\n",
       "      <td>Your submission has been flagged for removal b...</td>\n",
       "      <td>0.000</td>\n",
       "      <td>1.000</td>\n",
       "      <td>0.000</td>\n",
       "      <td>0.0000</td>\n",
       "      <td>neu</td>\n",
       "    </tr>\n",
       "    <tr>\n",
       "      <th>69</th>\n",
       "      <td>**Dollar cost averaging**\\n\\nDollar cost avera...</td>\n",
       "      <td>0.032</td>\n",
       "      <td>0.920</td>\n",
       "      <td>0.048</td>\n",
       "      <td>0.3094</td>\n",
       "      <td>pos</td>\n",
       "    </tr>\n",
       "    <tr>\n",
       "      <th>70</th>\n",
       "      <td>It seems you are posting content related to pr...</td>\n",
       "      <td>0.030</td>\n",
       "      <td>0.843</td>\n",
       "      <td>0.127</td>\n",
       "      <td>0.7845</td>\n",
       "      <td>pos</td>\n",
       "    </tr>\n",
       "    <tr>\n",
       "      <th>71</th>\n",
       "      <td>Watching the public dev calls there is a defin...</td>\n",
       "      <td>0.078</td>\n",
       "      <td>0.819</td>\n",
       "      <td>0.103</td>\n",
       "      <td>0.6214</td>\n",
       "      <td>pos</td>\n",
       "    </tr>\n",
       "  </tbody>\n",
       "</table>\n",
       "<p>72 rows × 6 columns</p>\n",
       "</div>"
      ],
      "text/plain": [
       "                                                title    neg    neu    pos  \\\n",
       "0   \\n__^[wow ^so ^verify]__: ^/u/tomcarbon ^-> ^/...  0.000  1.000  0.000   \n",
       "1   Your post must contain at least some words. Tr...  0.000  0.933  0.067   \n",
       "2   Hey there!\\n\\nI see you are new here, Welcome ...  0.000  0.837  0.163   \n",
       "3   Hey there!\\n\\nI see you are new here, Welcome ...  0.000  0.837  0.163   \n",
       "4   Hey there!\\n\\nI see you are new here, Welcome ...  0.000  0.837  0.163   \n",
       "..                                                ...    ...    ...    ...   \n",
       "67  Hi u/Cynic_Custodian, thanks for tipping u/cry...  0.158  0.755  0.088   \n",
       "68  Your submission has been flagged for removal b...  0.000  1.000  0.000   \n",
       "69  **Dollar cost averaging**\\n\\nDollar cost avera...  0.032  0.920  0.048   \n",
       "70  It seems you are posting content related to pr...  0.030  0.843  0.127   \n",
       "71  Watching the public dev calls there is a defin...  0.078  0.819  0.103   \n",
       "\n",
       "    compound label  \n",
       "0     0.0000   neu  \n",
       "1     0.3182   pos  \n",
       "2     0.9158   pos  \n",
       "3     0.9158   pos  \n",
       "4     0.9158   pos  \n",
       "..       ...   ...  \n",
       "67   -0.5152   neg  \n",
       "68    0.0000   neu  \n",
       "69    0.3094   pos  \n",
       "70    0.7845   pos  \n",
       "71    0.6214   pos  \n",
       "\n",
       "[72 rows x 6 columns]"
      ]
     },
     "execution_count": 56,
     "metadata": {},
     "output_type": "execute_result"
    }
   ],
   "source": [
    "THRESHOLD = 0.2\n",
    "\n",
    "conditions = [\n",
    "    (news1['compound'] <= -THRESHOLD),\n",
    "    (news1['compound'] > -THRESHOLD) & (news1['compound'] < THRESHOLD),\n",
    "    (news1['compound'] >= THRESHOLD),\n",
    "    ]\n",
    "\n",
    "values = [\"neg\", \"neu\", \"pos\"]\n",
    "news1['label'] = np.select(conditions, values)\n",
    "\n",
    "news1"
   ]
  },
  {
   "cell_type": "code",
   "execution_count": 57,
   "id": "d74c718f",
   "metadata": {},
   "outputs": [
    {
     "name": "stderr",
     "output_type": "stream",
     "text": [
      "C:\\Users\\yjain7\\Anaconda3\\lib\\site-packages\\ipykernel\\ipkernel.py:287: DeprecationWarning: `should_run_async` will not call `transform_cell` automatically in the future. Please pass the result to `transformed_cell` argument and any exception that happen during thetransform in `preprocessing_exc_tuple` in IPython 7.17 and above.\n",
      "  and should_run_async(code)\n"
     ]
    },
    {
     "data": {
      "text/plain": [
       "0     0.0000\n",
       "1     0.3182\n",
       "2     0.9158\n",
       "3     0.9158\n",
       "4     0.9158\n",
       "       ...  \n",
       "67   -0.5152\n",
       "68    0.0000\n",
       "69    0.3094\n",
       "70    0.7845\n",
       "71    0.6214\n",
       "Name: compound, Length: 72, dtype: float64"
      ]
     },
     "execution_count": 57,
     "metadata": {},
     "output_type": "execute_result"
    }
   ],
   "source": [
    "news1['compound']"
   ]
  },
  {
   "cell_type": "code",
   "execution_count": 58,
   "id": "e2213f13",
   "metadata": {},
   "outputs": [
    {
     "name": "stderr",
     "output_type": "stream",
     "text": [
      "C:\\Users\\yjain7\\Anaconda3\\lib\\site-packages\\ipykernel\\ipkernel.py:287: DeprecationWarning: `should_run_async` will not call `transform_cell` automatically in the future. Please pass the result to `transformed_cell` argument and any exception that happen during thetransform in `preprocessing_exc_tuple` in IPython 7.17 and above.\n",
      "  and should_run_async(code)\n"
     ]
    },
    {
     "data": {
      "text/html": [
       "<div>\n",
       "<style scoped>\n",
       "    .dataframe tbody tr th:only-of-type {\n",
       "        vertical-align: middle;\n",
       "    }\n",
       "\n",
       "    .dataframe tbody tr th {\n",
       "        vertical-align: top;\n",
       "    }\n",
       "\n",
       "    .dataframe thead th {\n",
       "        text-align: right;\n",
       "    }\n",
       "</style>\n",
       "<table border=\"1\" class=\"dataframe\">\n",
       "  <thead>\n",
       "    <tr style=\"text-align: right;\">\n",
       "      <th></th>\n",
       "      <th>title</th>\n",
       "      <th>neg</th>\n",
       "      <th>neu</th>\n",
       "      <th>pos</th>\n",
       "      <th>compound</th>\n",
       "      <th>label</th>\n",
       "    </tr>\n",
       "  </thead>\n",
       "  <tbody>\n",
       "    <tr>\n",
       "      <th>0</th>\n",
       "      <td>Your post must contain at least some words. Tr...</td>\n",
       "      <td>0.000</td>\n",
       "      <td>0.933</td>\n",
       "      <td>0.067</td>\n",
       "      <td>0.3182</td>\n",
       "      <td>pos</td>\n",
       "    </tr>\n",
       "    <tr>\n",
       "      <th>1</th>\n",
       "      <td>Hey there!\\n\\nI see you are new here, Welcome ...</td>\n",
       "      <td>0.000</td>\n",
       "      <td>0.837</td>\n",
       "      <td>0.163</td>\n",
       "      <td>0.9158</td>\n",
       "      <td>pos</td>\n",
       "    </tr>\n",
       "    <tr>\n",
       "      <th>2</th>\n",
       "      <td>Hey there!\\n\\nI see you are new here, Welcome ...</td>\n",
       "      <td>0.000</td>\n",
       "      <td>0.837</td>\n",
       "      <td>0.163</td>\n",
       "      <td>0.9158</td>\n",
       "      <td>pos</td>\n",
       "    </tr>\n",
       "    <tr>\n",
       "      <th>3</th>\n",
       "      <td>WARNING. NEW ACCOUNT DETECTED. IS THIS PERSON ...</td>\n",
       "      <td>0.049</td>\n",
       "      <td>0.822</td>\n",
       "      <td>0.129</td>\n",
       "      <td>0.8426</td>\n",
       "      <td>pos</td>\n",
       "    </tr>\n",
       "    <tr>\n",
       "      <th>4</th>\n",
       "      <td>Looks like a repost. I've seen this image 11 t...</td>\n",
       "      <td>0.030</td>\n",
       "      <td>0.883</td>\n",
       "      <td>0.086</td>\n",
       "      <td>0.5663</td>\n",
       "      <td>pos</td>\n",
       "    </tr>\n",
       "  </tbody>\n",
       "</table>\n",
       "</div>"
      ],
      "text/plain": [
       "                                               title    neg    neu    pos  \\\n",
       "0  Your post must contain at least some words. Tr...  0.000  0.933  0.067   \n",
       "1  Hey there!\\n\\nI see you are new here, Welcome ...  0.000  0.837  0.163   \n",
       "2  Hey there!\\n\\nI see you are new here, Welcome ...  0.000  0.837  0.163   \n",
       "3  WARNING. NEW ACCOUNT DETECTED. IS THIS PERSON ...  0.049  0.822  0.129   \n",
       "4  Looks like a repost. I've seen this image 11 t...  0.030  0.883  0.086   \n",
       "\n",
       "   compound label  \n",
       "0    0.3182   pos  \n",
       "1    0.9158   pos  \n",
       "2    0.9158   pos  \n",
       "3    0.8426   pos  \n",
       "4    0.5663   pos  "
      ]
     },
     "execution_count": 58,
     "metadata": {},
     "output_type": "execute_result"
    }
   ],
   "source": [
    "THRESHOLD1 = 0.2\n",
    "\n",
    "conditions1 = [\n",
    "    (news2['compound'] <= -THRESHOLD1),\n",
    "    (news2['compound'] > -THRESHOLD1) & (news2['compound'] < THRESHOLD1),\n",
    "    (news2['compound'] >= THRESHOLD1),\n",
    "    ]\n",
    "\n",
    "values = [\"neg\", \"neu\", \"pos\"]\n",
    "news2['label'] = np.select(conditions1, values)\n",
    "\n",
    "news2.head()"
   ]
  },
  {
   "cell_type": "code",
   "execution_count": 59,
   "id": "37b16919",
   "metadata": {},
   "outputs": [
    {
     "name": "stderr",
     "output_type": "stream",
     "text": [
      "C:\\Users\\yjain7\\Anaconda3\\lib\\site-packages\\ipykernel\\ipkernel.py:287: DeprecationWarning: `should_run_async` will not call `transform_cell` automatically in the future. Please pass the result to `transformed_cell` argument and any exception that happen during thetransform in `preprocessing_exc_tuple` in IPython 7.17 and above.\n",
      "  and should_run_async(code)\n"
     ]
    },
    {
     "data": {
      "text/plain": [
       "['Your',\n",
       " 'post',\n",
       " 'must',\n",
       " 'contain',\n",
       " 'at',\n",
       " 'least',\n",
       " 'some',\n",
       " 'words.',\n",
       " 'Try',\n",
       " 'again',\n",
       " '*I',\n",
       " 'am',\n",
       " 'a',\n",
       " 'bot,',\n",
       " 'and',\n",
       " 'this',\n",
       " 'action',\n",
       " 'was',\n",
       " 'performed',\n",
       " 'automatically.',\n",
       " 'Please',\n",
       " '[contact',\n",
       " 'the',\n",
       " 'moderators',\n",
       " 'of',\n",
       " 'this',\n",
       " 'subreddit](/message/compose/?to=/r/dogecoin)',\n",
       " 'if',\n",
       " 'you',\n",
       " 'have',\n",
       " 'any',\n",
       " 'questions',\n",
       " 'or',\n",
       " 'concerns.*']"
      ]
     },
     "execution_count": 59,
     "metadata": {},
     "output_type": "execute_result"
    }
   ],
   "source": [
    "sentence0 = news1.title.iloc[1]\n",
    "words0 = news1.title.iloc[1].split()\n",
    "sentence0\n",
    "words0"
   ]
  },
  {
   "cell_type": "code",
   "execution_count": 60,
   "id": "ef220199",
   "metadata": {},
   "outputs": [
    {
     "name": "stdout",
     "output_type": "stream",
     "text": [
      "Positive: []\n",
      "Neutral: ['__^[wow', '^so', '^verify]__:', '^/u/tomcarbon', '^->', '^/u/apocrathia', '^__10.0__', '^__doge__', '^__($0.02)__', '^[[help]](https://www.reddit.com/message/compose?to=sodogetip&amp;subject=%2Bhelp&amp;message=%2Bhelp)', '^[[transaction]](https://chain.so/tx/DOGE/f33610bdbb3e662844dd6b7f828cc48e7377808de9d2dc4ccce1190f0d0e1135)']\n",
      "Negative: []\n",
      "\n",
      "This sentence is 0.0% negative\n",
      "This sentence is 1.0% neutral\n",
      "This sentence is 0.0% positive\n",
      "The compound value : 0.0 <= THRESHOLD\n",
      "This sentence is NEGATIVE\n"
     ]
    },
    {
     "name": "stderr",
     "output_type": "stream",
     "text": [
      "C:\\Users\\yjain7\\Anaconda3\\lib\\site-packages\\ipykernel\\ipkernel.py:287: DeprecationWarning: `should_run_async` will not call `transform_cell` automatically in the future. Please pass the result to `transformed_cell` argument and any exception that happen during thetransform in `preprocessing_exc_tuple` in IPython 7.17 and above.\n",
      "  and should_run_async(code)\n"
     ]
    }
   ],
   "source": [
    "sentence0 = news1.title.iloc[0]\n",
    "words0 = news1.title.iloc[0].split()\n",
    "\n",
    "pos_list = []\n",
    "neg_list = []\n",
    "neu_list = []\n",
    "\n",
    "for word in words0:\n",
    "  if (sid.polarity_scores(word)['compound']) >= THRESHOLD:\n",
    "    pos_list.append(word)\n",
    "  elif (sid.polarity_scores(word)['compound']) <= -THRESHOLD:\n",
    "    neg_list.append(word)\n",
    "  else:\n",
    "    neu_list.append(word)                \n",
    "\n",
    "print('Positive:',pos_list)        \n",
    "print('Neutral:',neu_list)    \n",
    "print('Negative:',neg_list) \n",
    "score = sid.polarity_scores(sentence0)\n",
    "\n",
    "print(f\"\\nThis sentence is {score['neg']}% negative\")\n",
    "print(f\"This sentence is {score['neu']}% neutral\")\n",
    "print(f\"This sentence is {score['pos']}% positive\")\n",
    "print(f\"The compound value : {score['compound']} <= THRESHOLD\")\n",
    "print(f\"This sentence is NEGATIVE\")\n",
    "\n",
    "# source https://stackoverflow.com/a/51515048/11386747"
   ]
  },
  {
   "cell_type": "code",
   "execution_count": 61,
   "id": "fd0bc67a",
   "metadata": {},
   "outputs": [
    {
     "name": "stderr",
     "output_type": "stream",
     "text": [
      "C:\\Users\\yjain7\\Anaconda3\\lib\\site-packages\\ipykernel\\ipkernel.py:287: DeprecationWarning: `should_run_async` will not call `transform_cell` automatically in the future. Please pass the result to `transformed_cell` argument and any exception that happen during thetransform in `preprocessing_exc_tuple` in IPython 7.17 and above.\n",
      "  and should_run_async(code)\n"
     ]
    },
    {
     "data": {
      "text/plain": [
       "[]"
      ]
     },
     "execution_count": 61,
     "metadata": {},
     "output_type": "execute_result"
    }
   ],
   "source": [
    "neg_list"
   ]
  },
  {
   "cell_type": "code",
   "execution_count": 117,
   "id": "1b896ee1",
   "metadata": {},
   "outputs": [
    {
     "name": "stderr",
     "output_type": "stream",
     "text": [
      "C:\\Users\\yjain7\\Anaconda3\\lib\\site-packages\\ipykernel\\ipkernel.py:287: DeprecationWarning: `should_run_async` will not call `transform_cell` automatically in the future. Please pass the result to `transformed_cell` argument and any exception that happen during thetransform in `preprocessing_exc_tuple` in IPython 7.17 and above.\n",
      "  and should_run_async(code)\n"
     ]
    },
    {
     "data": {
      "text/plain": [
       "pos    33\n",
       "neu    25\n",
       "neg    14\n",
       "Name: label, dtype: int64"
      ]
     },
     "execution_count": 117,
     "metadata": {},
     "output_type": "execute_result"
    }
   ],
   "source": [
    "news1.label.value_counts()"
   ]
  },
  {
   "cell_type": "code",
   "execution_count": 118,
   "id": "8fbfa8e9",
   "metadata": {},
   "outputs": [
    {
     "name": "stderr",
     "output_type": "stream",
     "text": [
      "C:\\Users\\yjain7\\Anaconda3\\lib\\site-packages\\ipykernel\\ipkernel.py:287: DeprecationWarning: `should_run_async` will not call `transform_cell` automatically in the future. Please pass the result to `transformed_cell` argument and any exception that happen during thetransform in `preprocessing_exc_tuple` in IPython 7.17 and above.\n",
      "  and should_run_async(code)\n"
     ]
    },
    {
     "data": {
      "text/plain": [
       "pos    117\n",
       "neg      8\n",
       "neu      6\n",
       "Name: label, dtype: int64"
      ]
     },
     "execution_count": 118,
     "metadata": {},
     "output_type": "execute_result"
    }
   ],
   "source": [
    "news2.label.value_counts()"
   ]
  },
  {
   "cell_type": "code",
   "execution_count": 119,
   "id": "09e7e5c1",
   "metadata": {},
   "outputs": [
    {
     "name": "stderr",
     "output_type": "stream",
     "text": [
      "C:\\Users\\yjain7\\Anaconda3\\lib\\site-packages\\ipykernel\\ipkernel.py:287: DeprecationWarning: `should_run_async` will not call `transform_cell` automatically in the future. Please pass the result to `transformed_cell` argument and any exception that happen during thetransform in `preprocessing_exc_tuple` in IPython 7.17 and above.\n",
      "  and should_run_async(code)\n"
     ]
    },
    {
     "data": {
      "text/plain": [
       "False    39\n",
       "True     33\n",
       "Name: label, dtype: int64"
      ]
     },
     "execution_count": 119,
     "metadata": {},
     "output_type": "execute_result"
    }
   ],
   "source": [
    "type(news1.label)\n",
    "count_positive=0\n",
    "Pos = pd.Series(news1['label']=='pos')\n",
    "Positive=Pos.value_counts()\n",
    "Positive\n",
    "#count=Positive/news.label\n",
    "#Positive.value_counts()"
   ]
  },
  {
   "cell_type": "code",
   "execution_count": 120,
   "id": "98455dfc",
   "metadata": {},
   "outputs": [
    {
     "name": "stderr",
     "output_type": "stream",
     "text": [
      "C:\\Users\\yjain7\\Anaconda3\\lib\\site-packages\\ipykernel\\ipkernel.py:287: DeprecationWarning: `should_run_async` will not call `transform_cell` automatically in the future. Please pass the result to `transformed_cell` argument and any exception that happen during thetransform in `preprocessing_exc_tuple` in IPython 7.17 and above.\n",
      "  and should_run_async(code)\n"
     ]
    },
    {
     "data": {
      "text/plain": [
       "title                                                                                                                                                                                                                                                                                                                                                                                                                                                                                                                                                                                                                                                                                                                                                                                                                                                                                                                                                                                                                                                                                                                                                                                                                                                                                                                                                                                                                                                                                                                                                                                                                                                                                                                                                                                                                                                                                                                                                                                                                                                                                                                                                                                                                                   neg    neu    pos    compound  label\n",
       "\\n* [**NEWBIES GUIDE**](https://www.reddit.com/r/cardano/comments/lnj5ne/getting_started_guide_a_newbies_guide_to_cardano/) *Start here*\\n* [**PROJECT CATALYST**](https://cardano.ideascale.com/) *Propose and vote on projects*\\n* ⚠️ [**PSA - SCAMS**](https://www.reddit.com/r/cardano/comments/lccorg/psa_there_is_no_such_thing_as_cardano_giveaways/) *Be wary of common scams!*\\n\\n\\n*I am a bot, and this action was performed automatically. Please [contact the moderators of this subreddit](/message/compose/?to=/r/cardano) if you have any questions or concerns.*                                                                                                                                                                                                                                                                                                                                                                                                                                                                                                                                                                                                                                                                                                                                                                                                                                                                                                                                                                                                                                                                                                                                                                                                                                                                                                                                                                                                                                                                                                                                                                                                                                                       0.000  0.941  0.059   0.3802   pos      63\n",
       "To post in this community you must have at least 25 combined Karma **(earned from comments or posts only)**, and your account must be older than 15 days. Please **do not** contact the moderators asking for approval. You are restricted to commenting in the [daily thread](https://www.reddit.com/r/cardano/?f=flair_name%3A%22Daily%20Thread%22) until you meet those requirements.   \\n\\nWe have a comprehensive [**NEWBIES GUIDE**](https://www.reddit.com/r/cardano/comments/lnj5ne/getting_started_guide_a_newbies_guide_to_cardano/) which covers everything from buying ADA to storing and staking. Please make sure you've read the guide and are making use of the subreddit search (rule 5) which helps maintain content quality in our subreddit. Thank you!\\n\\n*I am a bot, and this action was performed automatically. Please [contact the moderators of this subreddit](/message/compose/?to=/r/cardano) if you have any questions or concerns.*                                                                                                                                                                                                                                                                                                                                                                                                                                                                                                                                                                                                                                                                                                                                                                                                                                                                                                                                                                                                                                                                                                                                                                                                                                                                     0.020  0.825  0.155   0.9377   pos       9\n",
       "This submission has been filtered into the moderation queue because it contains flagged advertisement key words. Note if you're advertising your NFT, please use the sister sub  r/CardanoNFTs. \\n\\nIf this post has been filtered by mistake, please kindly wait for it to be approved by a moderator.\\n\\n*I am a bot, and this action was performed automatically. Please [contact the moderators of this subreddit](/message/compose/?to=/r/cardano) if you have any questions or concerns.*                                                                                                                                                                                                                                                                                                                                                                                                                                                                                                                                                                                                                                                                                                                                                                                                                                                                                                                                                                                                                                                                                                                                                                                                                                                                                                                                                                                                                                                                                                                                                                                                                                                                                                                                         0.031  0.805  0.165   0.8591   pos       7\n",
       "This post has been removed as it contains market/price related keywords that are filtered due to rule 6 (market discussion and trading posts are prohibited). We currently have an overwhelming amount of users posting about price, instead please use the [daily thread](https://www.reddit.com/r/cardano/?f=flair_name%3A%22Daily%20Thread%22) for price and trading related discussions or visit r/CardanoTrading. Please only contact the moderators if your post has been filtered by mistake.  \\n\\n* [**NEWBIES GUIDE**](https://www.reddit.com/r/cardano/comments/lnj5ne/getting_started_guide_a_newbies_guide_to_cardano/) *Ensure you've read this guide or your post may be removed.*\\n* [**PROJECT CATALYST**](https://cardano.ideascale.com/) *Participate! Create, propose and VOTE on projects to be built on Cardano!*\\n* ⚠️ [**PSA - SCAMS**](https://www.reddit.com/r/cardano/comments/lccorg/psa_there_is_no_such_thing_as_cardano_giveaways/) *Read about fake wallets and giveaways to stay safe.*\\n\\n\\n*I am a bot, and this action was performed automatically. Please [contact the moderators of this subreddit](/message/compose/?to=/r/cardano) if you have any questions or concerns.*                                                                                                                                                                                                                                                                                                                                                                                                                                                                                                                                                                                                                                                                                                                                                                                                                                                                                                                                                                                                                       0.041  0.885  0.074   0.5337   pos       6\n",
       "Your submission has been flagged for removal because it pertains primarily to altcoin discussion and/or promotion. Altcoins are off topic for the Bitcoin subreddit. Please post in the subreddit appropriate to that altcoin instead. Thank you.\\n\\n^^I ^^am ^^a ^^bot ^^and ^^cannot ^^respond. ^^Please ^^contact ^^r/Bitcoin ^^moderators [^^directly ^^via ^^mod ^^mail](https://www.reddit.com/message/compose?to=%2Fr%2FBitcoin) ^^if ^^you ^^have ^^questions.                                                                                                                                                                                                                                                                                                                                                                                                                                                                                                                                                                                                                                                                                                                                                                                                                                                                                                                                                                                                                                                                                                                                                                                                                                                                                                                                                                                                                                                                                                                                                                                                                                                                                                                                                                  0.000  0.917  0.083   0.5859   pos       5\n",
       "Your submission has been flagged for removal because it doesn't meet the quality standards for /r/Bitcoin at this time. Please help keep the subreddit clean from low quality posts.\\n\\n^^I ^^am ^^a ^^bot ^^and ^^cannot ^^respond. ^^Please ^^contact ^^r/Bitcoin ^^moderators [^^directly ^^via ^^mod ^^mail](https://www.reddit.com/message/compose?to=%2Fr%2FBitcoin) ^^if ^^you ^^have ^^questions.                                                                                                                                                                                                                                                                                                                                                                                                                                                                                                                                                                                                                                                                                                                                                                                                                                                                                                                                                                                                                                                                                                                                                                                                                                                                                                                                                                                                                                                                                                                                                                                                                                                                                                                                                                                                                               0.039  0.818  0.143   0.6808   pos       5\n",
       "WARNING. NEW ACCOUNT DETECTED. IS THIS PERSON TRYING TO SELL OR BUY DOGECOIN? Are they trying to get you to comment on a T-Shirt? Are they posting fake Twitter images containing links? BE CAREFUL. IT COULD BE A SCAM..\\n\\nI see you are new here, Welcome to /r/dogecoin. How did you find out about Dogecoin?\\n\\nDo you have any questions you need answered to help get you started?  \\n\\nHere are some handy links:\\n\\n[How to buy Dogecoin](https://www.reddit.com/r/dogecoin/comments/msp3e9/how_to_buy_dogecoin/)\\n\\n[Using the subreddit tipbot](/r/sodogetip/wiki/index)\\n\\n[Wallet Help - ELI5](https://redd.it/3b3h5d/)\\n\\nPlease check the information on the sidebar -->>\\n\\n*I am a bot, and this action was performed automatically. Please [contact the moderators of this subreddit](/message/compose/?to=/r/dogecoin) if you have any questions or concerns.*                                                                                                                                                                                                                                                                                                                                                                                                                                                                                                                                                                                                                                                                                                                                                                                                                                                                                                                                                                                                                                                                                                                                                                                                                                                                                                                                                       0.049  0.822  0.129   0.8426   pos       2\n",
       "This post appears to be related to buying Cardano. We currently have an overwhelming amount of people asking if they should invest, and where to buy. Remember no-one knows what will happen with the price, and you should only make investment decisions based on your own research.\\n\\nIf you have just bought Cardano and want to introduce yourself, please do so in the [daily thread](https://www.reddit.com/r/cardano/?f=flair_name%3A%22Daily%20Thread%22) (rule 7).\\n\\nWith regards to buying, please see this dedicated post [\"How do I buy ADA?\"](https://www.reddit.com/r/Cardano_ELI5/comments/l00130/how_do_i_buy_ada/). For a list of exchanges please see [this link](https://www.reddit.com/r/Cardano_ELI5/wiki/index#wiki_cardano_compatible_exchanges).          \\n\\nPlease also make use of the search, **using the search is expected of you and is rule 5 of this subreddit**, [here's a example search for buying](https://www.reddit.com/r/cardano/search?q=buy&restrict_sr=1). You can also ask questions in the [daily thread](https://www.reddit.com/r/cardano/?f=flair_name%3A%22Daily%20Thread%22). \\n\\nIf you have just bought Cardano and want to introduce yourself, please do so in the [daily thread](https://www.reddit.com/r/cardano/?f=flair_name%3A%22Daily%20Thread%22) (rule 7).\\n\\n* [**NEWBIES GUIDE**](https://www.reddit.com/r/cardano/comments/lnj5ne/getting_started_guide_a_newbies_guide_to_cardano/) *Ensure you've read this guide or your post may be removed.*\\n* [**PROJECT CATALYST**](https://cardano.ideascale.com/) *Participate! Create, propose and VOTE on projects to be built on Cardano!*\\n* ⚠️ [**PSA - SCAMS**](https://www.reddit.com/r/cardano/comments/lccorg/psa_there_is_no_such_thing_as_cardano_giveaways/) *Read about fake wallets and giveaways to stay safe.*\\n\\n\\n*I am a bot, and this action was performed automatically. Please [contact the moderators of this subreddit](/message/compose/?to=/r/cardano) if you have any questions or concerns.*                                                                                                                                                                                                    0.014  0.881  0.105   0.9427   pos       2\n",
       "Similar content has already been submitted several times. Please check the front page of r/Bitcoin and r/Bitcoin/new for previous submissions to help keep repetition to a minimum. You can also try using the search bar. Thank you.\\n\\n^^I ^^am ^^a ^^bot ^^and ^^cannot ^^respond. ^^Please ^^contact ^^r/Bitcoin ^^moderators [^^directly ^^via ^^mod ^^mail](https://www.reddit.com/message/compose?to=%2Fr%2FBitcoin) ^^if ^^you ^^have ^^questions.                                                                                                                                                                                                                                                                                                                                                                                                                                                                                                                                                                                                                                                                                                                                                                                                                                                                                                                                                                                                                                                                                                                                                                                                                                                                                                                                                                                                                                                                                                                                                                                                                                                                                                                                                                              0.000  0.874  0.126   0.7579   pos       2\n",
       "This post is currently under review by the moderation team as it appears to be a scam/giveaway related post. Note if you're reporting a giveaway scam on youtube please don't post these to the subreddit as it directs traffic to them and dilutes the sub, instead report them to the [Cardano Fraud Detection Bureau](https://cfdb.atlassian.net/servicedesk/customer/portal/1). The scams on youtube are automated and unfortunately it's an endless game of wack-a-mole, so be aware of them and report them when you see them.   \\n\\nPlease make sure you read the material below to help stay safe:\\n\\n#Safety and Scams    \\n\\n*Always be vigilant - especially on Youtube with 'giveaway' scams!*\\n\\n* Never share your recovery seed phrase.\\n\\n* Never send your crypto to someone promising to send more back (youtube 'giveaway' scam) - [See advanced fee scam](https://en.wikipedia.org/wiki/Advance-fee_scam#:~:text=An%20advance%2Dfee%20scam%20is,to%20obtain%20the%20large%20sum.)\\n\\n* Always download wallets from a trusted sources, and be aware there are imitation wallets in app stores - if in doubt, ask!\\n\\n**Please read the following articles to stay secure**\\n\\n[There is no such thing as Cardano giveaways!](https://www.reddit.com/r/cardano/comments/lccorg/psa_there_is_no_such_thing_as_cardano_giveaways/)\\n\\n[How do I identify cryptocurrency scams?](https://www.reddit.com/r/Cardano_ELI5/comments/l5ru7v/how_do_i_identify_cryptocurrency_scams/)\\n\\n[Tips for staying safe online](https://iohk.zendesk.com/hc/en-us/articles/360015295134-Tips-for-Staying-Safe-Online)\\n\\n[Cyber security guidelines for Cardano users](https://iohk.zendesk.com/hc/en-us/articles/900005141163-Cybersecurity-guidelines-for-Cardano-users)\\n\\n[Daedalus security when using computer repair services](https://iohk.zendesk.com/hc/en-us/articles/360015360154-Daedalus-security-when-using-computer-repair-services)\\n\\nTyping `?help` in the comments will show a list of all available comment commands.\\n\\n\\n*I am a bot, and this action was performed automatically. Please [contact the moderators of this subreddit](/message/compose/?to=/r/cardano) if you have any questions or concerns.*  0.094  0.777  0.130   0.7452   pos       2\n",
       "Your submission has been flagged for removal because there are too many other price posts right now. Please contribute to the Daily Discussion thread, the chat room, or another price-related thread. Thank you!.\\n\\n^^I ^^am ^^a ^^bot ^^and ^^cannot ^^respond. ^^Please ^^contact ^^r/Bitcoin ^^moderators [^^directly ^^via ^^mod ^^mail](https://www.reddit.com/message/compose?to=%2Fr%2FBitcoin) ^^if ^^you ^^have ^^questions.                                                                                                                                                                                                                                                                                                                                                                                                                                                                                                                                                                                                                                                                                                                                                                                                                                                                                                                                                                                                                                                                                                                                                                                                                                                                                                                                                                                                                                                                                                                                                                                                                                                                                                                                                                                                 0.000  0.908  0.092   0.6239   pos       2\n",
       "Hey there!\\n\\nI see you are new here, Welcome to /r/dogecoin. How did you find out about Dogecoin?\\n\\nDo you have any questions you need answered to help get you started?  \\n\\nHere are some handy links:\\n\\n[Getting Started](http://dogecoin.com/getting-started/)\\n\\n[Using SoDogeTip](/r/sodogetip/wiki/index)\\n\\n[List of Faucets](/r/dogecoin/wiki/faucets)\\n\\n[Wallet Help - ELI5](https://redd.it/3b3h5d/)\\n\\nPlease check the information on the sidebar -->>\\n\\n*I am a bot, and this action was performed automatically. Please [contact the moderators of this subreddit](/message/compose/?to=/r/dogecoin) if you have any questions or concerns.*                                                                                                                                                                                                                                                                                                                                                                                                                                                                                                                                                                                                                                                                                                                                                                                                                                                                                                                                                                                                                                                                                                                                                                                                                                                                                                                                                                                                                                                                                                                                                                        0.000  0.837  0.163   0.9158   pos       2\n",
       "Your submission has been flagged for removal because it is considered off topic for the Bitcoin subreddit.\\n\\n^^I ^^am ^^a ^^bot ^^and ^^cannot ^^respond. ^^Please ^^contact ^^r/Bitcoin ^^moderators [^^directly ^^via ^^mod ^^mail](https://www.reddit.com/message/compose?to=%2Fr%2FBitcoin) ^^if ^^you ^^have ^^questions.                                                                                                                                                                                                                                                                                                                                                                                                                                                                                                                                                                                                                                                                                                                                                                                                                                                                                                                                                                                                                                                                                                                                                                                                                                                                                                                                                                                                                                                                                                                                                                                                                                                                                                                                                                                                                                                                                                         0.000  1.000  0.000   0.0000   neu       2\n",
       "We have a lot of newcomers entering the Bitcoin space recently who are exploring different exchanges and such. Some users are developing a habit of asking if various random websites some complete stranger PM'd them is a scam or not. Sometimes these sites are completely unrelated to Bitcoin. This is not the purpose of r/Bitcoin.\\n\\n* Do not trust unsolicited messages telling you to check out some shady website.\\n* Do not trust Discord randos telling you that you won a prize.\\n* Do not trust anyone who promises guaranteed profits.\\n* Do not trust website with unpronounceable domain names\\n* Do not trust anyone claiming to give away free Bitcoin. (YouTube, Twitter, Discord)\\n* Do not trust anyone claiming they will double however much Bitcoin you send them.\\n* Do not trust 'pretty girls' on Tinder telling you about new investment opportunities.\\n* **If you have to ask** if some sketchy website or special offer is a scam, **then it probably is.**\\n\\nYou have to learn to think for yourselves. Recognize that there are many tricksters out there who will go to great lengths to separate you from your Bitcoin. Use your head and stay safe. If you send your Bitcoin to a scammer, it's gone forever. There are no refunds!\\n\\n^^I ^^am ^^a ^^bot ^^and ^^cannot ^^respond. ^^Please ^^contact ^^r/Bitcoin ^^moderators [^^directly ^^via ^^mod ^^mail](https://www.reddit.com/message/compose?to=%2Fr%2FBitcoin) ^^if ^^you ^^have ^^questions.                                                                                                                                                                                                                                                                                                                                                                                                                                                                                                                                                                                                                                                                                                                                         0.134  0.781  0.085  -0.8800   neg       2\n",
       "This post appears to be related to buying Cardano. This is a common question - for a list of exchanges please see [this post](https://www.reddit.com/r/cardano/comments/kns334/some_useful_links_for_new_users_cardano/). Please also make use of the search, [here's a search for buying](https://www.reddit.com/r/cardano/search?q=buy&restrict_sr=1).\\n\\n\\n*I am a bot, and this action was performed automatically. Please [contact the moderators of this subreddit](/message/compose/?to=/r/cardano) if you have any questions or concerns.*                                                                                                                                                                                                                                                                                                                                                                                                                                                                                                                                                                                                                                                                                                                                                                                                                                                                                                                                                                                                                                                                                                                                                                                                                                                                                                                                                                                                                                                                                                                                                                                                                                                                                      0.000  0.877  0.123   0.7399   pos       1\n",
       "Your post must contain at least some words. Try again\\n\\n*I am a bot, and this action was performed automatically. Please [contact the moderators of this subreddit](/message/compose/?to=/r/dogecoin) if you have any questions or concerns.*                                                                                                                                                                                                                                                                                                                                                                                                                                                                                                                                                                                                                                                                                                                                                                                                                                                                                                                                                                                                                                                                                                                                                                                                                                                                                                                                                                                                                                                                                                                                                                                                                                                                                                                                                                                                                                                                                                                                                                                          0.000  0.933  0.067   0.3182   pos       1\n",
       "Your submission has been flagged and removed because it appears that you are begging for money. If you would like to beg, please visit r/BitcoinBeggars.\\n\\n^^I ^^am ^^a ^^bot ^^and ^^cannot ^^respond. ^^Please ^^contact ^^r/Bitcoin ^^moderators [^^directly ^^via ^^mod ^^mail](https://www.reddit.com/message/compose?to=%2Fr%2FBitcoin) ^^if ^^you ^^have ^^questions.                                                                                                                                                                                                                                                                                                                                                                                                                                                                                                                                                                                                                                                                                                                                                                                                                                                                                                                                                                                                                                                                                                                                                                                                                                                                                                                                                                                                                                                                                                                                                                                                                                                                                                                                                                                                                                                           0.000  0.897  0.103   0.5859   pos       1\n",
       "Your submission has been flagged for removal because it is not in english. Please consider submitting a translated version, or posting to a language specific bitcoin subreddit. Thank you.\\n\\n^^I ^^am ^^a ^^bot ^^and ^^cannot ^^respond. ^^Please ^^contact ^^r/Bitcoin ^^moderators [^^directly ^^via ^^mod ^^mail](https://www.reddit.com/message/compose?to=%2Fr%2FBitcoin) ^^if ^^you ^^have ^^questions.                                                                                                                                                                                                                                                                                                                                                                                                                                                                                                                                                                                                                                                                                                                                                                                                                                                                                                                                                                                                                                                                                                                                                                                                                                                                                                                                                                                                                                                                                                                                                                                                                                                                                                                                                                                                                        0.040  0.908  0.052   0.1376   neu       1\n",
       "\\n* [**NEWBIES GUIDE**](https://www.reddit.com/r/cardano/comments/lnj5ne/getting_started_guide_a_newbies_guide_to_cardano/) *Ensure you've read this guide or your post may be removed.*\\n* [**PROJECT CATALYST**](https://cardano.ideascale.com/) *Participate! Create, propose and VOTE on projects to be built on Cardano!*\\n\\n* ⚠️ [**PSA - SCAMS**](https://www.reddit.com/r/cardano/comments/lccorg/psa_there_is_no_such_thing_as_cardano_giveaways/) *Read about fake wallets and giveaways to stay safe.*\\n\\n\\n*I am a bot, and this action was performed automatically. Please [contact the moderators of this subreddit](/message/compose/?to=/r/cardano) if you have any questions or concerns.*                                                                                                                                                                                                                                                                                                                                                                                                                                                                                                                                                                                                                                                                                                                                                                                                                                                                                                                                                                                                                                                                                                                                                                                                                                                                                                                                                                                                                                                                                                                             0.046  0.879  0.074   0.2225   pos       1\n",
       "This graphic is really nice and well made, but it has some false info on it. ROI across all pool sizes are not all 5-6% per year. You can even see it for yourself using the AdaHeartPool calculator and looking at a pool size of 1M vs 20M (all else equal): [https://www.adaheartpool.com/about-us/](https://www.adaheartpool.com/about-us/)\\n\\nSuch a pool would give around 3% APY (assuming perfect pool performance and 0% marginal fees). This is pretty consistent with my analysis here: [https://www.reddit.com/r/cardano/comments/mxmigd/chance\\_of\\_zero\\_blocks\\_per\\_epoch/?utm\\_source=share&utm\\_medium=web2x&context=3](https://www.reddit.com/r/cardano/comments/mxmigd/chance_of_zero_blocks_per_epoch/?utm_source=share&utm_medium=web2x&context=3)\\n\\nOnly around 8.5M stake does a pool start to average around 5% APY, and it increases towards about 5.3% APY. Any pool below 100,000 ADA total stake is has below 3.5% ROI, which is significantly less than 5.3% ROI. In other words, if you were expecting to get 500 ADA this year from staking to a small pool, then after 73 epochs, you'll only have around 330 ADA in rewards. Whether that difference is 'big' or 'small' is up to the person staking, but it's better to have the correct information on this graphic. \\n\\nRight now, there are a lot of people who are quoting this graphic as if it were the truth, and that kind of misinformation will eventually push people away once they see how little ADA they're getting. The analysis I did showed that any pool with less than 15,000 ADA staked will expect to take over a year to make the first block. If newbies are staking to these small pools because they are being told that these are the pools that are best for decentralization, then they'll never make any rewards and may be turned away from ADA as a result of it. I can see that in a lot of the smaller pools, the ones who are delegating to them are newbies, so that's why I want to correct this misinformation.                                                                                                                                                                                               0.033  0.857  0.111   0.9789   pos       1\n",
       "TA is not guessing at all it is psycology. And it works because everyone is doing TA maybe its a bit gardet to predict with TA on cryptos atm cause not alot of traders are trading cryptos. But it works simply because people are using it and because of how newbies dont know how to trade and traders know that                                                                                                                                                                                                                                                                                                                                                                                                                                                                                                                                                                                                                                                                                                                                                                                                                                                                                                                                                                                                                                                                                                                                                                                                                                                                                                                                                                                                                                                                                                                                                                                                                                                                                                                                                                                                                                                                                                                    0.000  1.000  0.000   0.0000   neu       1\n",
       "Reddit is a poor source for seeking financial advice. Bitcoin is a risky investment. [Don't invest recklessly.](https://www.reddit.com/r/Bitcoin/comments/7gi55s/dont_invest_recklessly/) Don't invest anything you can't afford to lose. If you are looking to get rich quick, you came to the wrong place. Nobody has a crystal ball. Nobody can see the future. Please do your own research and make your own financial decisions.\\n\\n*I am a bot, and this action was performed automatically. Please [contact the moderators of this subreddit](/message/compose/?to=/r/Bitcoin) if you have any questions or concerns.*                                                                                                                                                                                                                                                                                                                                                                                                                                                                                                                                                                                                                                                                                                                                                                                                                                                                                                                                                                                                                                                                                                                                                                                                                                                                                                                                                                                                                                                                                                                                                                                                           0.087  0.798  0.114   0.3523   pos       1\n",
       "No one knows what the price will do or be in the future. Price can move both on technicals or fundamentals alone; one does not need to rely on the other. Cryptocurrency prices are volatile and often illogical. You should only make financial decisions by taking the time to do the proper research and learn how to use crypto properly. Do not rely on making profits in the short term or invest more than you can afford to loose. Do not expect to get rich quick or you're likely here for the wrong reasons. \\n\\nWe have many resources to aid you to learn about the ecosystem, simply comment `?learn` and `?ecosystem` anywhere in the comments and the automod will respond with those resources.\\n\\n*I am a bot, and this action was performed automatically. Please [contact the moderators of this subreddit](/message/compose/?to=/r/cardano) if you have any questions or concerns.*                                                                                                                                                                                                                                                                                                                                                                                                                                                                                                                                                                                                                                                                                                                                                                                                                                                                                                                                                                                                                                                                                                                                                                                                                                                                                                                                0.064  0.880  0.056   0.1877   neu       1\n",
       "Newbies are distracted with shitcoins for now, always looking for 'the next bitcoin'. Just my anecdotal experience with talking to people who IRL who got into crypto in 2021. Eventually, 99% of them will get rekt.                                                                                                                                                                                                                                                                                                                                                                                                                                                                                                                                                                                                                                                                                                                                                                                                                                                                                                                                                                                                                                                                                                                                                                                                                                                                                                                                                                                                                                                                                                                                                                                                                                                                                                                                                                                                                                                                                                                                                                                                                   0.064  0.936  0.000  -0.3400   neg       1\n",
       "Looks like a repost. I've seen this image 5 times.\\n\\nFirst Seen [Here](https://redd.it/ibhrjq) on 2020-08-17 95.31% match. Last Seen [Here](https://redd.it/mdmbjw) on 2021-03-26 93.75% match\\n\\n*I'm not perfect, but you can help. Report [ [False Positive](https://www.reddit.com/message/compose/?to=RepostSleuthBot&subject=False%20Positive&message={\"post_id\": \"u4g9tm\", \"meme_template\": null}) ]*\\n\\n[View Search On repostsleuth.com](https://www.repostsleuth.com/search?postId=u4g9tm&sameSub=false&filterOnlyOlder=true&memeFilter=false&filterDeadMatches=false&targetImageMatch=92&targetImageMemeMatch=97)\\n\\n---\\n\\n**Scope:** Reddit | **Meme Filter:** False | **Target:** 92% | **Check Title:** False | **Max Age:** None | **Searched Images:** 260,532,923 | **Search Time:** 0.62931s                                                                                                                                                                                                                                                                                                                                                                                                                                                                                                                                                                                                                                                                                                                                                                                                                                                                                                                                                                                                                                                                                                                                                                                                                                                                                                                                                                                                                        0.031  0.882  0.088   0.5663   pos       1\n",
       "Looks like a repost. I've seen this image 11 times.\\n\\nFirst Seen [Here](https://redd.it/nx3ils) on 2021-06-11 95.31% match. Last Seen [Here](https://redd.it/rsqpuf) on 2021-12-31 100.0% match\\n\\n*I'm not perfect, but you can help. Report [ [False Positive](https://www.reddit.com/message/compose/?to=RepostSleuthBot&subject=False%20Positive&message={\"post_id\": \"u4jxsd\", \"meme_template\": null}) ]*\\n\\n[View Search On repostsleuth.com](https://www.repostsleuth.com/search?postId=u4jxsd&sameSub=false&filterOnlyOlder=true&memeFilter=false&filterDeadMatches=false&targetImageMatch=92&targetImageMemeMatch=97)\\n\\n---\\n\\n**Scope:** Reddit | **Meme Filter:** False | **Target:** 92% | **Check Title:** False | **Max Age:** None | **Searched Images:** 317,689,418 | **Search Time:** 10.61259s                                                                                                                                                                                                                                                                                                                                                                                                                                                                                                                                                                                                                                                                                                                                                                                                                                                                                                                                                                                                                                                                                                                                                                                                                                                                                                                                                                                                                      0.030  0.883  0.086   0.5663   pos       1\n",
       "I will be messaging you in 5 months on [**2022-05-31 16:50:23 UTC**](http://www.wolframalpha.com/input/?i=2022-05-31%2016:50:23%20UTC%20To%20Local%20Time) to remind you of [**this link**](https://www.reddit.com/r/cardano/comments/rsqgf1/what_are_your_predictions_for_cardano_in_2022/hqp6m8c/?context=3)\\n\\n[**2 OTHERS CLICKED THIS LINK**](https://www.reddit.com/message/compose/?to=RemindMeBot&subject=Reminder&message=%5Bhttps%3A%2F%2Fwww.reddit.com%2Fr%2Fcardano%2Fcomments%2Frsqgf1%2Fwhat_are_your_predictions_for_cardano_in_2022%2Fhqp6m8c%2F%5D%0A%0ARemindMe%21%202022-05-31%2016%3A50%3A23%20UTC) to send a PM to also be reminded and to reduce spam.\\n\\n^(Parent commenter can ) [^(delete this message to hide from others.)](https://www.reddit.com/message/compose/?to=RemindMeBot&subject=Delete%20Comment&message=Delete%21%20rsqgf1)\\n\\n*****\\n\\n|[^(Info)](https://www.reddit.com/r/RemindMeBot/comments/e1bko7/remindmebot_info_v21/)|[^(Custom)](https://www.reddit.com/message/compose/?to=RemindMeBot&subject=Reminder&message=%5BLink%20or%20message%20inside%20square%20brackets%5D%0A%0ARemindMe%21%20Time%20period%20here)|[^(Your Reminders)](https://www.reddit.com/message/compose/?to=RemindMeBot&subject=List%20Of%20Reminders&message=MyReminders%21)|[^(Feedback)](https://www.reddit.com/message/compose/?to=Watchful1&subject=RemindMeBot%20Feedback)|\\n|-|-|-|-|                                                                                                                                                                                                                                                                                                                                                                                                                                                                                                                                                                                                                                                                                                                                                                                                                      0.105  0.895  0.000  -0.6322   neg       1\n",
       "Hi u/tohaz, thanks for tipping u/Mark_Bear **500** satoshis!\\n***\\n*[^(More info)](https://www.reddit.com/r/lntipbot/wiki/index) ^| [^(Balance)](https://www.reddit.com/message/compose/?to=lntipbot&subject=balance&message=!balance) ^| [^(Deposit)](https://www.reddit.com/message/compose/?to=lntipbot&subject=deposit&message=!deposit 10000) ^| [^(Withdraw)](https://www.reddit.com/message/compose/?to=lntipbot&subject=withdraw&message=!withdraw put_invoice_here) ^| ^(Something wrong?  Have a question?) [^(Send me a message)](https://www.reddit.com/message/compose/?to=drmoore718)*                                                                                                                                                                                                                                                                                                                                                                                                                                                                                                                                                                                                                                                                                                                                                                                                                                                                                                                                                                                                                                                                                                                                                                                                                                                                                                                                                                                                                                                                                                                                                                                                                                    0.158  0.755  0.088  -0.5152   neg       1\n",
       "Hi u/jojothehodler, thanks for tipping u/dubbleoshoe **500** satoshis!\\n***\\n*[^(More info)](https://www.reddit.com/r/lntipbot/wiki/index) ^| [^(Balance)](https://www.reddit.com/message/compose/?to=lntipbot&subject=balance&message=!balance) ^| [^(Deposit)](https://www.reddit.com/message/compose/?to=lntipbot&subject=deposit&message=!deposit 10000) ^| [^(Withdraw)](https://www.reddit.com/message/compose/?to=lntipbot&subject=withdraw&message=!withdraw put_invoice_here) ^| ^(Something wrong?  Have a question?) [^(Send me a message)](https://www.reddit.com/message/compose/?to=drmoore718)*                                                                                                                                                                                                                                                                                                                                                                                                                                                                                                                                                                                                                                                                                                                                                                                                                                                                                                                                                                                                                                                                                                                                                                                                                                                                                                                                                                                                                                                                                                                                                                                                                          0.158  0.755  0.088  -0.5152   neg       1\n",
       "Here's a sneak peek of /r/ledgerwallet using the [top posts](https://np.reddit.com/r/ledgerwallet/top/?sort=top&t=year) of the year!\\n\\n\\#1: [New line by Ledger?](https://i.redd.it/trof2z1wgj661.jpg) | [75 comments](https://np.reddit.com/r/ledgerwallet/comments/khh0mn/new_line_by_ledger/)  \\n\\#2: [security](https://i.redd.it/z2zul5oyah661.png) | [104 comments](https://np.reddit.com/r/ledgerwallet/comments/khb7zb/security/)  \\n\\#3: [I just got a death threat](https://np.reddit.com/r/ledgerwallet/comments/khzbn2/i_just_got_a_death_threat/)\\n\\n----\\n^^I'm ^^a ^^bot, ^^beep ^^boop ^^| ^^Downvote ^^to ^^remove ^^| [^^Contact ^^me](https://www.reddit.com/message/compose/?to=sneakpeekbot) ^^| [^^Info](https://np.reddit.com/r/sneakpeekbot/) ^^| [^^Opt-out](https://np.reddit.com/r/sneakpeekbot/comments/joo7mb/blacklist_viii/)                                                                                                                                                                                                                                                                                                                                                                                                                                                                                                                                                                                                                                                                                                                                                                                                                                                                                                                                                                                                                                                                                                                                                                                                                                                                                                                                                                            0.095  0.905  0.000  -0.6939   neg       1\n",
       "Here's a sneak peek of /r/NoFap using the [top posts](https://np.reddit.com/r/NoFap/top/?sort=top&t=year) of the year!\\n\\n\\#1: [Not bad at all](https://i.redd.it/14whcakvxf951.jpg) | [368 comments](https://np.reddit.com/r/NoFap/comments/hmuz47/not_bad_at_all/)  \\n\\#2: [don't make the same mistakes i made bois](https://v.redd.it/228pw3elags41) | [397 comments](https://np.reddit.com/r/NoFap/comments/g04nq1/dont_make_the_same_mistakes_i_made_bois/)  \\n\\#3: [Instead of jacking off, I made this...](https://v.redd.it/xn22zqwj97151) | [953 comments](https://np.reddit.com/r/NoFap/comments/gr8ygh/instead_of_jacking_off_i_made_this/)\\n\\n----\\n^^I'm ^^a ^^bot, ^^beep ^^boop ^^| ^^Downvote ^^to ^^remove ^^| [^^Contact ^^me](https://www.reddit.com/message/compose/?to=sneakpeekbot) ^^| [^^Info](https://np.reddit.com/r/sneakpeekbot/) ^^| [^^Opt-out](https://np.reddit.com/r/sneakpeekbot/comments/joo7mb/blacklist_viii/)                                                                                                                                                                                                                                                                                                                                                                                                                                                                                                                                                                                                                                                                                                                                                                                                                                                                                                                                                                                                                                                                                                                                                                                                                                                                                    0.112  0.888  0.000  -0.7685   neg       1\n",
       "A lot of increase in development and on community side. Maybe hydra and huge improvements in the shiny tps and fees per transaction numbers crypto retail newbies like so much. \\n\\nMore importantly further steps into self governance, since likely this will be the ultimate fud point once there are many working projects and high throughput on the Cardano network .\\n\\nOnce all that is done the actual commercialization or Cardano can start and the foundation spending money on it, this can also be quite interesting                                                                                                                                                                                                                                                                                                                                                                                                                                                                                                                                                                                                                                                                                                                                                                                                                                                                                                                                                                                                                                                                                                                                                                                                                                                                                                                                                                                                                                                                                                                                                                                                                                                                                                      0.022  0.814  0.163   0.9032   pos       1\n",
       "#Storing your ADA    \\n\\nCardano's two native wallets are:\\n\\n[**Daedalus**](https://daedaluswallet.io/) *A full node wallet available on desktop.*\\n\\n[**Yoroi**](https://yoroi-wallet.com/#/) *A light browser based wallet, and mobile app.*\\n\\nNotable third party/community wallets:\\n\\n[Adalite](https://adalite.io/) *A light web wallet.*\\n\\n[ccvault](https://ccvault.io/) *A light web wallet.*\\n\\n[Typhon Wallet](https://typhonwallet.io/) *A light web wallet.*\\n\\n[Atomic Wallet](https://atomicwallet.io/) *A light desktop/mobile wallet.*\\n\\nRead the following r/Cardano_ELI5 posts to understand more about wallets:\\n\\n* [**How do I store my ADA?**](https://www.reddit.com/r/Cardano_ELI5/comments/l00h4a/how_do_i_store_my_ada/)\\n\\n* [**Full node vs light wallet**](https://www.reddit.com/r/Cardano_ELI5/comments/l003fc/whats_the_difference_between_a_light_wallet_like/) *Explains the differences between a full node wallet like Daedalus and light wallet like Yoroi.*\\n\\n* [**Hot wallets vs cold wallets**](https://www.reddit.com/r/Cardano_ELI5/comments/l005vx/whats_the_difference_between_a_hot_wallet_like/) *Explains wallet interfaces, seed phrases, public + private keys and hardware wallets.*\\n\\n* [**How do I use a hardware wallet (like Trezor/Ledger/etc.) with Cardano?**](https://www.reddit.com/r/Cardano_ELI5/comments/lcx52o/how_do_i_use_a_hardware_wallet_like/)\\n\\nTyping `?help` in the comments will show a list of all available comment commands.\\n\\n*I am a bot, and this action was performed automatically. Please [contact the moderators of this subreddit](/message/compose/?to=/r/cardano) if you have any questions or concerns.*                                                                                                                                                                                                                                                                                                                                                                                                                                                                                                                                0.000  0.945  0.055   0.8053   pos       1\n",
       "The XRP army is composed of Saibamen                                                                                                                                                                                                                                                                                                                                                                                                                                                                                                                                                                                                                                                                                                                                                                                                                                                                                                                                                                                                                                                                                                                                                                                                                                                                                                                                                                                                                                                                                                                                                                                                                                                                                                                                                                                                                                                                                                                                                                                                                                                                                                                                                                                                    0.000  1.000  0.000   0.0000   neu       1\n",
       "dtype: int64"
      ]
     },
     "execution_count": 120,
     "metadata": {},
     "output_type": "execute_result"
    }
   ],
   "source": [
    "news2.label.value_counts()\n",
    "news2.value_counts()"
   ]
  },
  {
   "cell_type": "code",
   "execution_count": 121,
   "id": "307d0661",
   "metadata": {},
   "outputs": [
    {
     "name": "stderr",
     "output_type": "stream",
     "text": [
      "C:\\Users\\yjain7\\Anaconda3\\lib\\site-packages\\ipykernel\\ipkernel.py:287: DeprecationWarning: `should_run_async` will not call `transform_cell` automatically in the future. Please pass the result to `transformed_cell` argument and any exception that happen during thetransform in `preprocessing_exc_tuple` in IPython 7.17 and above.\n",
      "  and should_run_async(code)\n"
     ]
    },
    {
     "data": {
      "text/plain": [
       "(array([[1.73611111, 0.        , 0.        , 0.        , 0.        ,\n",
       "         2.29166667, 0.        , 0.        , 0.        , 0.97222222],\n",
       "        [0.22900763, 0.        , 0.        , 0.        , 0.        ,\n",
       "         4.46564885, 0.        , 0.        , 0.        , 0.30534351]]),\n",
       " array([0. , 0.2, 0.4, 0.6, 0.8, 1. , 1.2, 1.4, 1.6, 1.8, 2. ]),\n",
       " <a list of 2 BarContainer objects>)"
      ]
     },
     "execution_count": 121,
     "metadata": {},
     "output_type": "execute_result"
    },
    {
     "data": {
      "image/png": "[encoded data removed]",
      "text/plain": [
       "<Figure size 720x576 with 1 Axes>"
      ]
     },
     "metadata": {},
     "output_type": "display_data"
    }
   ],
   "source": [
    "plt.hist([news1.label,news2.label],color=['r','b'],density=True)"
   ]
  },
  {
   "cell_type": "code",
   "execution_count": 122,
   "id": "4eb42cfb",
   "metadata": {},
   "outputs": [
    {
     "name": "stderr",
     "output_type": "stream",
     "text": [
      "C:\\Users\\yjain7\\Anaconda3\\lib\\site-packages\\ipykernel\\ipkernel.py:287: DeprecationWarning: `should_run_async` will not call `transform_cell` automatically in the future. Please pass the result to `transformed_cell` argument and any exception that happen during thetransform in `preprocessing_exc_tuple` in IPython 7.17 and above.\n",
      "  and should_run_async(code)\n"
     ]
    },
    {
     "data": {
      "text/plain": [
       "([<matplotlib.patches.Wedge at 0x2468d506100>,\n",
       "  <matplotlib.patches.Wedge at 0x2468d5067f0>,\n",
       "  <matplotlib.patches.Wedge at 0x2468d506e80>],\n",
       " [Text(0.14357877740594222, 1.0905893519921306, 'positive'),\n",
       "  Text(-0.7431492115034988, -0.8110050859530588, 'neutral'),\n",
       "  Text(0.9010672421543007, -0.6309340893599291, 'negative')],\n",
       " [Text(0.07831569676687757, 0.5948669192684347, '45.8%'),\n",
       "  Text(-0.4053541153655447, -0.4423664105198502, '34.7%'),\n",
       "  Text(0.4914912229932549, -0.34414586692359767, '19.4%')])"
      ]
     },
     "execution_count": 122,
     "metadata": {},
     "output_type": "execute_result"
    },
    {
     "data": {
      "image/png": "[encoded data removed]",
      "text/plain": [
       "<Figure size 720x576 with 1 Axes>"
      ]
     },
     "metadata": {},
     "output_type": "display_data"
    }
   ],
   "source": [
    "plt.pie(news1.label.value_counts(),labels=['positive','neutral','negative'],autopct='%1.1f%%')"
   ]
  },
  {
   "cell_type": "code",
   "execution_count": 123,
   "id": "84ca07e4",
   "metadata": {},
   "outputs": [
    {
     "name": "stderr",
     "output_type": "stream",
     "text": [
      "C:\\Users\\yjain7\\Anaconda3\\lib\\site-packages\\ipykernel\\ipkernel.py:287: DeprecationWarning: `should_run_async` will not call `transform_cell` automatically in the future. Please pass the result to `transformed_cell` argument and any exception that happen during thetransform in `preprocessing_exc_tuple` in IPython 7.17 and above.\n",
      "  and should_run_async(code)\n"
     ]
    },
    {
     "data": {
      "text/plain": [
       "([<matplotlib.patches.Wedge at 0x246b82529a0>,\n",
       "  <matplotlib.patches.Wedge at 0x246b825e100>,\n",
       "  <matplotlib.patches.Wedge at 0x246b825e790>],\n",
       " [Text(-1.0385824443111964, 0.3624175856226915, 'positive'),\n",
       "  Text(0.9758810249112128, -0.5075984881953858, 'negative'),\n",
       "  Text(1.0886322879419064, -0.1577331342818318, 'neutral')],\n",
       " [Text(-0.5664995150788343, 0.197682319430559, '89.3%'),\n",
       "  Text(0.5322987408606614, -0.27687190265202855, '6.1%'),\n",
       "  Text(0.5937994297864944, -0.08603625506281734, '4.6%')])"
      ]
     },
     "execution_count": 123,
     "metadata": {},
     "output_type": "execute_result"
    },
    {
     "data": {
      "image/png": "[encoded data removed]",
      "text/plain": [
       "<Figure size 720x576 with 1 Axes>"
      ]
     },
     "metadata": {},
     "output_type": "display_data"
    }
   ],
   "source": [
    "plt.pie(news2.label.value_counts(),labels=['positive','negative','neutral'],autopct='%1.1f%%')"
   ]
  },
  {
   "cell_type": "code",
   "execution_count": 258,
   "id": "ec093b8c",
   "metadata": {},
   "outputs": [
    {
     "name": "stderr",
     "output_type": "stream",
     "text": [
      "C:\\Users\\yjain7\\Anaconda3\\lib\\site-packages\\ipykernel\\ipkernel.py:287: DeprecationWarning: `should_run_async` will not call `transform_cell` automatically in the future. Please pass the result to `transformed_cell` argument and any exception that happen during thetransform in `preprocessing_exc_tuple` in IPython 7.17 and above.\n",
      "  and should_run_async(code)\n"
     ]
    },
    {
     "ename": "NameError",
     "evalue": "name 'news' is not defined",
     "output_type": "error",
     "traceback": [
      "\u001b[1;31m---------------------------------------------------------------------------\u001b[0m",
      "\u001b[1;31mNameError\u001b[0m                                 Traceback (most recent call last)",
      "\u001b[1;32m<ipython-input-258-557382754cfc>\u001b[0m in \u001b[0;36m<module>\u001b[1;34m\u001b[0m\n\u001b[0;32m      5\u001b[0m \u001b[1;33m\u001b[0m\u001b[0m\n\u001b[0;32m      6\u001b[0m \u001b[1;31m# randomly sample\u001b[0m\u001b[1;33m\u001b[0m\u001b[1;33m\u001b[0m\u001b[1;33m\u001b[0m\u001b[0m\n\u001b[1;32m----> 7\u001b[1;33m \u001b[0mnews_sub\u001b[0m \u001b[1;33m=\u001b[0m \u001b[0mnews\u001b[0m\u001b[1;33m.\u001b[0m\u001b[0mgroupby\u001b[0m\u001b[1;33m(\u001b[0m\u001b[1;34m'label'\u001b[0m\u001b[1;33m)\u001b[0m\u001b[1;33m.\u001b[0m\u001b[0msample\u001b[0m\u001b[1;33m(\u001b[0m\u001b[0mn\u001b[0m \u001b[1;33m=\u001b[0m \u001b[1;36m5\u001b[0m\u001b[1;33m,\u001b[0m \u001b[0mrandom_state\u001b[0m \u001b[1;33m=\u001b[0m \u001b[1;36m7\u001b[0m\u001b[1;33m)\u001b[0m\u001b[1;33m\u001b[0m\u001b[1;33m\u001b[0m\u001b[0m\n\u001b[0m\u001b[0;32m      8\u001b[0m \u001b[1;33m\u001b[0m\u001b[0m\n\u001b[0;32m      9\u001b[0m \u001b[0mprint\u001b[0m\u001b[1;33m(\u001b[0m\u001b[1;34m\"Positive news\"\u001b[0m\u001b[1;33m)\u001b[0m\u001b[1;33m\u001b[0m\u001b[1;33m\u001b[0m\u001b[0m\n",
      "\u001b[1;31mNameError\u001b[0m: name 'news' is not defined"
     ]
    }
   ],
   "source": [
    "def news_title_output(df, label):\n",
    "  res = df[df['label'] == label].title.values\n",
    "  print(f'{\"=\" * 20}')\n",
    "  print(\"\\n\".join(title for title in res))\n",
    "\n",
    "# randomly sample\n",
    "news_sub = news.groupby('label').sample(n = 5, random_state = 7)\n",
    "\n",
    "print(\"Positive news\")\n",
    "news_title_output(news_sub, \"pos\")\n",
    "\n",
    "print(\"\\nNeutral news\")\n",
    "news_title_output(news_sub, \"neu\")\n",
    "\n",
    "print(\"\\nNegative news\")\n",
    "news_title_output(news_sub, \"neg\")"
   ]
  },
  {
   "cell_type": "code",
   "execution_count": 19,
   "id": "f68d985f",
   "metadata": {},
   "outputs": [
    {
     "name": "stdout",
     "output_type": "stream",
     "text": [
      "['Let', \"'s\", 'see', 'how', 'the', 'NLTK', 'tokenizer', 'works', '!']\n",
      "[\"Let's\", 'see', 'how', 'the', 'NLTK', 'tokenizer', 'works!']\n",
      "['Let', 's', 'see', 'how', 'the', 'NLTK', 'tokenizer', 'works']\n"
     ]
    }
   ],
   "source": [
    "text = \"Let's see how the NLTK tokenizer works!\"\n",
    "\n",
    "# using word tokenizer\n",
    "print(nltk.word_tokenize(text))\n",
    "\n",
    "# using regexp tokenizer\n",
    "tk = nltk.tokenize.RegexpTokenizer(r'\\s+', gaps=True) # split on whitespace\n",
    "print(tk.tokenize(text))\n",
    "\n",
    "tk = nltk.tokenize.RegexpTokenizer(r'\\w+') # remove punct\n",
    "print(tk.tokenize(text))"
   ]
  },
  {
   "cell_type": "code",
   "execution_count": 20,
   "id": "c1dea25e",
   "metadata": {},
   "outputs": [
    {
     "name": "stdout",
     "output_type": "stream",
     "text": [
      "179\n",
      "['i', 'me', 'my', 'myself', 'we']\n"
     ]
    }
   ],
   "source": [
    "stop_words = stopwords.words('english')\n",
    "print(len(stop_words))\n",
    "print(stop_words[:5])"
   ]
  },
  {
   "cell_type": "code",
   "execution_count": 21,
   "id": "0f12ca0b",
   "metadata": {},
   "outputs": [
    {
     "name": "stdout",
     "output_type": "stream",
     "text": [
      "['lets', 'see', 'nltk', 'tokenizer', 'works']\n"
     ]
    }
   ],
   "source": [
    "def custom_tokenize(text):\n",
    "  # remove single quote and dashes\n",
    "  text = text.replace(\"'\", \"\").replace(\"-\", \"\").lower()\n",
    "\n",
    "  # split on words only\n",
    "  tk = nltk.tokenize.RegexpTokenizer(r'\\w+')\n",
    "  tokens = tk.tokenize(text)\n",
    "\n",
    "  # remove stop words\n",
    "  words = [w for w in tokens if not w in stop_words]\n",
    "  return words\n",
    "\n",
    "print(custom_tokenize(text))"
   ]
  },
  {
   "cell_type": "code",
   "execution_count": 22,
   "id": "eb834d7d",
   "metadata": {},
   "outputs": [],
   "source": [
    "def tokens_2_words(df, label):\n",
    "  # subset titles based on label\n",
    "  titles = df[df['label'] == label].title\n",
    "  # apply our custom tokenize function to each title\n",
    "  tokens = titles.apply(custom_tokenize)\n",
    "  # join nested lists into a single list\n",
    "  words = list(chain.from_iterable(tokens))\n",
    "  return words\n",
    "\n",
    "pos_words = tokens_2_words(news, 'pos')\n",
    "neg_words = tokens_2_words(news, 'neg')"
   ]
  },
  {
   "cell_type": "code",
   "execution_count": 23,
   "id": "8c431722",
   "metadata": {},
   "outputs": [
    {
     "data": {
      "text/plain": [
       "[('bitcoin', 131),\n",
       " ('like', 33),\n",
       " ('crypto', 20),\n",
       " ('000', 20),\n",
       " ('btc', 19),\n",
       " ('1', 18),\n",
       " ('worth', 15),\n",
       " ('new', 15),\n",
       " ('get', 15),\n",
       " ('years', 15),\n",
       " ('time', 14),\n",
       " ('year', 14),\n",
       " ('would', 13),\n",
       " ('today', 13),\n",
       " ('bitcoins', 12),\n",
       " ('best', 12),\n",
       " ('3', 11),\n",
       " ('buy', 10),\n",
       " ('free', 10),\n",
       " ('one', 10)]"
      ]
     },
     "execution_count": 23,
     "metadata": {},
     "output_type": "execute_result"
    }
   ],
   "source": [
    "pos_freq = nltk.FreqDist(pos_words)\n",
    "pos_freq.most_common(20)"
   ]
  },
  {
   "cell_type": "code",
   "execution_count": 24,
   "id": "9a4b4eff",
   "metadata": {},
   "outputs": [
    {
     "data": {
      "text/plain": [
       "[('bitcoin', 57),\n",
       " ('ban', 9),\n",
       " ('btc', 9),\n",
       " ('000', 9),\n",
       " ('bank', 8),\n",
       " ('money', 8),\n",
       " ('dont', 7),\n",
       " ('stop', 6),\n",
       " ('used', 6),\n",
       " ('cash', 6),\n",
       " ('bought', 5),\n",
       " ('day', 5),\n",
       " ('old', 5),\n",
       " ('going', 5),\n",
       " ('time', 5),\n",
       " ('next', 5),\n",
       " ('coinbase', 5),\n",
       " ('crypto', 5),\n",
       " ('ago', 5),\n",
       " ('robinhood', 4)]"
      ]
     },
     "execution_count": 24,
     "metadata": {},
     "output_type": "execute_result"
    }
   ],
   "source": [
    "neg_freq = nltk.FreqDist(neg_words)\n",
    "neg_freq.most_common(20)"
   ]
  },
  {
   "cell_type": "code",
   "execution_count": null,
   "id": "83d76c2b",
   "metadata": {},
   "outputs": [],
   "source": []
  },
  {
   "cell_type": "code",
   "execution_count": null,
   "id": "54bd9064",
   "metadata": {},
   "outputs": [],
   "source": []
  },
  {
   "cell_type": "code",
   "execution_count": null,
   "id": "c1b791f0",
   "metadata": {},
   "outputs": [],
   "source": []
  },
  {
   "cell_type": "code",
   "execution_count": null,
   "id": "96e91eb1",
   "metadata": {},
   "outputs": [],
   "source": []
  },
  {
   "cell_type": "code",
   "execution_count": null,
   "id": "64583a26",
   "metadata": {},
   "outputs": [],
   "source": []
  },
  {
   "cell_type": "code",
   "execution_count": null,
   "id": "2e571436",
   "metadata": {},
   "outputs": [],
   "source": []
  },
  {
   "cell_type": "code",
   "execution_count": null,
   "id": "a0f0e572",
   "metadata": {},
   "outputs": [],
   "source": []
  },
  {
   "cell_type": "code",
   "execution_count": null,
   "id": "b9a1bc64",
   "metadata": {},
   "outputs": [],
   "source": []
  },
  {
   "cell_type": "code",
   "execution_count": null,
   "id": "e04b6093",
   "metadata": {},
   "outputs": [],
   "source": []
  },
  {
   "cell_type": "code",
   "execution_count": null,
   "id": "479243fd",
   "metadata": {},
   "outputs": [],
   "source": []
  },
  {
   "cell_type": "code",
   "execution_count": null,
   "id": "63ee97fe",
   "metadata": {},
   "outputs": [],
   "source": []
  }
 ],
 "metadata": {
  "kernelspec": {
   "display_name": "Python 3",
   "language": "python",
   "name": "python3"
  },
  "language_info": {
   "codemirror_mode": {
    "name": "ipython",
    "version": 3
   },
   "file_extension": ".py",
   "mimetype": "text/x-python",
   "name": "python",
   "nbconvert_exporter": "python",
   "pygments_lexer": "ipython3",
   "version": "3.8.8"
  }
 },
 "nbformat": 4,
 "nbformat_minor": 5
}
